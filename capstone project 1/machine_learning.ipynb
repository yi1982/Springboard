{
 "cells": [
  {
   "cell_type": "code",
   "execution_count": 12,
   "metadata": {},
   "outputs": [],
   "source": [
    "#import pandas\n",
    "import pandas as pd\n",
    "#import numpy\n",
    "import numpy as np\n",
    "#import matplotlib\n",
    "import matplotlib.pyplot as plt\n",
    "#import seaborn\n",
    "import seaborn as sns\n",
    "#import scipy.stats\n",
    "import scipy.stats as stats "
   ]
  },
  {
   "cell_type": "code",
   "execution_count": 13,
   "metadata": {},
   "outputs": [],
   "source": [
    "#change directory\n",
    "import os\n",
    "os.chdir('C:\\LY\\springboard\\capstone projects\\cervical cancer')"
   ]
  },
  {
   "cell_type": "code",
   "execution_count": 14,
   "metadata": {},
   "outputs": [],
   "source": [
    "filename = \"cervical_cancer_data_wrangling.csv\""
   ]
  },
  {
   "cell_type": "code",
   "execution_count": 15,
   "metadata": {},
   "outputs": [],
   "source": [
    "data = pd.read_csv(filename)"
   ]
  },
  {
   "cell_type": "code",
   "execution_count": 16,
   "metadata": {},
   "outputs": [
    {
     "name": "stdout",
     "output_type": "stream",
     "text": [
      "<class 'pandas.core.frame.DataFrame'>\n",
      "RangeIndex: 858 entries, 0 to 857\n",
      "Data columns (total 37 columns):\n",
      "Unnamed: 0                            858 non-null int64\n",
      "Age                                   858 non-null int64\n",
      "Number of sexual partners             858 non-null float64\n",
      "First sexual intercourse              858 non-null float64\n",
      "Num of pregnancies                    858 non-null float64\n",
      "Smokes                                858 non-null float64\n",
      "Smokes (years)                        858 non-null float64\n",
      "Smokes (packs/year)                   858 non-null float64\n",
      "Hormonal Contraceptives               858 non-null float64\n",
      "Hormonal Contraceptives (years)       858 non-null float64\n",
      "IUD                                   858 non-null float64\n",
      "IUD (years)                           858 non-null float64\n",
      "STDs                                  858 non-null float64\n",
      "STDs (number)                         858 non-null float64\n",
      "STDs:condylomatosis                   858 non-null float64\n",
      "STDs:cervical condylomatosis          858 non-null float64\n",
      "STDs:vaginal condylomatosis           858 non-null float64\n",
      "STDs:vulvo-perineal condylomatosis    858 non-null float64\n",
      "STDs:syphilis                         858 non-null float64\n",
      "STDs:pelvic inflammatory disease      858 non-null float64\n",
      "STDs:genital herpes                   858 non-null float64\n",
      "STDs:molluscum contagiosum            858 non-null float64\n",
      "STDs:AIDS                             858 non-null float64\n",
      "STDs:HIV                              858 non-null float64\n",
      "STDs:Hepatitis B                      858 non-null float64\n",
      "STDs:HPV                              858 non-null float64\n",
      "STDs: Number of diagnosis             858 non-null int64\n",
      "STDs: Time since first diagnosis      71 non-null float64\n",
      "STDs: Time since last diagnosis       71 non-null float64\n",
      "Dx:Cancer                             858 non-null int64\n",
      "Dx:CIN                                858 non-null int64\n",
      "Dx:HPV                                858 non-null int64\n",
      "Dx                                    858 non-null int64\n",
      "Hinselmann                            858 non-null int64\n",
      "Schiller                              858 non-null int64\n",
      "Citology                              858 non-null int64\n",
      "Biopsy                                858 non-null int64\n",
      "dtypes: float64(26), int64(11)\n",
      "memory usage: 248.1 KB\n"
     ]
    }
   ],
   "source": [
    "data.info()"
   ]
  },
  {
   "cell_type": "code",
   "execution_count": 17,
   "metadata": {},
   "outputs": [
    {
     "data": {
      "text/html": [
       "<div>\n",
       "<style scoped>\n",
       "    .dataframe tbody tr th:only-of-type {\n",
       "        vertical-align: middle;\n",
       "    }\n",
       "\n",
       "    .dataframe tbody tr th {\n",
       "        vertical-align: top;\n",
       "    }\n",
       "\n",
       "    .dataframe thead th {\n",
       "        text-align: right;\n",
       "    }\n",
       "</style>\n",
       "<table border=\"1\" class=\"dataframe\">\n",
       "  <thead>\n",
       "    <tr style=\"text-align: right;\">\n",
       "      <th></th>\n",
       "      <th>Age</th>\n",
       "      <th>Number of sexual partners</th>\n",
       "      <th>First sexual intercourse</th>\n",
       "      <th>Num of pregnancies</th>\n",
       "      <th>Smokes</th>\n",
       "      <th>Smokes (years)</th>\n",
       "      <th>Smokes (packs/year)</th>\n",
       "      <th>Hormonal Contraceptives</th>\n",
       "      <th>Hormonal Contraceptives (years)</th>\n",
       "      <th>IUD</th>\n",
       "      <th>...</th>\n",
       "      <th>STDs:AIDS</th>\n",
       "      <th>STDs:HIV</th>\n",
       "      <th>STDs:Hepatitis B</th>\n",
       "      <th>STDs:HPV</th>\n",
       "      <th>STDs: Number of diagnosis</th>\n",
       "      <th>Dx:Cancer</th>\n",
       "      <th>Dx:CIN</th>\n",
       "      <th>Dx:HPV</th>\n",
       "      <th>Dx</th>\n",
       "      <th>Biopsy</th>\n",
       "    </tr>\n",
       "  </thead>\n",
       "  <tbody>\n",
       "    <tr>\n",
       "      <th>count</th>\n",
       "      <td>858.000000</td>\n",
       "      <td>858.000000</td>\n",
       "      <td>858.000000</td>\n",
       "      <td>858.000000</td>\n",
       "      <td>858.000000</td>\n",
       "      <td>858.000000</td>\n",
       "      <td>858.000000</td>\n",
       "      <td>858.000000</td>\n",
       "      <td>858.000000</td>\n",
       "      <td>858.000000</td>\n",
       "      <td>...</td>\n",
       "      <td>858.0</td>\n",
       "      <td>858.000000</td>\n",
       "      <td>858.000000</td>\n",
       "      <td>858.000000</td>\n",
       "      <td>858.000000</td>\n",
       "      <td>858.000000</td>\n",
       "      <td>858.000000</td>\n",
       "      <td>858.000000</td>\n",
       "      <td>858.000000</td>\n",
       "      <td>858.000000</td>\n",
       "    </tr>\n",
       "    <tr>\n",
       "      <th>mean</th>\n",
       "      <td>26.820513</td>\n",
       "      <td>2.511655</td>\n",
       "      <td>16.995338</td>\n",
       "      <td>2.257576</td>\n",
       "      <td>0.143357</td>\n",
       "      <td>1.201241</td>\n",
       "      <td>0.446278</td>\n",
       "      <td>0.686480</td>\n",
       "      <td>2.035331</td>\n",
       "      <td>0.096737</td>\n",
       "      <td>...</td>\n",
       "      <td>0.0</td>\n",
       "      <td>0.020979</td>\n",
       "      <td>0.001166</td>\n",
       "      <td>0.002331</td>\n",
       "      <td>0.087413</td>\n",
       "      <td>0.020979</td>\n",
       "      <td>0.010490</td>\n",
       "      <td>0.020979</td>\n",
       "      <td>0.027972</td>\n",
       "      <td>0.064103</td>\n",
       "    </tr>\n",
       "    <tr>\n",
       "      <th>std</th>\n",
       "      <td>8.497948</td>\n",
       "      <td>1.644759</td>\n",
       "      <td>2.791883</td>\n",
       "      <td>1.400981</td>\n",
       "      <td>0.350641</td>\n",
       "      <td>4.060623</td>\n",
       "      <td>2.210351</td>\n",
       "      <td>0.464194</td>\n",
       "      <td>3.567040</td>\n",
       "      <td>0.295771</td>\n",
       "      <td>...</td>\n",
       "      <td>0.0</td>\n",
       "      <td>0.143398</td>\n",
       "      <td>0.034139</td>\n",
       "      <td>0.048252</td>\n",
       "      <td>0.302545</td>\n",
       "      <td>0.143398</td>\n",
       "      <td>0.101939</td>\n",
       "      <td>0.143398</td>\n",
       "      <td>0.164989</td>\n",
       "      <td>0.245078</td>\n",
       "    </tr>\n",
       "    <tr>\n",
       "      <th>min</th>\n",
       "      <td>13.000000</td>\n",
       "      <td>1.000000</td>\n",
       "      <td>10.000000</td>\n",
       "      <td>0.000000</td>\n",
       "      <td>0.000000</td>\n",
       "      <td>0.000000</td>\n",
       "      <td>0.000000</td>\n",
       "      <td>0.000000</td>\n",
       "      <td>0.000000</td>\n",
       "      <td>0.000000</td>\n",
       "      <td>...</td>\n",
       "      <td>0.0</td>\n",
       "      <td>0.000000</td>\n",
       "      <td>0.000000</td>\n",
       "      <td>0.000000</td>\n",
       "      <td>0.000000</td>\n",
       "      <td>0.000000</td>\n",
       "      <td>0.000000</td>\n",
       "      <td>0.000000</td>\n",
       "      <td>0.000000</td>\n",
       "      <td>0.000000</td>\n",
       "    </tr>\n",
       "    <tr>\n",
       "      <th>25%</th>\n",
       "      <td>20.000000</td>\n",
       "      <td>2.000000</td>\n",
       "      <td>15.000000</td>\n",
       "      <td>1.000000</td>\n",
       "      <td>0.000000</td>\n",
       "      <td>0.000000</td>\n",
       "      <td>0.000000</td>\n",
       "      <td>0.000000</td>\n",
       "      <td>0.000000</td>\n",
       "      <td>0.000000</td>\n",
       "      <td>...</td>\n",
       "      <td>0.0</td>\n",
       "      <td>0.000000</td>\n",
       "      <td>0.000000</td>\n",
       "      <td>0.000000</td>\n",
       "      <td>0.000000</td>\n",
       "      <td>0.000000</td>\n",
       "      <td>0.000000</td>\n",
       "      <td>0.000000</td>\n",
       "      <td>0.000000</td>\n",
       "      <td>0.000000</td>\n",
       "    </tr>\n",
       "    <tr>\n",
       "      <th>50%</th>\n",
       "      <td>25.000000</td>\n",
       "      <td>2.000000</td>\n",
       "      <td>17.000000</td>\n",
       "      <td>2.000000</td>\n",
       "      <td>0.000000</td>\n",
       "      <td>0.000000</td>\n",
       "      <td>0.000000</td>\n",
       "      <td>1.000000</td>\n",
       "      <td>0.500000</td>\n",
       "      <td>0.000000</td>\n",
       "      <td>...</td>\n",
       "      <td>0.0</td>\n",
       "      <td>0.000000</td>\n",
       "      <td>0.000000</td>\n",
       "      <td>0.000000</td>\n",
       "      <td>0.000000</td>\n",
       "      <td>0.000000</td>\n",
       "      <td>0.000000</td>\n",
       "      <td>0.000000</td>\n",
       "      <td>0.000000</td>\n",
       "      <td>0.000000</td>\n",
       "    </tr>\n",
       "    <tr>\n",
       "      <th>75%</th>\n",
       "      <td>32.000000</td>\n",
       "      <td>3.000000</td>\n",
       "      <td>18.000000</td>\n",
       "      <td>3.000000</td>\n",
       "      <td>0.000000</td>\n",
       "      <td>0.000000</td>\n",
       "      <td>0.000000</td>\n",
       "      <td>1.000000</td>\n",
       "      <td>2.000000</td>\n",
       "      <td>0.000000</td>\n",
       "      <td>...</td>\n",
       "      <td>0.0</td>\n",
       "      <td>0.000000</td>\n",
       "      <td>0.000000</td>\n",
       "      <td>0.000000</td>\n",
       "      <td>0.000000</td>\n",
       "      <td>0.000000</td>\n",
       "      <td>0.000000</td>\n",
       "      <td>0.000000</td>\n",
       "      <td>0.000000</td>\n",
       "      <td>0.000000</td>\n",
       "    </tr>\n",
       "    <tr>\n",
       "      <th>max</th>\n",
       "      <td>84.000000</td>\n",
       "      <td>28.000000</td>\n",
       "      <td>32.000000</td>\n",
       "      <td>11.000000</td>\n",
       "      <td>1.000000</td>\n",
       "      <td>37.000000</td>\n",
       "      <td>37.000000</td>\n",
       "      <td>1.000000</td>\n",
       "      <td>30.000000</td>\n",
       "      <td>1.000000</td>\n",
       "      <td>...</td>\n",
       "      <td>0.0</td>\n",
       "      <td>1.000000</td>\n",
       "      <td>1.000000</td>\n",
       "      <td>1.000000</td>\n",
       "      <td>3.000000</td>\n",
       "      <td>1.000000</td>\n",
       "      <td>1.000000</td>\n",
       "      <td>1.000000</td>\n",
       "      <td>1.000000</td>\n",
       "      <td>1.000000</td>\n",
       "    </tr>\n",
       "  </tbody>\n",
       "</table>\n",
       "<p>8 rows × 31 columns</p>\n",
       "</div>"
      ],
      "text/plain": [
       "              Age  Number of sexual partners  First sexual intercourse  \\\n",
       "count  858.000000                 858.000000                858.000000   \n",
       "mean    26.820513                   2.511655                 16.995338   \n",
       "std      8.497948                   1.644759                  2.791883   \n",
       "min     13.000000                   1.000000                 10.000000   \n",
       "25%     20.000000                   2.000000                 15.000000   \n",
       "50%     25.000000                   2.000000                 17.000000   \n",
       "75%     32.000000                   3.000000                 18.000000   \n",
       "max     84.000000                  28.000000                 32.000000   \n",
       "\n",
       "       Num of pregnancies      Smokes  Smokes (years)  Smokes (packs/year)  \\\n",
       "count          858.000000  858.000000      858.000000           858.000000   \n",
       "mean             2.257576    0.143357        1.201241             0.446278   \n",
       "std              1.400981    0.350641        4.060623             2.210351   \n",
       "min              0.000000    0.000000        0.000000             0.000000   \n",
       "25%              1.000000    0.000000        0.000000             0.000000   \n",
       "50%              2.000000    0.000000        0.000000             0.000000   \n",
       "75%              3.000000    0.000000        0.000000             0.000000   \n",
       "max             11.000000    1.000000       37.000000            37.000000   \n",
       "\n",
       "       Hormonal Contraceptives  Hormonal Contraceptives (years)         IUD  \\\n",
       "count               858.000000                       858.000000  858.000000   \n",
       "mean                  0.686480                         2.035331    0.096737   \n",
       "std                   0.464194                         3.567040    0.295771   \n",
       "min                   0.000000                         0.000000    0.000000   \n",
       "25%                   0.000000                         0.000000    0.000000   \n",
       "50%                   1.000000                         0.500000    0.000000   \n",
       "75%                   1.000000                         2.000000    0.000000   \n",
       "max                   1.000000                        30.000000    1.000000   \n",
       "\n",
       "       ...  STDs:AIDS    STDs:HIV  STDs:Hepatitis B    STDs:HPV  \\\n",
       "count  ...      858.0  858.000000        858.000000  858.000000   \n",
       "mean   ...        0.0    0.020979          0.001166    0.002331   \n",
       "std    ...        0.0    0.143398          0.034139    0.048252   \n",
       "min    ...        0.0    0.000000          0.000000    0.000000   \n",
       "25%    ...        0.0    0.000000          0.000000    0.000000   \n",
       "50%    ...        0.0    0.000000          0.000000    0.000000   \n",
       "75%    ...        0.0    0.000000          0.000000    0.000000   \n",
       "max    ...        0.0    1.000000          1.000000    1.000000   \n",
       "\n",
       "       STDs: Number of diagnosis   Dx:Cancer      Dx:CIN      Dx:HPV  \\\n",
       "count                 858.000000  858.000000  858.000000  858.000000   \n",
       "mean                    0.087413    0.020979    0.010490    0.020979   \n",
       "std                     0.302545    0.143398    0.101939    0.143398   \n",
       "min                     0.000000    0.000000    0.000000    0.000000   \n",
       "25%                     0.000000    0.000000    0.000000    0.000000   \n",
       "50%                     0.000000    0.000000    0.000000    0.000000   \n",
       "75%                     0.000000    0.000000    0.000000    0.000000   \n",
       "max                     3.000000    1.000000    1.000000    1.000000   \n",
       "\n",
       "               Dx      Biopsy  \n",
       "count  858.000000  858.000000  \n",
       "mean     0.027972    0.064103  \n",
       "std      0.164989    0.245078  \n",
       "min      0.000000    0.000000  \n",
       "25%      0.000000    0.000000  \n",
       "50%      0.000000    0.000000  \n",
       "75%      0.000000    0.000000  \n",
       "max      1.000000    1.000000  \n",
       "\n",
       "[8 rows x 31 columns]"
      ]
     },
     "execution_count": 17,
     "metadata": {},
     "output_type": "execute_result"
    }
   ],
   "source": [
    "#drop columns\n",
    "df_new = data.drop(['Unnamed: 0','STDs: Time since first diagnosis','STDs: Time since last diagnosis','Hinselmann','Schiller','Citology'],axis=1)\n",
    "df_new.describe()"
   ]
  },
  {
   "cell_type": "code",
   "execution_count": 18,
   "metadata": {},
   "outputs": [],
   "source": [
    "#cols with numeric data\n",
    "numeric_cols = ['Age','Number of sexual partners', 'First sexual intercourse', 'Num of pregnancies', 'Smokes (years)', \n",
    "                'Smokes (packs/year)', 'Hormonal Contraceptives (years)', 'IUD (years)', 'STDs (number)',\n",
    "                'STDs: Number of diagnosis']"
   ]
  },
  {
   "cell_type": "code",
   "execution_count": 19,
   "metadata": {},
   "outputs": [],
   "source": [
    "#cols with catagorical data\n",
    "cata_cols = ['Smokes', 'Hormonal Contraceptives', 'IUD', 'STDs', 'STDs:condylomatosis', 'STDs:cervical condylomatosis', 'STDs:vaginal condylomatosis', \n",
    "             'STDs:vulvo-perineal condylomatosis', 'STDs:syphilis', 'STDs:pelvic inflammatory disease', 'STDs:genital herpes', \n",
    "             'STDs:molluscum contagiosum', 'STDs:AIDS', 'STDs:HIV', 'STDs:Hepatitis B', 'STDs:HPV', 'Dx:Cancer', 'Dx:CIN',\n",
    "             'Dx:HPV', 'Dx']"
   ]
  },
  {
   "cell_type": "code",
   "execution_count": 20,
   "metadata": {},
   "outputs": [
    {
     "data": {
      "text/plain": [
       "Index(['Age', 'Number of sexual partners', 'First sexual intercourse',\n",
       "       'Num of pregnancies', 'Smokes', 'Smokes (years)', 'Smokes (packs/year)',\n",
       "       'Hormonal Contraceptives', 'Hormonal Contraceptives (years)', 'IUD',\n",
       "       'IUD (years)', 'STDs', 'STDs (number)', 'STDs:condylomatosis',\n",
       "       'STDs:cervical condylomatosis', 'STDs:vaginal condylomatosis',\n",
       "       'STDs:vulvo-perineal condylomatosis', 'STDs:syphilis',\n",
       "       'STDs:pelvic inflammatory disease', 'STDs:genital herpes',\n",
       "       'STDs:molluscum contagiosum', 'STDs:AIDS', 'STDs:HIV',\n",
       "       'STDs:Hepatitis B', 'STDs:HPV', 'STDs: Number of diagnosis',\n",
       "       'Dx:Cancer', 'Dx:CIN', 'Dx:HPV', 'Dx', 'Biopsy'],\n",
       "      dtype='object')"
      ]
     },
     "execution_count": 20,
     "metadata": {},
     "output_type": "execute_result"
    }
   ],
   "source": [
    "df_new.columns"
   ]
  },
  {
   "cell_type": "markdown",
   "metadata": {},
   "source": [
    "# preprocessing"
   ]
  },
  {
   "cell_type": "code",
   "execution_count": 22,
   "metadata": {},
   "outputs": [
    {
     "data": {
      "text/html": [
       "<div>\n",
       "<style scoped>\n",
       "    .dataframe tbody tr th:only-of-type {\n",
       "        vertical-align: middle;\n",
       "    }\n",
       "\n",
       "    .dataframe tbody tr th {\n",
       "        vertical-align: top;\n",
       "    }\n",
       "\n",
       "    .dataframe thead th {\n",
       "        text-align: right;\n",
       "    }\n",
       "</style>\n",
       "<table border=\"1\" class=\"dataframe\">\n",
       "  <thead>\n",
       "    <tr style=\"text-align: right;\">\n",
       "      <th></th>\n",
       "      <th>Age</th>\n",
       "      <th>Number of sexual partners</th>\n",
       "      <th>First sexual intercourse</th>\n",
       "      <th>Num of pregnancies</th>\n",
       "      <th>Smokes</th>\n",
       "      <th>Smokes (years)</th>\n",
       "      <th>Smokes (packs/year)</th>\n",
       "      <th>Hormonal Contraceptives</th>\n",
       "      <th>Hormonal Contraceptives (years)</th>\n",
       "      <th>IUD</th>\n",
       "      <th>...</th>\n",
       "      <th>STDs:AIDS</th>\n",
       "      <th>STDs:HIV</th>\n",
       "      <th>STDs:Hepatitis B</th>\n",
       "      <th>STDs:HPV</th>\n",
       "      <th>STDs: Number of diagnosis</th>\n",
       "      <th>Dx:Cancer</th>\n",
       "      <th>Dx:CIN</th>\n",
       "      <th>Dx:HPV</th>\n",
       "      <th>Dx</th>\n",
       "      <th>Biopsy</th>\n",
       "    </tr>\n",
       "  </thead>\n",
       "  <tbody>\n",
       "    <tr>\n",
       "      <th>count</th>\n",
       "      <td>8.580000e+02</td>\n",
       "      <td>8.580000e+02</td>\n",
       "      <td>8.580000e+02</td>\n",
       "      <td>8.580000e+02</td>\n",
       "      <td>8.580000e+02</td>\n",
       "      <td>8.580000e+02</td>\n",
       "      <td>8.580000e+02</td>\n",
       "      <td>8.580000e+02</td>\n",
       "      <td>8.580000e+02</td>\n",
       "      <td>8.580000e+02</td>\n",
       "      <td>...</td>\n",
       "      <td>858.0</td>\n",
       "      <td>8.580000e+02</td>\n",
       "      <td>8.580000e+02</td>\n",
       "      <td>8.580000e+02</td>\n",
       "      <td>8.580000e+02</td>\n",
       "      <td>8.580000e+02</td>\n",
       "      <td>8.580000e+02</td>\n",
       "      <td>8.580000e+02</td>\n",
       "      <td>8.580000e+02</td>\n",
       "      <td>858.000000</td>\n",
       "    </tr>\n",
       "    <tr>\n",
       "      <th>mean</th>\n",
       "      <td>3.718212e-16</td>\n",
       "      <td>1.907306e-16</td>\n",
       "      <td>7.660280e-17</td>\n",
       "      <td>2.207506e-16</td>\n",
       "      <td>7.466185e-17</td>\n",
       "      <td>-9.562410e-17</td>\n",
       "      <td>-1.412364e-16</td>\n",
       "      <td>3.874135e-16</td>\n",
       "      <td>-1.451183e-16</td>\n",
       "      <td>3.562289e-16</td>\n",
       "      <td>...</td>\n",
       "      <td>0.0</td>\n",
       "      <td>2.842197e-16</td>\n",
       "      <td>2.952831e-16</td>\n",
       "      <td>3.236695e-16</td>\n",
       "      <td>-6.870961e-17</td>\n",
       "      <td>1.511353e-16</td>\n",
       "      <td>-3.002002e-17</td>\n",
       "      <td>4.296615e-16</td>\n",
       "      <td>-3.340374e-16</td>\n",
       "      <td>0.064103</td>\n",
       "    </tr>\n",
       "    <tr>\n",
       "      <th>std</th>\n",
       "      <td>1.000583e+00</td>\n",
       "      <td>1.000583e+00</td>\n",
       "      <td>1.000583e+00</td>\n",
       "      <td>1.000583e+00</td>\n",
       "      <td>1.000583e+00</td>\n",
       "      <td>1.000583e+00</td>\n",
       "      <td>1.000583e+00</td>\n",
       "      <td>1.000583e+00</td>\n",
       "      <td>1.000583e+00</td>\n",
       "      <td>1.000583e+00</td>\n",
       "      <td>...</td>\n",
       "      <td>0.0</td>\n",
       "      <td>1.000583e+00</td>\n",
       "      <td>1.000583e+00</td>\n",
       "      <td>1.000583e+00</td>\n",
       "      <td>1.000583e+00</td>\n",
       "      <td>1.000583e+00</td>\n",
       "      <td>1.000583e+00</td>\n",
       "      <td>1.000583e+00</td>\n",
       "      <td>1.000583e+00</td>\n",
       "      <td>0.245078</td>\n",
       "    </tr>\n",
       "    <tr>\n",
       "      <th>min</th>\n",
       "      <td>-1.627284e+00</td>\n",
       "      <td>-9.196100e-01</td>\n",
       "      <td>-2.507060e+00</td>\n",
       "      <td>-1.612364e+00</td>\n",
       "      <td>-4.090806e-01</td>\n",
       "      <td>-2.959993e-01</td>\n",
       "      <td>-2.020215e-01</td>\n",
       "      <td>-1.479727e+00</td>\n",
       "      <td>-5.709267e-01</td>\n",
       "      <td>-3.272564e-01</td>\n",
       "      <td>...</td>\n",
       "      <td>0.0</td>\n",
       "      <td>-1.463850e-01</td>\n",
       "      <td>-3.415935e-02</td>\n",
       "      <td>-4.833682e-02</td>\n",
       "      <td>-2.890930e-01</td>\n",
       "      <td>-1.463850e-01</td>\n",
       "      <td>-1.029597e-01</td>\n",
       "      <td>-1.463850e-01</td>\n",
       "      <td>-1.696378e-01</td>\n",
       "      <td>0.000000</td>\n",
       "    </tr>\n",
       "    <tr>\n",
       "      <th>25%</th>\n",
       "      <td>-8.030752e-01</td>\n",
       "      <td>-3.112635e-01</td>\n",
       "      <td>-7.151094e-01</td>\n",
       "      <td>-8.981627e-01</td>\n",
       "      <td>-4.090806e-01</td>\n",
       "      <td>-2.959993e-01</td>\n",
       "      <td>-2.020215e-01</td>\n",
       "      <td>-1.479727e+00</td>\n",
       "      <td>-5.709267e-01</td>\n",
       "      <td>-3.272564e-01</td>\n",
       "      <td>...</td>\n",
       "      <td>0.0</td>\n",
       "      <td>-1.463850e-01</td>\n",
       "      <td>-3.415935e-02</td>\n",
       "      <td>-4.833682e-02</td>\n",
       "      <td>-2.890930e-01</td>\n",
       "      <td>-1.463850e-01</td>\n",
       "      <td>-1.029597e-01</td>\n",
       "      <td>-1.463850e-01</td>\n",
       "      <td>-1.696378e-01</td>\n",
       "      <td>0.000000</td>\n",
       "    </tr>\n",
       "    <tr>\n",
       "      <th>50%</th>\n",
       "      <td>-2.143546e-01</td>\n",
       "      <td>-3.112635e-01</td>\n",
       "      <td>1.670816e-03</td>\n",
       "      <td>-1.839610e-01</td>\n",
       "      <td>-4.090806e-01</td>\n",
       "      <td>-2.959993e-01</td>\n",
       "      <td>-2.020215e-01</td>\n",
       "      <td>6.758005e-01</td>\n",
       "      <td>-4.306727e-01</td>\n",
       "      <td>-3.272564e-01</td>\n",
       "      <td>...</td>\n",
       "      <td>0.0</td>\n",
       "      <td>-1.463850e-01</td>\n",
       "      <td>-3.415935e-02</td>\n",
       "      <td>-4.833682e-02</td>\n",
       "      <td>-2.890930e-01</td>\n",
       "      <td>-1.463850e-01</td>\n",
       "      <td>-1.029597e-01</td>\n",
       "      <td>-1.463850e-01</td>\n",
       "      <td>-1.696378e-01</td>\n",
       "      <td>0.000000</td>\n",
       "    </tr>\n",
       "    <tr>\n",
       "      <th>75%</th>\n",
       "      <td>6.098541e-01</td>\n",
       "      <td>2.970830e-01</td>\n",
       "      <td>3.600609e-01</td>\n",
       "      <td>5.302406e-01</td>\n",
       "      <td>-4.090806e-01</td>\n",
       "      <td>-2.959993e-01</td>\n",
       "      <td>-2.020215e-01</td>\n",
       "      <td>6.758005e-01</td>\n",
       "      <td>-9.910759e-03</td>\n",
       "      <td>-3.272564e-01</td>\n",
       "      <td>...</td>\n",
       "      <td>0.0</td>\n",
       "      <td>-1.463850e-01</td>\n",
       "      <td>-3.415935e-02</td>\n",
       "      <td>-4.833682e-02</td>\n",
       "      <td>-2.890930e-01</td>\n",
       "      <td>-1.463850e-01</td>\n",
       "      <td>-1.029597e-01</td>\n",
       "      <td>-1.463850e-01</td>\n",
       "      <td>-1.696378e-01</td>\n",
       "      <td>0.000000</td>\n",
       "    </tr>\n",
       "    <tr>\n",
       "      <th>max</th>\n",
       "      <td>6.732547e+00</td>\n",
       "      <td>1.550575e+01</td>\n",
       "      <td>5.377522e+00</td>\n",
       "      <td>6.243854e+00</td>\n",
       "      <td>2.444506e+00</td>\n",
       "      <td>8.821219e+00</td>\n",
       "      <td>1.654716e+01</td>\n",
       "      <td>6.758005e-01</td>\n",
       "      <td>7.844313e+00</td>\n",
       "      <td>3.055708e+00</td>\n",
       "      <td>...</td>\n",
       "      <td>0.0</td>\n",
       "      <td>6.831301e+00</td>\n",
       "      <td>2.927456e+01</td>\n",
       "      <td>2.068816e+01</td>\n",
       "      <td>9.632579e+00</td>\n",
       "      <td>6.831301e+00</td>\n",
       "      <td>9.712535e+00</td>\n",
       "      <td>6.831301e+00</td>\n",
       "      <td>5.894913e+00</td>\n",
       "      <td>1.000000</td>\n",
       "    </tr>\n",
       "  </tbody>\n",
       "</table>\n",
       "<p>8 rows × 31 columns</p>\n",
       "</div>"
      ],
      "text/plain": [
       "                Age  Number of sexual partners  First sexual intercourse  \\\n",
       "count  8.580000e+02               8.580000e+02              8.580000e+02   \n",
       "mean   3.718212e-16               1.907306e-16              7.660280e-17   \n",
       "std    1.000583e+00               1.000583e+00              1.000583e+00   \n",
       "min   -1.627284e+00              -9.196100e-01             -2.507060e+00   \n",
       "25%   -8.030752e-01              -3.112635e-01             -7.151094e-01   \n",
       "50%   -2.143546e-01              -3.112635e-01              1.670816e-03   \n",
       "75%    6.098541e-01               2.970830e-01              3.600609e-01   \n",
       "max    6.732547e+00               1.550575e+01              5.377522e+00   \n",
       "\n",
       "       Num of pregnancies        Smokes  Smokes (years)  Smokes (packs/year)  \\\n",
       "count        8.580000e+02  8.580000e+02    8.580000e+02         8.580000e+02   \n",
       "mean         2.207506e-16  7.466185e-17   -9.562410e-17        -1.412364e-16   \n",
       "std          1.000583e+00  1.000583e+00    1.000583e+00         1.000583e+00   \n",
       "min         -1.612364e+00 -4.090806e-01   -2.959993e-01        -2.020215e-01   \n",
       "25%         -8.981627e-01 -4.090806e-01   -2.959993e-01        -2.020215e-01   \n",
       "50%         -1.839610e-01 -4.090806e-01   -2.959993e-01        -2.020215e-01   \n",
       "75%          5.302406e-01 -4.090806e-01   -2.959993e-01        -2.020215e-01   \n",
       "max          6.243854e+00  2.444506e+00    8.821219e+00         1.654716e+01   \n",
       "\n",
       "       Hormonal Contraceptives  Hormonal Contraceptives (years)           IUD  \\\n",
       "count             8.580000e+02                     8.580000e+02  8.580000e+02   \n",
       "mean              3.874135e-16                    -1.451183e-16  3.562289e-16   \n",
       "std               1.000583e+00                     1.000583e+00  1.000583e+00   \n",
       "min              -1.479727e+00                    -5.709267e-01 -3.272564e-01   \n",
       "25%              -1.479727e+00                    -5.709267e-01 -3.272564e-01   \n",
       "50%               6.758005e-01                    -4.306727e-01 -3.272564e-01   \n",
       "75%               6.758005e-01                    -9.910759e-03 -3.272564e-01   \n",
       "max               6.758005e-01                     7.844313e+00  3.055708e+00   \n",
       "\n",
       "       ...  STDs:AIDS      STDs:HIV  STDs:Hepatitis B      STDs:HPV  \\\n",
       "count  ...      858.0  8.580000e+02      8.580000e+02  8.580000e+02   \n",
       "mean   ...        0.0  2.842197e-16      2.952831e-16  3.236695e-16   \n",
       "std    ...        0.0  1.000583e+00      1.000583e+00  1.000583e+00   \n",
       "min    ...        0.0 -1.463850e-01     -3.415935e-02 -4.833682e-02   \n",
       "25%    ...        0.0 -1.463850e-01     -3.415935e-02 -4.833682e-02   \n",
       "50%    ...        0.0 -1.463850e-01     -3.415935e-02 -4.833682e-02   \n",
       "75%    ...        0.0 -1.463850e-01     -3.415935e-02 -4.833682e-02   \n",
       "max    ...        0.0  6.831301e+00      2.927456e+01  2.068816e+01   \n",
       "\n",
       "       STDs: Number of diagnosis     Dx:Cancer        Dx:CIN        Dx:HPV  \\\n",
       "count               8.580000e+02  8.580000e+02  8.580000e+02  8.580000e+02   \n",
       "mean               -6.870961e-17  1.511353e-16 -3.002002e-17  4.296615e-16   \n",
       "std                 1.000583e+00  1.000583e+00  1.000583e+00  1.000583e+00   \n",
       "min                -2.890930e-01 -1.463850e-01 -1.029597e-01 -1.463850e-01   \n",
       "25%                -2.890930e-01 -1.463850e-01 -1.029597e-01 -1.463850e-01   \n",
       "50%                -2.890930e-01 -1.463850e-01 -1.029597e-01 -1.463850e-01   \n",
       "75%                -2.890930e-01 -1.463850e-01 -1.029597e-01 -1.463850e-01   \n",
       "max                 9.632579e+00  6.831301e+00  9.712535e+00  6.831301e+00   \n",
       "\n",
       "                 Dx      Biopsy  \n",
       "count  8.580000e+02  858.000000  \n",
       "mean  -3.340374e-16    0.064103  \n",
       "std    1.000583e+00    0.245078  \n",
       "min   -1.696378e-01    0.000000  \n",
       "25%   -1.696378e-01    0.000000  \n",
       "50%   -1.696378e-01    0.000000  \n",
       "75%   -1.696378e-01    0.000000  \n",
       "max    5.894913e+00    1.000000  \n",
       "\n",
       "[8 rows x 31 columns]"
      ]
     },
     "execution_count": 22,
     "metadata": {},
     "output_type": "execute_result"
    }
   ],
   "source": [
    "#standardize\n",
    "from sklearn import preprocessing\n",
    "\n",
    "for col in df_new.columns[:-1]:\n",
    "    df_new[col]= preprocessing.scale(df_new[col])\n",
    "\n",
    "df_new.describe()\n",
    " "
   ]
  },
  {
   "cell_type": "markdown",
   "metadata": {},
   "source": [
    "# modeling"
   ]
  },
  {
   "cell_type": "markdown",
   "metadata": {},
   "source": [
    "## splitting training and test set"
   ]
  },
  {
   "cell_type": "code",
   "execution_count": 23,
   "metadata": {},
   "outputs": [
    {
     "data": {
      "text/plain": [
       "0    163\n",
       "1      9\n",
       "Name: Biopsy, dtype: int64"
      ]
     },
     "execution_count": 23,
     "metadata": {},
     "output_type": "execute_result"
    }
   ],
   "source": [
    "from sklearn.model_selection import train_test_split\n",
    "\n",
    "# Split the data into a training and test set.\n",
    "Xtrain, Xtest, ytrain, ytest = train_test_split(df_new.drop(['Biopsy'], axis=1),df_new['Biopsy'] ,test_size=0.2,random_state=5)\n",
    "\n",
    "ytest.value_counts()"
   ]
  },
  {
   "cell_type": "markdown",
   "metadata": {},
   "source": [
    "## helper method to print the scores"
   ]
  },
  {
   "cell_type": "code",
   "execution_count": 49,
   "metadata": {},
   "outputs": [],
   "source": [
    "from sklearn.metrics import accuracy_score\n",
    "from sklearn.metrics import recall_score\n",
    "from sklearn.metrics import f1_score\n",
    "from sklearn.metrics import precision_score\n",
    "from sklearn.metrics import classification_report\n",
    "from sklearn.metrics import confusion_matrix\n",
    "\n",
    "def helper(classificationmethod):\n",
    "    \n",
    "    pred = classificationmethod.predict(Xtest)\n",
    "    confusion_matrix(ytest, pred)\n",
    "    tn, fp,fn, tp = confusion_matrix(ytest, pred).ravel()\n",
    "    # Print the scores from the testing data.\n",
    "    print('accuracy_score=', accuracy_score(ytest,pred))\n",
    "    print('recall_score=', recall_score(ytest,pred))\n",
    "    print('f1_score', f1_score(ytest,pred))\n",
    "    print('precision_score=', precision_score(ytest,pred))\n",
    "    print(classification_report(ytest, pred))##, target_names=target_names))\n",
    "    print('tn=',tn, ', fp=',fp, ', fn=',fn,', tp=',tp)\n",
    "    "
   ]
  },
  {
   "cell_type": "markdown",
   "metadata": {},
   "source": [
    "## Logistic regression"
   ]
  },
  {
   "cell_type": "code",
   "execution_count": 24,
   "metadata": {},
   "outputs": [],
   "source": [
    "#Logistic regression\n",
    "from sklearn.linear_model import LogisticRegression"
   ]
  },
  {
   "cell_type": "code",
   "execution_count": 25,
   "metadata": {},
   "outputs": [],
   "source": [
    "# import warnings filter\n",
    "from warnings import simplefilter\n",
    "# ignore all future warnings\n",
    "simplefilter(action='ignore', category=FutureWarning)"
   ]
  },
  {
   "cell_type": "code",
   "execution_count": 26,
   "metadata": {},
   "outputs": [
    {
     "name": "stderr",
     "output_type": "stream",
     "text": [
      "C:\\Users\\Yi\\Anaconda3\\lib\\site-packages\\sklearn\\model_selection\\_search.py:841: DeprecationWarning: The default of the `iid` parameter will change from True to False in version 0.22 and will be removed in 0.24. This will change numeric results when test-set sizes are unequal.\n",
      "  DeprecationWarning)\n"
     ]
    },
    {
     "data": {
      "text/plain": [
       "{'C': 0.0001}"
      ]
     },
     "execution_count": 26,
     "metadata": {},
     "output_type": "execute_result"
    }
   ],
   "source": [
    "# tuning the model\n",
    "from sklearn.model_selection import GridSearchCV\n",
    "\n",
    "# Setup the hyperparameter grid\n",
    "c_space = [0.0001,0.001,0.01,0.1,1,10,100]\n",
    "\n",
    "param_grid = {'C': c_space}\n",
    "\n",
    "# Instantiate a logistic regression classifier: logreg\n",
    "lrc = LogisticRegression()\n",
    "\n",
    "# Instantiate the GridSearchCV object: logreg_cv\n",
    "lr_cv = GridSearchCV(lrc, param_grid, scoring = 'recall', cv=5)  # recall_weighted\n",
    "\n",
    "# Fit it to the data\n",
    "lr_cv.fit(Xtrain,ytrain)\n",
    "\n",
    "lr_cv.best_params_"
   ]
  },
  {
   "cell_type": "code",
   "execution_count": 28,
   "metadata": {},
   "outputs": [
    {
     "data": {
      "text/plain": [
       "0.30651117589893095"
      ]
     },
     "execution_count": 28,
     "metadata": {},
     "output_type": "execute_result"
    }
   ],
   "source": [
    "lr_cv.best_score_"
   ]
  },
  {
   "cell_type": "code",
   "execution_count": 29,
   "metadata": {},
   "outputs": [
    {
     "name": "stderr",
     "output_type": "stream",
     "text": [
      "C:\\Users\\Yi\\Anaconda3\\lib\\site-packages\\sklearn\\metrics\\classification.py:1143: UndefinedMetricWarning: F-score is ill-defined and being set to 0.0 due to no predicted samples.\n",
      "  'precision', 'predicted', average, warn_for)\n",
      "C:\\Users\\Yi\\Anaconda3\\lib\\site-packages\\sklearn\\model_selection\\_search.py:841: DeprecationWarning: The default of the `iid` parameter will change from True to False in version 0.22 and will be removed in 0.24. This will change numeric results when test-set sizes are unequal.\n",
      "  DeprecationWarning)\n"
     ]
    },
    {
     "data": {
      "text/plain": [
       "{'C': 0.0001}"
      ]
     },
     "execution_count": 29,
     "metadata": {},
     "output_type": "execute_result"
    }
   ],
   "source": [
    "# tuning the model\n",
    "from sklearn.metrics import f1_score\n",
    "\n",
    "# Instantiate a logistic regression classifier: logreg\n",
    "logreg1 = LogisticRegression()\n",
    "\n",
    "# Instantiate the GridSearchCV object: logreg_cv\n",
    "logreg_cv1 = GridSearchCV(logreg1, param_grid, scoring = 'f1', cv=5)\n",
    "\n",
    "# Fit it to the data\n",
    "logreg_cv1.fit(Xtrain,ytrain)\n",
    "\n",
    "logreg_cv1.best_params_"
   ]
  },
  {
   "cell_type": "code",
   "execution_count": 50,
   "metadata": {},
   "outputs": [
    {
     "name": "stdout",
     "output_type": "stream",
     "text": [
      "accuracy_score= 0.8372093023255814\n",
      "recall_score= 0.4444444444444444\n",
      "f1_score 0.2222222222222222\n",
      "precision_score= 0.14814814814814814\n",
      "              precision    recall  f1-score   support\n",
      "\n",
      "           0       0.97      0.86      0.91       163\n",
      "           1       0.15      0.44      0.22         9\n",
      "\n",
      "   micro avg       0.84      0.84      0.84       172\n",
      "   macro avg       0.56      0.65      0.57       172\n",
      "weighted avg       0.92      0.84      0.87       172\n",
      "\n",
      "tn= 140 , fp= 23 , fn= 5 , tp= 4\n"
     ]
    }
   ],
   "source": [
    "lrc = LogisticRegression(C=0.0001)\n",
    "# Fit the model on the trainng data.\n",
    "lrc.fit(Xtrain, ytrain)\n",
    "\n",
    "# Print the scores from the testing data.\n",
    "helper(lrc)"
   ]
  },
  {
   "cell_type": "code",
   "execution_count": 51,
   "metadata": {},
   "outputs": [
    {
     "data": {
      "text/plain": [
       "0    803\n",
       "1     55\n",
       "Name: Biopsy, dtype: int64"
      ]
     },
     "execution_count": 51,
     "metadata": {},
     "output_type": "execute_result"
    }
   ],
   "source": [
    "df_new[\"Biopsy\"].value_counts()"
   ]
  },
  {
   "cell_type": "code",
   "execution_count": 52,
   "metadata": {},
   "outputs": [
    {
     "data": {
      "text/plain": [
       "0.9358974358974359"
      ]
     },
     "execution_count": 52,
     "metadata": {},
     "output_type": "execute_result"
    }
   ],
   "source": [
    "803/858 #recall\n",
    "#confusion matrix"
   ]
  },
  {
   "cell_type": "code",
   "execution_count": 53,
   "metadata": {},
   "outputs": [],
   "source": [
    "#feature selection\n",
    "df_new1 = df_new[[\"Hormonal Contraceptives (years)\",\"STDs (number)\",\"STDs: Number of diagnosis\",\"STDs\",\"STDs:condylomatosis\",\n",
    "                 \"STDs:vulvo-perineal condylomatosis\",\"STDs:HIV\",\"Dx:Cancer\",\"Dx:CIN\", \"Dx:HPV\",\"Dx\",\"Biopsy\"]]\n",
    "\n",
    "Xtrain1, Xtest1, ytrain1, ytest1 = train_test_split(df_new1.drop(['Biopsy'], axis=1),df_new1['Biopsy'] ,random_state=5)"
   ]
  },
  {
   "cell_type": "code",
   "execution_count": 55,
   "metadata": {},
   "outputs": [
    {
     "data": {
      "text/plain": [
       "array([[140,  23],\n",
       "       [  5,   4]], dtype=int64)"
      ]
     },
     "execution_count": 55,
     "metadata": {},
     "output_type": "execute_result"
    }
   ],
   "source": [
    "from sklearn.metrics import confusion_matrix\n",
    "confusion_matrix(ytest, lrc.predict(Xtest))"
   ]
  },
  {
   "cell_type": "code",
   "execution_count": 78,
   "metadata": {},
   "outputs": [
    {
     "data": {
      "text/plain": [
       "8"
      ]
     },
     "execution_count": 78,
     "metadata": {},
     "output_type": "execute_result"
    }
   ],
   "source": [
    "tn, fp, fn, tp = confusion_matrix(ytest, logreg_model.predict(Xtest)).ravel()\n",
    "fn"
   ]
  },
  {
   "cell_type": "code",
   "execution_count": 56,
   "metadata": {},
   "outputs": [
    {
     "ename": "NameError",
     "evalue": "name 'tp' is not defined",
     "output_type": "error",
     "traceback": [
      "\u001b[1;31m---------------------------------------------------------------------------\u001b[0m",
      "\u001b[1;31mNameError\u001b[0m                                 Traceback (most recent call last)",
      "\u001b[1;32m<ipython-input-56-150b9cae89d7>\u001b[0m in \u001b[0;36m<module>\u001b[1;34m\u001b[0m\n\u001b[1;32m----> 1\u001b[1;33m \u001b[0mtp_rate\u001b[0m \u001b[1;33m=\u001b[0m \u001b[0mtp\u001b[0m\u001b[1;33m/\u001b[0m\u001b[1;33m(\u001b[0m\u001b[0mtp\u001b[0m\u001b[1;33m+\u001b[0m\u001b[0mfn\u001b[0m\u001b[1;33m)\u001b[0m\u001b[1;33m\u001b[0m\u001b[1;33m\u001b[0m\u001b[0m\n\u001b[0m\u001b[0;32m      2\u001b[0m \u001b[0mfp_rate\u001b[0m \u001b[1;33m=\u001b[0m \u001b[0mfp\u001b[0m\u001b[1;33m/\u001b[0m\u001b[1;33m(\u001b[0m\u001b[0mfp\u001b[0m\u001b[1;33m+\u001b[0m\u001b[0mtn\u001b[0m\u001b[1;33m)\u001b[0m\u001b[1;33m\u001b[0m\u001b[1;33m\u001b[0m\u001b[0m\n\u001b[0;32m      3\u001b[0m \u001b[0mprint\u001b[0m\u001b[1;33m(\u001b[0m\u001b[1;34m'true positive rate ='\u001b[0m\u001b[1;33m,\u001b[0m \u001b[0mtp_rate\u001b[0m\u001b[1;33m)\u001b[0m\u001b[1;33m\u001b[0m\u001b[1;33m\u001b[0m\u001b[0m\n\u001b[0;32m      4\u001b[0m \u001b[0mprint\u001b[0m\u001b[1;33m(\u001b[0m\u001b[1;34m'false negative rate ='\u001b[0m\u001b[1;33m,\u001b[0m \u001b[0mfp_rate\u001b[0m\u001b[1;33m)\u001b[0m\u001b[1;33m\u001b[0m\u001b[1;33m\u001b[0m\u001b[0m\n",
      "\u001b[1;31mNameError\u001b[0m: name 'tp' is not defined"
     ]
    }
   ],
   "source": [
    "tp_rate = tp/(tp+fn)\n",
    "fp_rate = fp/(fp+tn)\n",
    "print('true positive rate =', tp_rate)\n",
    "print('false negative rate =', fp_rate)"
   ]
  },
  {
   "cell_type": "code",
   "execution_count": 58,
   "metadata": {},
   "outputs": [
    {
     "data": {
      "image/png": "[encoded data removed]",
      "text/plain": [
       "<Figure size 432x288 with 1 Axes>"
      ]
     },
     "metadata": {
      "needs_background": "light"
     },
     "output_type": "display_data"
    }
   ],
   "source": [
    "#plotting the ROC curve\n",
    "from sklearn.metrics import roc_curve\n",
    "y_pred_prob = lrc.predict_proba(Xtest)[:,-1]\n",
    "fpr,tpr,thresholds = roc_curve(ytest,y_pred_prob)\n",
    "plt.plot([0,1],[0,1],'k--')\n",
    "plt.plot(fpr,tpr,label='Logistic Regression')\n",
    "plt.xlabel('False positive Rate')\n",
    "plt.ylabel('True positive Rate')\n",
    "plt.title('Logistic Regression ROC Curve')\n",
    "plt.show()\n",
    "#thresholds"
   ]
  },
  {
   "cell_type": "code",
   "execution_count": 81,
   "metadata": {},
   "outputs": [
    {
     "data": {
      "text/plain": [
       "[[0.0, 'STDs:cervical condylomatosis'],\n",
       " [0.0, 'STDs:AIDS'],\n",
       " [0.015349998853214518, 'Num of pregnancies'],\n",
       " [0.016990353924433887, 'Hormonal Contraceptives'],\n",
       " [0.025918234969882173, 'Smokes'],\n",
       " [-0.03742465261330421, 'STDs:pelvic inflammatory disease'],\n",
       " [-0.04283826549645211, 'Age'],\n",
       " [-0.04416500156047803, 'Smokes (packs/year)'],\n",
       " [0.06448443029140352, 'IUD'],\n",
       " [-0.09603786060469702, 'Number of sexual partners'],\n",
       " [0.10615572592485817, 'STDs:molluscum contagiosum'],\n",
       " [0.10615572592485817, 'STDs:Hepatitis B'],\n",
       " [-0.11229126729675314, 'IUD (years)'],\n",
       " [-0.12709231662479206, 'First sexual intercourse'],\n",
       " [-0.15921423634223486, 'STDs:vaginal condylomatosis'],\n",
       " [0.21357090107056462, 'Dx:HPV'],\n",
       " [0.24201372101995794, 'Hormonal Contraceptives (years)'],\n",
       " [-0.2812390562165076, 'STDs:syphilis'],\n",
       " [0.2970112000043634, 'Smokes (years)'],\n",
       " [0.4286638007507256, 'STDs'],\n",
       " [-0.49358892612109956, 'STDs:HPV'],\n",
       " [-0.5076993907767869, 'STDs: Number of diagnosis'],\n",
       " [0.5922252341266901, 'STDs:genital herpes'],\n",
       " [0.7875360379821812, 'Dx:CIN'],\n",
       " [-0.8443033076736745, 'Dx'],\n",
       " [0.9324660955403492, 'Dx:Cancer'],\n",
       " [1.0952012784971712, 'STDs:HIV'],\n",
       " [1.2938831936631716, 'STDs:condylomatosis'],\n",
       " [1.3058557593881785, 'STDs:vulvo-perineal condylomatosis'],\n",
       " [-2.777916790629861, 'STDs (number)']]"
      ]
     },
     "execution_count": 81,
     "metadata": {},
     "output_type": "execute_result"
    }
   ],
   "source": [
    "#feature importance\n",
    "#intercept\n",
    "logreg_model.fit(Xtrain,ytrain)\n",
    "coefs = logreg_model.coef_[0]\n",
    "feature_ranks = []\n",
    "for index,coef in enumerate(coefs):\n",
    "#    print(df_new.columns[index])\n",
    "    feature_ranks.append([coef, Xtrain.columns[index]])\n",
    "sorted(feature_ranks,key = lambda x:abs(x[0]))\n",
    "#coefs"
   ]
  },
  {
   "cell_type": "code",
   "execution_count": 82,
   "metadata": {},
   "outputs": [
    {
     "data": {
      "text/plain": [
       "[[0.0, 'STDs:cervical condylomatosis'],\n",
       " [0.0, 'STDs:AIDS'],\n",
       " [0.015349998853214518, 'Num of pregnancies'],\n",
       " [0.016990353924433887, 'Hormonal Contraceptives'],\n",
       " [0.025918234969882173, 'Smokes'],\n",
       " [-0.03742465261330421, 'STDs:pelvic inflammatory disease'],\n",
       " [-0.04283826549645211, 'Age'],\n",
       " [-0.04416500156047803, 'Smokes (packs/year)'],\n",
       " [0.06448443029140352, 'IUD'],\n",
       " [-0.09603786060469702, 'Number of sexual partners'],\n",
       " [0.10615572592485817, 'STDs:molluscum contagiosum'],\n",
       " [0.10615572592485817, 'STDs:Hepatitis B'],\n",
       " [-0.11229126729675314, 'IUD (years)'],\n",
       " [-0.12709231662479206, 'First sexual intercourse'],\n",
       " [-0.15921423634223486, 'STDs:vaginal condylomatosis'],\n",
       " [0.21357090107056462, 'Dx:HPV'],\n",
       " [0.24201372101995794, 'Hormonal Contraceptives (years)'],\n",
       " [-0.2812390562165076, 'STDs:syphilis'],\n",
       " [0.2970112000043634, 'Smokes (years)'],\n",
       " [0.4286638007507256, 'STDs'],\n",
       " [-0.49358892612109956, 'STDs:HPV'],\n",
       " [-0.5076993907767869, 'STDs: Number of diagnosis'],\n",
       " [0.5922252341266901, 'STDs:genital herpes'],\n",
       " [0.7875360379821812, 'Dx:CIN'],\n",
       " [-0.8443033076736745, 'Dx'],\n",
       " [0.9324660955403492, 'Dx:Cancer'],\n",
       " [1.0952012784971712, 'STDs:HIV'],\n",
       " [1.2938831936631716, 'STDs:condylomatosis'],\n",
       " [1.3058557593881785, 'STDs:vulvo-perineal condylomatosis'],\n",
       " [-2.777916790629861, 'STDs (number)']]"
      ]
     },
     "execution_count": 82,
     "metadata": {},
     "output_type": "execute_result"
    }
   ],
   "source": [
    "#feature importance\n",
    "#no intercept\n",
    "logreg_model1 = LogisticRegression(fit_intercept = False)\n",
    "logreg_model1.fit(Xtrain,ytrain)\n",
    "coefs1 = logreg_model1.coef_[0]\n",
    "feature_ranks1 = []\n",
    "for index,coef in enumerate(coefs):\n",
    "#    print(df_new.columns[index])\n",
    "    feature_ranks1.append([coef, Xtrain.columns[index]])\n",
    "sorted(feature_ranks1,key = lambda x:abs(x[0]))\n",
    "#coefs"
   ]
  },
  {
   "cell_type": "code",
   "execution_count": 83,
   "metadata": {},
   "outputs": [
    {
     "data": {
      "text/plain": [
       "array([27, 22, 17, 28, 25, 12, 24, 26, 15, 21, 20,  8,  4,  5, 30, 16,  2,\n",
       "       14, 23,  6, 18, 29,  1, 19, 11,  3,  7,  9, 13, 10])"
      ]
     },
     "execution_count": 83,
     "metadata": {},
     "output_type": "execute_result"
    }
   ],
   "source": [
    "# using RFE for feature importance\n",
    "\n",
    "from sklearn.feature_selection import RFE\n",
    "\n",
    "selector = RFE(logreg,n_features_to_select=1)\n",
    "slector = selector.fit(Xtrain, ytrain)\n",
    "\n",
    "order = selector.ranking_\n",
    "order\n"
   ]
  },
  {
   "cell_type": "code",
   "execution_count": 84,
   "metadata": {},
   "outputs": [
    {
     "data": {
      "text/plain": [
       "[[1, 'STDs:HIV'],\n",
       " [2, 'STDs:vulvo-perineal condylomatosis'],\n",
       " [3, 'STDs: Number of diagnosis'],\n",
       " [4, 'STDs (number)'],\n",
       " [5, 'STDs:condylomatosis'],\n",
       " [6, 'STDs:genital herpes'],\n",
       " [7, 'Dx:Cancer'],\n",
       " [8, 'STDs'],\n",
       " [9, 'Dx:CIN'],\n",
       " [10, 'Dx'],\n",
       " [11, 'STDs:HPV'],\n",
       " [12, 'Smokes (years)'],\n",
       " [13, 'Dx:HPV'],\n",
       " [14, 'STDs:syphilis'],\n",
       " [15, 'Hormonal Contraceptives (years)'],\n",
       " [16, 'STDs:vaginal condylomatosis'],\n",
       " [17, 'First sexual intercourse'],\n",
       " [18, 'STDs:molluscum contagiosum'],\n",
       " [19, 'STDs:Hepatitis B'],\n",
       " [20, 'IUD (years)'],\n",
       " [21, 'IUD'],\n",
       " [22, 'Number of sexual partners'],\n",
       " [23, 'STDs:pelvic inflammatory disease'],\n",
       " [24, 'Smokes (packs/year)'],\n",
       " [25, 'Smokes'],\n",
       " [26, 'Hormonal Contraceptives'],\n",
       " [27, 'Age'],\n",
       " [28, 'Num of pregnancies'],\n",
       " [29, 'STDs:AIDS'],\n",
       " [30, 'STDs:cervical condylomatosis']]"
      ]
     },
     "execution_count": 84,
     "metadata": {},
     "output_type": "execute_result"
    }
   ],
   "source": [
    "feature_ranks_RFE = []\n",
    "for idx,i in enumerate(order):\n",
    "    feature_ranks_RFE.append([i, Xtrain.columns[idx]])\n",
    "sorted(feature_ranks_RFE, key = lambda x:x[0])"
   ]
  },
  {
   "cell_type": "code",
   "execution_count": null,
   "metadata": {},
   "outputs": [],
   "source": []
  },
  {
   "cell_type": "code",
   "execution_count": 85,
   "metadata": {},
   "outputs": [
    {
     "data": {
      "text/plain": [
       "Index(['STDs (number)', 'STDs:condylomatosis',\n",
       "       'STDs:vulvo-perineal condylomatosis', 'STDs:genital herpes', 'STDs:HIV',\n",
       "       'STDs:HPV', 'STDs: Number of diagnosis', 'Dx:Cancer', 'Dx:CIN', 'Dx'],\n",
       "      dtype='object')"
      ]
     },
     "execution_count": 85,
     "metadata": {},
     "output_type": "execute_result"
    }
   ],
   "source": [
    "from sklearn.feature_selection import SelectFromModel\n",
    "smf=SelectFromModel(logreg_model,threshold=-np.inf, max_features=10)\n",
    "smf.fit(Xtrain,ytrain)\n",
    "feature_idx = smf.get_support()\n",
    "feature_idx\n",
    "feature_name = Xtrain.columns[feature_idx]\n",
    "feature_name"
   ]
  },
  {
   "cell_type": "markdown",
   "metadata": {},
   "source": [
    "## support vector machine"
   ]
  },
  {
   "cell_type": "markdown",
   "metadata": {},
   "source": [
    "### tuning SVM"
   ]
  },
  {
   "cell_type": "code",
   "execution_count": 41,
   "metadata": {},
   "outputs": [
    {
     "name": "stderr",
     "output_type": "stream",
     "text": [
      "C:\\Users\\Yi\\Anaconda3\\lib\\site-packages\\sklearn\\model_selection\\_search.py:841: DeprecationWarning: The default of the `iid` parameter will change from True to False in version 0.22 and will be removed in 0.24. This will change numeric results when test-set sizes are unequal.\n",
      "  DeprecationWarning)\n"
     ]
    },
    {
     "data": {
      "text/plain": [
       "{'C': 100, 'kernel': 'rbf'}"
      ]
     },
     "execution_count": 41,
     "metadata": {},
     "output_type": "execute_result"
    }
   ],
   "source": [
    "from sklearn.svm import SVC\n",
    "# tuning the model\n",
    "\n",
    "# Setup the hyperparameter grid\n",
    "SVM_c_space = [1,10,100]\n",
    "SVM_kernel_space = ['linear','rbf']\n",
    "\n",
    "param_grid = {'C': SVM_c_space,'kernel': SVM_kernel_space}\n",
    "\n",
    "# Instantiate a logistic regression classifier: logreg\n",
    "svm = SVC()\n",
    "\n",
    "# Instantiate the GridSearchCV object: logreg_cv\n",
    "svm_cv = GridSearchCV(svm, param_grid, scoring = 'recall', cv=5)\n",
    "\n",
    "# Fit it to the datas\n",
    "svm_cv.fit(Xtrain,ytrain)\n",
    "\n",
    "svm_cv.best_params_"
   ]
  },
  {
   "cell_type": "code",
   "execution_count": 59,
   "metadata": {},
   "outputs": [
    {
     "name": "stdout",
     "output_type": "stream",
     "text": [
      "accuracy_score= 0.9244186046511628\n",
      "recall_score= 0.2222222222222222\n",
      "f1_score 0.23529411764705882\n",
      "precision_score= 0.25\n",
      "              precision    recall  f1-score   support\n",
      "\n",
      "           0       0.96      0.96      0.96       163\n",
      "           1       0.25      0.22      0.24         9\n",
      "\n",
      "   micro avg       0.92      0.92      0.92       172\n",
      "   macro avg       0.60      0.59      0.60       172\n",
      "weighted avg       0.92      0.92      0.92       172\n",
      "\n",
      "tn= 157 , fp= 6 , fn= 7 , tp= 2\n"
     ]
    }
   ],
   "source": [
    "svm = SVC(kernel='rbf',C=100)\n",
    "svm.fit(Xtrain,ytrain)\n",
    "\n",
    "# Print the scores from the testing data.\n",
    "helper(svm)"
   ]
  },
  {
   "cell_type": "code",
   "execution_count": 119,
   "metadata": {},
   "outputs": [
    {
     "data": {
      "text/plain": [
       "8"
      ]
     },
     "execution_count": 119,
     "metadata": {},
     "output_type": "execute_result"
    }
   ],
   "source": [
    "confusion_matrix(ytest, SVM_linear_model.predict(Xtest))\n",
    "tn_SVM_l, fp_SVM_l, fn_SVM_l, tp_SVM_l = confusion_matrix(ytest, SVM_linear_model.predict(Xtest)).ravel()\n",
    "fn_SVM_l"
   ]
  },
  {
   "cell_type": "code",
   "execution_count": 120,
   "metadata": {},
   "outputs": [
    {
     "data": {
      "text/plain": [
       "7"
      ]
     },
     "execution_count": 120,
     "metadata": {},
     "output_type": "execute_result"
    }
   ],
   "source": [
    "confusion_matrix(ytest, SVM_RBF_model.predict(Xtest))\n",
    "tn_SVM_r, fp_SVM_r,fn_SVM_r, tp_SVM_r = confusion_matrix(ytest, SVM_RBF_model.predict(Xtest)).ravel()\n",
    "fn_SVM_r"
   ]
  },
  {
   "cell_type": "markdown",
   "metadata": {},
   "source": [
    "## decision tree"
   ]
  },
  {
   "cell_type": "code",
   "execution_count": 96,
   "metadata": {},
   "outputs": [
    {
     "name": "stdout",
     "output_type": "stream",
     "text": [
      "accuracy_score= 0.8895348837209303\n",
      "recall_score= 0.4444444444444444\n",
      "f1_score 0.2962962962962963\n",
      "precision_score= 0.2222222222222222\n",
      "              precision    recall  f1-score   support\n",
      "\n",
      "           0       0.97      0.91      0.94       163\n",
      "           1       0.22      0.44      0.30         9\n",
      "\n",
      "   micro avg       0.89      0.89      0.89       172\n",
      "   macro avg       0.59      0.68      0.62       172\n",
      "weighted avg       0.93      0.89      0.91       172\n",
      "\n",
      "tn= 149 , fp= 14 , fn= 5 , tp= 4\n",
      "Parameters currently in use:\n",
      "\n",
      "{'class_weight': None,\n",
      " 'criterion': 'gini',\n",
      " 'max_depth': None,\n",
      " 'max_features': None,\n",
      " 'max_leaf_nodes': None,\n",
      " 'min_impurity_decrease': 0.0,\n",
      " 'min_impurity_split': None,\n",
      " 'min_samples_leaf': 1,\n",
      " 'min_samples_split': 2,\n",
      " 'min_weight_fraction_leaf': 0.0,\n",
      " 'presort': False,\n",
      " 'random_state': 5,\n",
      " 'splitter': 'best'}\n"
     ]
    }
   ],
   "source": [
    "# decision tree\n",
    "from sklearn import tree\n",
    "\n",
    "dt = tree.DecisionTreeClassifier(random_state=5)\n",
    "dt.fit(Xtrain, ytrain)\n",
    "\n",
    "# Print the scores from the testing data.\n",
    "helper(dt)\n",
    "\n",
    "from pprint import pprint\n",
    "# Look at parameters used by our current forest\n",
    "print('Parameters currently in use:\\n')\n",
    "pprint(dt.get_params())"
   ]
  },
  {
   "cell_type": "markdown",
   "metadata": {},
   "source": [
    "#### Using GridSearchCV for optimizing parameters"
   ]
  },
  {
   "cell_type": "code",
   "execution_count": 100,
   "metadata": {},
   "outputs": [
    {
     "name": "stderr",
     "output_type": "stream",
     "text": [
      "C:\\Users\\Yi\\Anaconda3\\lib\\site-packages\\sklearn\\model_selection\\_search.py:841: DeprecationWarning: The default of the `iid` parameter will change from True to False in version 0.22 and will be removed in 0.24. This will change numeric results when test-set sizes are unequal.\n",
      "  DeprecationWarning)\n"
     ]
    },
    {
     "data": {
      "text/plain": [
       "{'min_samples_split': 2}"
      ]
     },
     "execution_count": 100,
     "metadata": {},
     "output_type": "execute_result"
    }
   ],
   "source": [
    "# Define the parameter values that should be searched\n",
    "sample_split_range = list(range(2, 50))\n",
    "#criterion = ['gini', 'entropy']\n",
    "#max_depth = [4,6,8,12]\n",
    "\n",
    "\n",
    "# Create a parameter grid: map the parameter names to the values that should be searched\n",
    "# Simply a python dictionary\n",
    "# Key: parameter name\n",
    "# Value: list of values that should be searched for that parameter\n",
    "# Single key-value pair for param_grid\n",
    "param_grid = dict(min_samples_split=sample_split_range)\n",
    "\n",
    "# instantiate the grid\n",
    "grid_cv = GridSearchCV(dt, param_grid, cv=5, scoring='recall')\n",
    "\n",
    "# fit the grid with data\n",
    "grid_cv.fit(Xtrain, ytrain)\n",
    "\n",
    "grid_cv.best_params_"
   ]
  },
  {
   "cell_type": "code",
   "execution_count": null,
   "metadata": {},
   "outputs": [],
   "source": []
  },
  {
   "cell_type": "markdown",
   "metadata": {},
   "source": [
    "### tuning the tree model"
   ]
  },
  {
   "cell_type": "code",
   "execution_count": 127,
   "metadata": {},
   "outputs": [
    {
     "data": {
      "image/png": "[encoded data removed]",
      "text/plain": [
       "<Figure size 432x288 with 1 Axes>"
      ]
     },
     "metadata": {
      "needs_background": "light"
     },
     "output_type": "display_data"
    }
   ],
   "source": [
    "from sklearn.metrics import roc_curve, auc\n",
    "\n",
    "max_depths = np.linspace(1, 32, 32, endpoint=True)\n",
    "train_results = []\n",
    "test_results = []\n",
    "for max_depth in max_depths:\n",
    "   dt = tree.DecisionTreeClassifier(max_depth=max_depth)\n",
    "   dt.fit(Xtrain, ytrain)\n",
    "   train_pred = dt.predict(Xtrain)\n",
    "   false_positive_rate, true_positive_rate, thresholds = roc_curve(ytrain, train_pred)\n",
    "   roc_auc = auc(false_positive_rate, true_positive_rate)\n",
    "   # Add auc score to previous train results\n",
    "   train_results.append(roc_auc)\n",
    "   y_pred = dt.predict(Xtest)\n",
    "   false_positive_rate, true_positive_rate, thresholds = roc_curve(ytest, y_pred)\n",
    "   roc_auc = auc(false_positive_rate, true_positive_rate)\n",
    "   # Add auc score to previous test results\n",
    "   test_results.append(roc_auc)\n",
    "from matplotlib.legend_handler import HandlerLine2D\n",
    "line1, = plt.plot(max_depths, train_results, 'b', label='Train AUC')\n",
    "line2, = plt.plot(max_depths, test_results, 'r', label='Test AUC')\n",
    "plt.legend(handler_map={line1: HandlerLine2D(numpoints=2)})\n",
    "plt.ylabel('AUC score')\n",
    "plt.xlabel('Tree depth')\n",
    "plt.show()"
   ]
  },
  {
   "cell_type": "markdown",
   "metadata": {},
   "source": [
    "# Random forest"
   ]
  },
  {
   "cell_type": "code",
   "execution_count": 85,
   "metadata": {},
   "outputs": [
    {
     "name": "stdout",
     "output_type": "stream",
     "text": [
      "accuracy_score= 0.9418604651162791\n",
      "recall_score= 0.2222222222222222\n",
      "f1_score 0.2857142857142857\n",
      "precision_score= 0.4\n",
      "              precision    recall  f1-score   support\n",
      "\n",
      "           0       0.96      0.98      0.97       163\n",
      "           1       0.40      0.22      0.29         9\n",
      "\n",
      "   micro avg       0.94      0.94      0.94       172\n",
      "   macro avg       0.68      0.60      0.63       172\n",
      "weighted avg       0.93      0.94      0.93       172\n",
      "\n",
      "tn= 160 , fp= 3 , fn= 7 , tp= 2\n",
      "Parameters currently in use:\n",
      "\n",
      "{'bootstrap': True,\n",
      " 'class_weight': None,\n",
      " 'criterion': 'gini',\n",
      " 'max_depth': None,\n",
      " 'max_features': 'auto',\n",
      " 'max_leaf_nodes': None,\n",
      " 'min_impurity_decrease': 0.0,\n",
      " 'min_impurity_split': None,\n",
      " 'min_samples_leaf': 1,\n",
      " 'min_samples_split': 2,\n",
      " 'min_weight_fraction_leaf': 0.0,\n",
      " 'n_estimators': 10,\n",
      " 'n_jobs': None,\n",
      " 'oob_score': False,\n",
      " 'random_state': 5,\n",
      " 'verbose': 0,\n",
      " 'warm_start': False}\n"
     ]
    }
   ],
   "source": [
    "from sklearn.ensemble import RandomForestClassifier\n",
    "\n",
    "# train model\n",
    "rfc = RandomForestClassifier(random_state = 5)\n",
    "rfc.fit(Xtrain, ytrain)\n",
    "\n",
    "# predict on test set\n",
    "rfc_pred = rfc.predict(Xtest)\n",
    "\n",
    "# Print the scores from the testing data.\n",
    "helper(rfc)\n",
    "\n",
    "from pprint import pprint\n",
    "# Look at parameters used by our current forest\n",
    "print('Parameters currently in use:\\n')\n",
    "pprint(rfc.get_params())"
   ]
  },
  {
   "cell_type": "code",
   "execution_count": 87,
   "metadata": {},
   "outputs": [
    {
     "name": "stdout",
     "output_type": "stream",
     "text": [
      "{'bootstrap': [True, False],\n",
      " 'max_depth': [10, 20, 30, 40, 50, 60, 70, 80, 90, 100, 110, None],\n",
      " 'max_features': ['auto', 'sqrt'],\n",
      " 'min_samples_leaf': [1, 2, 4],\n",
      " 'min_samples_split': [2, 5, 10],\n",
      " 'n_estimators': [10, 31, 52, 73, 94, 115, 136, 157, 178, 200]}\n"
     ]
    }
   ],
   "source": [
    "from sklearn.model_selection import RandomizedSearchCV\n",
    "\n",
    "# Number of trees in random forest\n",
    "n_estimators = [int(x) for x in np.linspace(start = 10, stop = 200, num = 10)]\n",
    "# Number of features to consider at every split\n",
    "max_features = ['auto', 'sqrt']\n",
    "# Maximum number of levels in tree\n",
    "max_depth = [int(x) for x in np.linspace(10, 110, num = 11)]\n",
    "max_depth.append(None)\n",
    "# Minimum number of samples required to split a node\n",
    "min_samples_split = [2, 5, 10]\n",
    "# Minimum number of samples required at each leaf node\n",
    "min_samples_leaf = [1, 2, 4]\n",
    "# Method of selecting samples for training each tree\n",
    "bootstrap = [True, False]\n",
    "# Create the random grid\n",
    "random_grid = {'n_estimators': n_estimators,\n",
    "               'max_features': max_features,\n",
    "               'max_depth': max_depth,\n",
    "               'min_samples_split': min_samples_split,\n",
    "               'min_samples_leaf': min_samples_leaf,\n",
    "               'bootstrap': bootstrap}\n",
    "pprint(random_grid)"
   ]
  },
  {
   "cell_type": "code",
   "execution_count": 88,
   "metadata": {},
   "outputs": [
    {
     "name": "stdout",
     "output_type": "stream",
     "text": [
      "Fitting 5 folds for each of 100 candidates, totalling 500 fits\n"
     ]
    },
    {
     "name": "stderr",
     "output_type": "stream",
     "text": [
      "[Parallel(n_jobs=-1)]: Using backend LokyBackend with 8 concurrent workers.\n",
      "[Parallel(n_jobs=-1)]: Done  25 tasks      | elapsed:    3.6s\n",
      "[Parallel(n_jobs=-1)]: Done 223 tasks      | elapsed:    8.4s\n",
      "[Parallel(n_jobs=-1)]: Done 485 out of 500 | elapsed:   15.4s remaining:    0.4s\n",
      "[Parallel(n_jobs=-1)]: Done 500 out of 500 | elapsed:   15.8s finished\n"
     ]
    },
    {
     "data": {
      "text/plain": [
       "RandomizedSearchCV(cv=5, error_score='raise-deprecating',\n",
       "          estimator=RandomForestClassifier(bootstrap=True, class_weight=None, criterion='gini',\n",
       "            max_depth=None, max_features='auto', max_leaf_nodes=None,\n",
       "            min_impurity_decrease=0.0, min_impurity_split=None,\n",
       "            min_samples_leaf=1, min_samples_split=2,\n",
       "            min_weight_fraction_leaf=0.0, n_estimators='warn', n_jobs=None,\n",
       "            oob_score=False, random_state=None, verbose=0,\n",
       "            warm_start=False),\n",
       "          fit_params=None, iid='warn', n_iter=100, n_jobs=-1,\n",
       "          param_distributions={'n_estimators': [10, 31, 52, 73, 94, 115, 136, 157, 178, 200], 'max_features': ['auto', 'sqrt'], 'max_depth': [10, 20, 30, 40, 50, 60, 70, 80, 90, 100, 110, None], 'min_samples_split': [2, 5, 10], 'min_samples_leaf': [1, 2, 4], 'bootstrap': [True, False]},\n",
       "          pre_dispatch='2*n_jobs', random_state=5, refit=True,\n",
       "          return_train_score='warn', scoring='recall', verbose=2)"
      ]
     },
     "execution_count": 88,
     "metadata": {},
     "output_type": "execute_result"
    }
   ],
   "source": [
    "# Use the random grid to search for best hyperparameters\n",
    "# First create the base model to tune\n",
    "rfc = RandomForestClassifier()\n",
    "# Random search of parameters, using 3 fold cross validation, \n",
    "# search across 100 different combinations, and use all available cores\n",
    "rfc_cv = RandomizedSearchCV(estimator = rfc, param_distributions = random_grid, n_iter = 100, cv = 5, verbose=2, random_state=5, n_jobs = -1,scoring='recall')\n",
    "# Fit the random search model\n",
    "rfc_cv.fit(Xtrain, ytrain)"
   ]
  },
  {
   "cell_type": "code",
   "execution_count": 89,
   "metadata": {},
   "outputs": [
    {
     "data": {
      "text/plain": [
       "{'n_estimators': 94,\n",
       " 'min_samples_split': 2,\n",
       " 'min_samples_leaf': 1,\n",
       " 'max_features': 'auto',\n",
       " 'max_depth': 80,\n",
       " 'bootstrap': False}"
      ]
     },
     "execution_count": 89,
     "metadata": {},
     "output_type": "execute_result"
    }
   ],
   "source": [
    "rfc_cv.best_params_"
   ]
  },
  {
   "cell_type": "code",
   "execution_count": 90,
   "metadata": {},
   "outputs": [
    {
     "name": "stdout",
     "output_type": "stream",
     "text": [
      "accuracy_score= 0.9534883720930233\n",
      "recall_score= 0.3333333333333333\n",
      "f1_score 0.42857142857142855\n",
      "precision_score= 0.6\n",
      "              precision    recall  f1-score   support\n",
      "\n",
      "           0       0.96      0.99      0.98       163\n",
      "           1       0.60      0.33      0.43         9\n",
      "\n",
      "   micro avg       0.95      0.95      0.95       172\n",
      "   macro avg       0.78      0.66      0.70       172\n",
      "weighted avg       0.95      0.95      0.95       172\n",
      "\n",
      "tn= 161 , fp= 2 , fn= 6 , tp= 3\n"
     ]
    }
   ],
   "source": [
    "rfc_new = RandomForestClassifier(n_estimators=94,min_samples_split=2,min_samples_leaf=1, max_features='auto',max_depth=80,\n",
    " bootstrap=False,random_state = 5)\n",
    "\n",
    "# predict on test set\n",
    "rfc_new.fit(Xtrain,ytrain)\n",
    "\n",
    "# Print the scores from the testing data.\n",
    "helper(rfc_new)\n"
   ]
  },
  {
   "cell_type": "markdown",
   "metadata": {},
   "source": [
    "# Dealing with Imbalanced Data"
   ]
  },
  {
   "cell_type": "code",
   "execution_count": 93,
   "metadata": {},
   "outputs": [
    {
     "data": {
      "text/plain": [
       "0    803\n",
       "1     55\n",
       "Name: Biopsy, dtype: int64"
      ]
     },
     "execution_count": 93,
     "metadata": {},
     "output_type": "execute_result"
    }
   ],
   "source": [
    "#unbalance\n",
    "\n",
    "df_new.Biopsy.value_counts()"
   ]
  },
  {
   "cell_type": "markdown",
   "metadata": {},
   "source": [
    "### upsampling"
   ]
  },
  {
   "cell_type": "code",
   "execution_count": 69,
   "metadata": {},
   "outputs": [
    {
     "data": {
      "text/plain": [
       "1    640\n",
       "0    640\n",
       "Name: Biopsy, dtype: int64"
      ]
     },
     "execution_count": 69,
     "metadata": {},
     "output_type": "execute_result"
    }
   ],
   "source": [
    "# upsample the minority class after splitting\n",
    "\n",
    "from sklearn.utils import resample\n",
    "\n",
    "X = pd.concat([Xtrain, ytrain], axis=1)\n",
    "\n",
    "#Separate majority and mimnority classes\n",
    "df_majority = X[X['Biopsy']==0]\n",
    "df_minority = X[X['Biopsy']==1]\n",
    "\n",
    "#upsample minority class\n",
    "df_minority_upsampled = resample(df_minority,replace=True,n_samples=len(df_majority),random_state=5)   #sample with replacement\n",
    "\n",
    "#combine majority class with upsampled minority class\n",
    "df_upsampled = pd.concat([df_majority,df_minority_upsampled])\n",
    "\n",
    "#display new class counts\n",
    "df_upsampled.Biopsy.value_counts()\n"
   ]
  },
  {
   "cell_type": "code",
   "execution_count": 70,
   "metadata": {},
   "outputs": [
    {
     "data": {
      "text/plain": [
       "1280"
      ]
     },
     "execution_count": 70,
     "metadata": {},
     "output_type": "execute_result"
    }
   ],
   "source": [
    "Xtrain_upsampled = df_upsampled.drop('Biopsy',axis=1)\n",
    "ytrain_upsampled = df_upsampled.Biopsy\n",
    "len(Xtrain_upsampled)"
   ]
  },
  {
   "cell_type": "markdown",
   "metadata": {},
   "source": [
    "#### train model with upsampled data"
   ]
  },
  {
   "cell_type": "code",
   "execution_count": 109,
   "metadata": {},
   "outputs": [
    {
     "data": {
      "text/plain": [
       "{'C': 0.01}"
      ]
     },
     "execution_count": 109,
     "metadata": {},
     "output_type": "execute_result"
    }
   ],
   "source": [
    "# tuning the model\n",
    "from sklearn.model_selection import GridSearchCV\n",
    "\n",
    "# Setup the hyperparameter grid\n",
    "c_space = [0.0001,0.001,0.01,0.1,1,10,100]\n",
    "\n",
    "param_grid = {'C': c_space}\n",
    "\n",
    "# Instantiate a logistic regression classifier: logreg\n",
    "lrc1 = LogisticRegression()\n",
    "\n",
    "# Instantiate the GridSearchCV object: logreg_cv\n",
    "lr_cv1 = GridSearchCV(lrc1, param_grid, scoring = 'recall', cv=5)  # recall_weighted\n",
    "\n",
    "# Fit it to the data\n",
    "lr_cv1.fit(Xtrain_upsampled,ytrain_upsampled)\n",
    "\n",
    "lr_cv1.best_params_"
   ]
  },
  {
   "cell_type": "code",
   "execution_count": 110,
   "metadata": {},
   "outputs": [
    {
     "name": "stdout",
     "output_type": "stream",
     "text": [
      "accuracy_score= 0.7906976744186046\n",
      "recall_score= 0.5555555555555556\n",
      "f1_score 0.2173913043478261\n",
      "precision_score= 0.13513513513513514\n",
      "              precision    recall  f1-score   support\n",
      "\n",
      "           0       0.97      0.80      0.88       163\n",
      "           1       0.14      0.56      0.22         9\n",
      "\n",
      "   micro avg       0.79      0.79      0.79       172\n",
      "   macro avg       0.55      0.68      0.55       172\n",
      "weighted avg       0.93      0.79      0.84       172\n",
      "\n",
      "tn= 131 , fp= 32 , fn= 4 , tp= 5\n"
     ]
    }
   ],
   "source": [
    "lrc_upsampled = LogisticRegression(C=0.01,random_state=5)\n",
    "lrc_upsampled.fit(Xtrain_upsampled, ytrain_upsampled)\n",
    "# Print the scores from the testing data.\n",
    "helper(lrc_upsampled)"
   ]
  },
  {
   "cell_type": "code",
   "execution_count": 111,
   "metadata": {},
   "outputs": [
    {
     "name": "stdout",
     "output_type": "stream",
     "text": [
      "accuracy_score= 0.8953488372093024\n",
      "recall_score= 0.2222222222222222\n",
      "f1_score 0.18181818181818185\n",
      "precision_score= 0.15384615384615385\n",
      "              precision    recall  f1-score   support\n",
      "\n",
      "           0       0.96      0.93      0.94       163\n",
      "           1       0.15      0.22      0.18         9\n",
      "\n",
      "   micro avg       0.90      0.90      0.90       172\n",
      "   macro avg       0.55      0.58      0.56       172\n",
      "weighted avg       0.91      0.90      0.90       172\n",
      "\n",
      "tn= 152 , fp= 11 , fn= 7 , tp= 2\n"
     ]
    }
   ],
   "source": [
    "dt.fit(Xtrain_upsampled, ytrain_upsampled)\n",
    "\n",
    "# Print the scores from the testing data.\n",
    "helper(dt)"
   ]
  },
  {
   "cell_type": "code",
   "execution_count": 45,
   "metadata": {},
   "outputs": [
    {
     "name": "stdout",
     "output_type": "stream",
     "text": [
      "accuracy_score= 0.936046511627907\n",
      "recall_score= 0.2222222222222222\n",
      "f1 score 0.26666666666666666\n"
     ]
    }
   ],
   "source": [
    "# train model\n",
    "rfc = RandomForestClassifier(n_estimators=10).fit(Xtrain_upsampled, ytrain_upsampled)\n",
    "\n",
    "# predict on test set\n",
    "rfc_pred = rfc.predict(Xtest)\n",
    "\n",
    "# Print the accuracy from the testing data.\n",
    "print('accuracy_score=', accuracy_score(ytest,rfc_pred))\n",
    "print('recall_score=', recall_score(ytest,rfc_pred))\n",
    "print('f1 score', f1_score(ytest,rfc_pred))\n"
   ]
  },
  {
   "cell_type": "code",
   "execution_count": null,
   "metadata": {},
   "outputs": [],
   "source": []
  },
  {
   "cell_type": "code",
   "execution_count": 46,
   "metadata": {},
   "outputs": [
    {
     "name": "stdout",
     "output_type": "stream",
     "text": [
      "accuracy_score= 0.8837209302325582\n",
      "recall_score= 0.1111111111111111\n",
      "f1 score 0.09090909090909093\n"
     ]
    }
   ],
   "source": [
    "\n",
    "SVM_RBF_model.fit(Xtrain_upsampled,ytrain_upsampled)\n",
    "# Print the accuracy from the testing data.\n",
    "print('accuracy_score=', accuracy_score(ytest,SVM_RBF_model.predict(Xtest)))\n",
    "print('recall_score=', recall_score(ytest,SVM_RBF_model.predict(Xtest)))\n",
    "print('f1 score', f1_score(ytest,SVM_RBF_model.predict(Xtest)))"
   ]
  },
  {
   "cell_type": "code",
   "execution_count": null,
   "metadata": {},
   "outputs": [],
   "source": []
  },
  {
   "cell_type": "markdown",
   "metadata": {},
   "source": [
    "### downsampling"
   ]
  },
  {
   "cell_type": "code",
   "execution_count": 77,
   "metadata": {},
   "outputs": [
    {
     "data": {
      "text/plain": [
       "1    46\n",
       "0    46\n",
       "Name: Biopsy, dtype: int64"
      ]
     },
     "execution_count": 77,
     "metadata": {},
     "output_type": "execute_result"
    }
   ],
   "source": [
    "# downsample majority\n",
    "df_majority_downsampled = resample(df_majority,replace = False,n_samples = len(df_minority),random_state = 5) # sample without replacement\n",
    "\n",
    "# combine minority and downsampled majority\n",
    "df_downsampled = pd.concat([df_minority,df_majority_downsampled])\n",
    "\n",
    "# checking counts\n",
    "df_downsampled.Biopsy.value_counts()"
   ]
  },
  {
   "cell_type": "code",
   "execution_count": 78,
   "metadata": {},
   "outputs": [
    {
     "data": {
      "text/plain": [
       "92"
      ]
     },
     "execution_count": 78,
     "metadata": {},
     "output_type": "execute_result"
    }
   ],
   "source": [
    "Xtrain_downsampled = df_downsampled.drop('Biopsy',axis=1)\n",
    "ytrain_downsampled = df_downsampled.Biopsy\n",
    "len(Xtrain_downsampled)"
   ]
  },
  {
   "cell_type": "code",
   "execution_count": 79,
   "metadata": {},
   "outputs": [
    {
     "name": "stdout",
     "output_type": "stream",
     "text": [
      "accuracy_score= 0.7325581395348837\n",
      "recall_score= 0.5555555555555556\n",
      "f1_score 0.17857142857142855\n",
      "precision_score= 0.10638297872340426\n",
      "              precision    recall  f1-score   support\n",
      "\n",
      "           0       0.97      0.74      0.84       163\n",
      "           1       0.11      0.56      0.18         9\n",
      "\n",
      "   micro avg       0.73      0.73      0.73       172\n",
      "   macro avg       0.54      0.65      0.51       172\n",
      "weighted avg       0.92      0.73      0.81       172\n",
      "\n",
      "tn= 121 , fp= 42 , fn= 4 , tp= 5\n"
     ]
    }
   ],
   "source": [
    "lrc.fit(Xtrain_downsampled, ytrain_downsampled)\n",
    "# Print the scores from the testing data.\n",
    "helper(lrc)"
   ]
  },
  {
   "cell_type": "code",
   "execution_count": 112,
   "metadata": {},
   "outputs": [
    {
     "name": "stdout",
     "output_type": "stream",
     "text": [
      "accuracy_score= 0.45930232558139533\n",
      "recall_score= 0.4444444444444444\n",
      "f1_score 0.07920792079207921\n",
      "precision_score= 0.043478260869565216\n",
      "              precision    recall  f1-score   support\n",
      "\n",
      "           0       0.94      0.46      0.62       163\n",
      "           1       0.04      0.44      0.08         9\n",
      "\n",
      "   micro avg       0.46      0.46      0.46       172\n",
      "   macro avg       0.49      0.45      0.35       172\n",
      "weighted avg       0.89      0.46      0.59       172\n",
      "\n",
      "tn= 75 , fp= 88 , fn= 5 , tp= 4\n"
     ]
    }
   ],
   "source": [
    "dt.fit(Xtrain_downsampled, ytrain_downsampled)\n",
    "\n",
    "# Print the scores from the testing data.\n",
    "helper(dt)\n"
   ]
  },
  {
   "cell_type": "markdown",
   "metadata": {},
   "source": [
    "# Generate synthetic samples"
   ]
  },
  {
   "cell_type": "code",
   "execution_count": 102,
   "metadata": {},
   "outputs": [
    {
     "data": {
      "text/plain": [
       "1280"
      ]
     },
     "execution_count": 102,
     "metadata": {},
     "output_type": "execute_result"
    }
   ],
   "source": [
    "#Generate synthetic samples\n",
    "from imblearn.over_sampling import SMOTE\n",
    "\n",
    "\n",
    "sm = SMOTE(random_state=5, ratio=1.0)\n",
    "Xtrain_new, ytrain_new = sm.fit_sample(Xtrain, ytrain)\n",
    "\n",
    "len(Xtrain_new)"
   ]
  },
  {
   "cell_type": "code",
   "execution_count": 103,
   "metadata": {},
   "outputs": [
    {
     "data": {
      "text/plain": [
       "{'C': 0.01}"
      ]
     },
     "execution_count": 103,
     "metadata": {},
     "output_type": "execute_result"
    }
   ],
   "source": [
    "# tuning the model\n",
    "\n",
    "# Setup the hyperparameter grid\n",
    "c_space = [0.0001,0.001,0.01,0.1,1,10,100,1000]\n",
    "\n",
    "param_grid = {'C': c_space}\n",
    "\n",
    "# Instantiate a logistic regression classifier: logreg\n",
    "logreg = LogisticRegression()\n",
    "\n",
    "# Instantiate the GridSearchCV object: logreg_cv\n",
    "logreg_cv = GridSearchCV(logreg, param_grid, scoring = 'recall', cv=5)\n",
    "\n",
    "# Fit it to the data\n",
    "logreg_cv.fit(Xtrain_new,ytrain_new)\n",
    "\n",
    "logreg_cv.best_params_"
   ]
  },
  {
   "cell_type": "code",
   "execution_count": null,
   "metadata": {},
   "outputs": [],
   "source": []
  },
  {
   "cell_type": "code",
   "execution_count": 104,
   "metadata": {},
   "outputs": [
    {
     "name": "stdout",
     "output_type": "stream",
     "text": [
      "accuracy_score= 0.7790697674418605\n",
      "recall_score= 0.5555555555555556\n",
      "f1 score= 0.20833333333333334\n"
     ]
    }
   ],
   "source": [
    "logreg_model1=LogisticRegression(C=100)\n",
    "logreg_model1.fit(Xtrain_new, ytrain_new)\n",
    "# Print the accuracy from the testing data.\n",
    "print('accuracy_score=', accuracy_score(ytest,logreg_model1.predict(Xtest)))\n",
    "print('recall_score=', recall_score(ytest,logreg_model1.predict(Xtest)))\n",
    "\n",
    "print('f1 score=', f1_score(ytest,logreg_model1.predict(Xtest)))"
   ]
  },
  {
   "cell_type": "code",
   "execution_count": 105,
   "metadata": {},
   "outputs": [
    {
     "ename": "NameError",
     "evalue": "name 'SVM_RBF_model' is not defined",
     "output_type": "error",
     "traceback": [
      "\u001b[1;31m---------------------------------------------------------------------------\u001b[0m",
      "\u001b[1;31mNameError\u001b[0m                                 Traceback (most recent call last)",
      "\u001b[1;32m<ipython-input-105-6412ec2ff96a>\u001b[0m in \u001b[0;36m<module>\u001b[1;34m\u001b[0m\n\u001b[1;32m----> 1\u001b[1;33m \u001b[0mSVM_RBF_model\u001b[0m\u001b[1;33m.\u001b[0m\u001b[0mfit\u001b[0m\u001b[1;33m(\u001b[0m\u001b[0mXtrain_new\u001b[0m\u001b[1;33m,\u001b[0m\u001b[0mytrain_new\u001b[0m\u001b[1;33m)\u001b[0m\u001b[1;33m\u001b[0m\u001b[1;33m\u001b[0m\u001b[0m\n\u001b[0m\u001b[0;32m      2\u001b[0m \u001b[1;31m# Print the accuracy from the testing data.\u001b[0m\u001b[1;33m\u001b[0m\u001b[1;33m\u001b[0m\u001b[1;33m\u001b[0m\u001b[0m\n\u001b[0;32m      3\u001b[0m \u001b[0mprint\u001b[0m\u001b[1;33m(\u001b[0m\u001b[1;34m'accuracy_score='\u001b[0m\u001b[1;33m,\u001b[0m \u001b[0maccuracy_score\u001b[0m\u001b[1;33m(\u001b[0m\u001b[0mytest\u001b[0m\u001b[1;33m,\u001b[0m\u001b[0mSVM_RBF_model\u001b[0m\u001b[1;33m.\u001b[0m\u001b[0mpredict\u001b[0m\u001b[1;33m(\u001b[0m\u001b[0mXtest\u001b[0m\u001b[1;33m)\u001b[0m\u001b[1;33m)\u001b[0m\u001b[1;33m)\u001b[0m\u001b[1;33m\u001b[0m\u001b[1;33m\u001b[0m\u001b[0m\n\u001b[0;32m      4\u001b[0m \u001b[0mprint\u001b[0m\u001b[1;33m(\u001b[0m\u001b[1;34m'recall_score='\u001b[0m\u001b[1;33m,\u001b[0m \u001b[0mrecall_score\u001b[0m\u001b[1;33m(\u001b[0m\u001b[0mytest\u001b[0m\u001b[1;33m,\u001b[0m\u001b[0mSVM_RBF_model\u001b[0m\u001b[1;33m.\u001b[0m\u001b[0mpredict\u001b[0m\u001b[1;33m(\u001b[0m\u001b[0mXtest\u001b[0m\u001b[1;33m)\u001b[0m\u001b[1;33m)\u001b[0m\u001b[1;33m)\u001b[0m\u001b[1;33m\u001b[0m\u001b[1;33m\u001b[0m\u001b[0m\n\u001b[0;32m      5\u001b[0m \u001b[0mprint\u001b[0m\u001b[1;33m(\u001b[0m\u001b[1;34m'f1 score='\u001b[0m\u001b[1;33m,\u001b[0m \u001b[0mf1_score\u001b[0m\u001b[1;33m(\u001b[0m\u001b[0mytest\u001b[0m\u001b[1;33m,\u001b[0m\u001b[0mSVM_RBF_model\u001b[0m\u001b[1;33m.\u001b[0m\u001b[0mpredict\u001b[0m\u001b[1;33m(\u001b[0m\u001b[0mXtest\u001b[0m\u001b[1;33m)\u001b[0m\u001b[1;33m)\u001b[0m\u001b[1;33m)\u001b[0m\u001b[1;33m\u001b[0m\u001b[1;33m\u001b[0m\u001b[0m\n",
      "\u001b[1;31mNameError\u001b[0m: name 'SVM_RBF_model' is not defined"
     ]
    }
   ],
   "source": [
    "SVM_RBF_model.fit(Xtrain_new,ytrain_new)\n",
    "# Print the accuracy from the testing data.\n",
    "print('accuracy_score=', accuracy_score(ytest,SVM_RBF_model.predict(Xtest)))\n",
    "print('recall_score=', recall_score(ytest,SVM_RBF_model.predict(Xtest)))\n",
    "print('f1 score=', f1_score(ytest,SVM_RBF_model.predict(Xtest)))"
   ]
  },
  {
   "cell_type": "code",
   "execution_count": 113,
   "metadata": {},
   "outputs": [
    {
     "name": "stdout",
     "output_type": "stream",
     "text": [
      "accuracy_score= 0.9244186046511628\n",
      "recall_score= 0.2222222222222222\n",
      "f1_score 0.23529411764705882\n",
      "precision_score= 0.25\n",
      "              precision    recall  f1-score   support\n",
      "\n",
      "           0       0.96      0.96      0.96       163\n",
      "           1       0.25      0.22      0.24         9\n",
      "\n",
      "   micro avg       0.92      0.92      0.92       172\n",
      "   macro avg       0.60      0.59      0.60       172\n",
      "weighted avg       0.92      0.92      0.92       172\n",
      "\n",
      "tn= 157 , fp= 6 , fn= 7 , tp= 2\n"
     ]
    }
   ],
   "source": [
    "rfc = RandomForestClassifier(n_estimators=10).fit(Xtrain_new, ytrain_new)\n",
    "\n",
    "# predict on test set\n",
    "rfc_pred = rfc.predict(Xtest)\n",
    "\n",
    "# Print the scores from the testing data.\n",
    "helper(rfc)"
   ]
  },
  {
   "cell_type": "code",
   "execution_count": 114,
   "metadata": {},
   "outputs": [
    {
     "name": "stdout",
     "output_type": "stream",
     "text": [
      "accuracy_score= 0.8837209302325582\n",
      "recall_score= 0.2222222222222222\n",
      "f1_score 0.16666666666666669\n",
      "precision_score= 0.13333333333333333\n",
      "              precision    recall  f1-score   support\n",
      "\n",
      "           0       0.96      0.92      0.94       163\n",
      "           1       0.13      0.22      0.17         9\n",
      "\n",
      "   micro avg       0.88      0.88      0.88       172\n",
      "   macro avg       0.54      0.57      0.55       172\n",
      "weighted avg       0.91      0.88      0.90       172\n",
      "\n",
      "tn= 150 , fp= 13 , fn= 7 , tp= 2\n"
     ]
    }
   ],
   "source": [
    "# desicion tree\n",
    "dt.fit(Xtrain_new, ytrain_new)\n",
    "\n",
    "# Print the accuracy from the testing data.\n",
    "helper(dt)"
   ]
  },
  {
   "cell_type": "code",
   "execution_count": null,
   "metadata": {},
   "outputs": [],
   "source": []
  },
  {
   "cell_type": "code",
   "execution_count": null,
   "metadata": {},
   "outputs": [],
   "source": []
  }
 ],
 "metadata": {
  "kernelspec": {
   "display_name": "Python 3",
   "language": "python",
   "name": "python3"
  },
  "language_info": {
   "codemirror_mode": {
    "name": "ipython",
    "version": 3
   },
   "file_extension": ".py",
   "mimetype": "text/x-python",
   "name": "python",
   "nbconvert_exporter": "python",
   "pygments_lexer": "ipython3",
   "version": "3.7.3"
  }
 },
 "nbformat": 4,
 "nbformat_minor": 2
}
