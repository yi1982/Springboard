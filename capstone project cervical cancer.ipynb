{
 "cells": [
  {
   "cell_type": "code",
   "execution_count": 35,
   "metadata": {},
   "outputs": [],
   "source": [
    "#import pandas\n",
    "import pandas as pd\n",
    "#import numpy\n",
    "import numpy as np\n",
    "#import matplotlib\n",
    "import matplotlib.pyplot as plt\n",
    "#import seaborn\n",
    "import seaborn as sns\n",
    "#import scipy.stats\n",
    "import scipy.stats as stats "
   ]
  },
  {
   "cell_type": "code",
   "execution_count": 36,
   "metadata": {},
   "outputs": [],
   "source": [
    "#change directory\n",
    "import os\n",
    "os.chdir('C:\\LY\\springboard\\capstone projects\\cervical cancer')"
   ]
  },
  {
   "cell_type": "code",
   "execution_count": 37,
   "metadata": {},
   "outputs": [],
   "source": [
    "filename = \"risk_factors_cervical_cancer.csv\""
   ]
  },
  {
   "cell_type": "code",
   "execution_count": 38,
   "metadata": {},
   "outputs": [],
   "source": [
    "data = pd.read_csv(filename)\n",
    "#data.head(10)\n",
    "#data.tail()"
   ]
  },
  {
   "cell_type": "code",
   "execution_count": 39,
   "metadata": {},
   "outputs": [],
   "source": [
    "#data.info()"
   ]
  },
  {
   "cell_type": "code",
   "execution_count": 40,
   "metadata": {},
   "outputs": [],
   "source": [
    "#data.columns"
   ]
  },
  {
   "cell_type": "code",
   "execution_count": 41,
   "metadata": {},
   "outputs": [],
   "source": [
    "# original data uses ? to represent missing values,\n",
    "# by converting object to numeric, the missing values are represented by NA\n",
    "cols = data.columns[data.dtypes.eq('object')]\n",
    "data[cols] = data[cols].apply(pd.to_numeric, errors='coerce')"
   ]
  },
  {
   "cell_type": "code",
   "execution_count": 63,
   "metadata": {},
   "outputs": [
    {
     "name": "stdout",
     "output_type": "stream",
     "text": [
      "<class 'pandas.core.frame.DataFrame'>\n",
      "RangeIndex: 858 entries, 0 to 857\n",
      "Data columns (total 36 columns):\n",
      "Age                                   858 non-null int64\n",
      "Number of sexual partners             858 non-null float64\n",
      "First sexual intercourse              858 non-null float64\n",
      "Num of pregnancies                    858 non-null float64\n",
      "Smokes                                858 non-null float64\n",
      "Smokes (years)                        858 non-null float64\n",
      "Smokes (packs/year)                   858 non-null float64\n",
      "Hormonal Contraceptives               858 non-null float64\n",
      "Hormonal Contraceptives (years)       858 non-null float64\n",
      "IUD                                   858 non-null float64\n",
      "IUD (years)                           858 non-null float64\n",
      "STDs                                  858 non-null float64\n",
      "STDs (number)                         858 non-null float64\n",
      "STDs:condylomatosis                   858 non-null float64\n",
      "STDs:cervical condylomatosis          858 non-null float64\n",
      "STDs:vaginal condylomatosis           858 non-null float64\n",
      "STDs:vulvo-perineal condylomatosis    858 non-null float64\n",
      "STDs:syphilis                         858 non-null float64\n",
      "STDs:pelvic inflammatory disease      858 non-null float64\n",
      "STDs:genital herpes                   858 non-null float64\n",
      "STDs:molluscum contagiosum            858 non-null float64\n",
      "STDs:AIDS                             858 non-null float64\n",
      "STDs:HIV                              858 non-null float64\n",
      "STDs:Hepatitis B                      858 non-null float64\n",
      "STDs:HPV                              858 non-null float64\n",
      "STDs: Number of diagnosis             858 non-null int64\n",
      "STDs: Time since first diagnosis      71 non-null float64\n",
      "STDs: Time since last diagnosis       71 non-null float64\n",
      "Dx:Cancer                             858 non-null int64\n",
      "Dx:CIN                                858 non-null int64\n",
      "Dx:HPV                                858 non-null int64\n",
      "Dx                                    858 non-null int64\n",
      "Hinselmann                            858 non-null int64\n",
      "Schiller                              858 non-null int64\n",
      "Citology                              858 non-null int64\n",
      "Biopsy                                858 non-null int64\n",
      "dtypes: float64(26), int64(10)\n",
      "memory usage: 241.4 KB\n"
     ]
    }
   ],
   "source": [
    "data.info()"
   ]
  },
  {
   "cell_type": "code",
   "execution_count": 43,
   "metadata": {},
   "outputs": [
    {
     "data": {
      "text/plain": [
       "0.0    674\n",
       "NaN    105\n",
       "2.0     37\n",
       "1.0     34\n",
       "3.0      7\n",
       "4.0      1\n",
       "Name: STDs (number), dtype: int64"
      ]
     },
     "execution_count": 43,
     "metadata": {},
     "output_type": "execute_result"
    }
   ],
   "source": [
    "data[\"STDs (number)\"].value_counts(dropna=False)"
   ]
  },
  {
   "cell_type": "code",
   "execution_count": 44,
   "metadata": {},
   "outputs": [
    {
     "data": {
      "text/plain": [
       "0    787\n",
       "1     68\n",
       "2      2\n",
       "3      1\n",
       "Name: STDs: Number of diagnosis, dtype: int64"
      ]
     },
     "execution_count": 44,
     "metadata": {},
     "output_type": "execute_result"
    }
   ],
   "source": [
    "data[\"STDs: Number of diagnosis\"].value_counts()"
   ]
  },
  {
   "cell_type": "markdown",
   "metadata": {},
   "source": [
    "# Exclude cols 'STDs: Time since first/last diagnosis', since too much missing data"
   ]
  },
  {
   "cell_type": "code",
   "execution_count": 45,
   "metadata": {},
   "outputs": [
    {
     "data": {
      "text/plain": [
       "0    840\n",
       "1     18\n",
       "Name: Dx:HPV, dtype: int64"
      ]
     },
     "execution_count": 45,
     "metadata": {},
     "output_type": "execute_result"
    }
   ],
   "source": [
    "data['Dx:HPV'].value_counts(dropna=False)"
   ]
  },
  {
   "cell_type": "markdown",
   "metadata": {},
   "source": [
    "# fill NA will median for numeric values"
   ]
  },
  {
   "cell_type": "code",
   "execution_count": 46,
   "metadata": {},
   "outputs": [],
   "source": [
    "numeric_cols = ['Age','Number of sexual partners', 'First sexual intercourse', 'Num of pregnancies', 'Smokes (years)', \n",
    "                'Smokes (packs/year)', 'Hormonal Contraceptives (years)', 'IUD (years)', 'STDs (number)',\n",
    "                'STDs: Number of diagnosis']"
   ]
  },
  {
   "cell_type": "code",
   "execution_count": 47,
   "metadata": {},
   "outputs": [],
   "source": [
    "for col in numeric_cols:\n",
    "    col_median = data[col].median() \n",
    "    data[col].fillna(col_median, inplace=True)"
   ]
  },
  {
   "cell_type": "markdown",
   "metadata": {},
   "source": [
    "# fill NA will mode for catagorical values"
   ]
  },
  {
   "cell_type": "code",
   "execution_count": 64,
   "metadata": {},
   "outputs": [],
   "source": [
    "cata_cols = ['Smokes', 'Hormonal Contraceptives', 'IUD', 'STDs', 'STDs:condylomatosis', 'STDs:cervical condylomatosis', 'STDs:vaginal condylomatosis', \n",
    "             'STDs:vulvo-perineal condylomatosis', 'STDs:syphilis', 'STDs:pelvic inflammatory disease', 'STDs:genital herpes', \n",
    "             'STDs:molluscum contagiosum', 'STDs:AIDS', 'STDs:HIV', 'STDs:Hepatitis B', 'STDs:HPV', 'Dx:Cancer', 'Dx:CIN',\n",
    "             'Dx:HPV', 'Dx']"
   ]
  },
  {
   "cell_type": "code",
   "execution_count": 49,
   "metadata": {},
   "outputs": [],
   "source": [
    "for col in cata_cols:\n",
    "    col_mode = data[col].mode() \n",
    "    data[col].fillna(col_mode[0], inplace=True)\n",
    "#data['Smokes'].value_counts(dropna = False)"
   ]
  },
  {
   "cell_type": "markdown",
   "metadata": {},
   "source": [
    "# correlation between catogorical data and numeric data"
   ]
  },
  {
   "cell_type": "code",
   "execution_count": 50,
   "metadata": {},
   "outputs": [],
   "source": [
    "#between \"Biopsy\" and \"STDs \" as an example"
   ]
  },
  {
   "cell_type": "code",
   "execution_count": 51,
   "metadata": {},
   "outputs": [
    {
     "data": {
      "image/png": "[encoded data removed]",
      "text/plain": [
       "<Figure size 432x288 with 1 Axes>"
      ]
     },
     "metadata": {
      "needs_background": "light"
     },
     "output_type": "display_data"
    }
   ],
   "source": [
    "#plot the distribution of 'Num of pregnancies' for cancer and no cancer group with boxplot\n",
    "sns.boxplot(x='Biopsy', y='STDs (number)', data=data)\n",
    "plt.show()"
   ]
  },
  {
   "cell_type": "code",
   "execution_count": 52,
   "metadata": {},
   "outputs": [
    {
     "data": {
      "image/png": "[encoded data removed]",
      "text/plain": [
       "<Figure size 432x288 with 1 Axes>"
      ]
     },
     "metadata": {
      "needs_background": "light"
     },
     "output_type": "display_data"
    }
   ],
   "source": [
    "#plot the distribution of 'Num of pregnancies' for cancer and no cancer group with barplot\n",
    "sns.barplot(x='Biopsy', y='STDs (number)', data=data)\n",
    "plt.show()"
   ]
  },
  {
   "cell_type": "code",
   "execution_count": null,
   "metadata": {},
   "outputs": [],
   "source": [
    "#seems barplot is better than boxplot for the data"
   ]
  },
  {
   "cell_type": "code",
   "execution_count": 53,
   "metadata": {},
   "outputs": [
    {
     "data": {
      "text/plain": [
       "Ttest_indResult(statistic=3.0341740649763542, pvalue=0.002484849401247416)"
      ]
     },
     "execution_count": 53,
     "metadata": {},
     "output_type": "execute_result"
    }
   ],
   "source": [
    "cancer = data[data['Biopsy'] == 1]['STDs (number)']\n",
    "no_cancer = data[data['Biopsy'] == 0]['STDs (number)']\n",
    "stats.ttest_ind(cancer, no_cancer)"
   ]
  },
  {
   "cell_type": "code",
   "execution_count": 54,
   "metadata": {},
   "outputs": [],
   "source": [
    "# t test showed that there is significant difference. Biopsy is correlated with 'STDs (number)'"
   ]
  },
  {
   "cell_type": "markdown",
   "metadata": {},
   "source": [
    "# correlation between col 'Biopsy'  and cols of numeric data"
   ]
  },
  {
   "cell_type": "code",
   "execution_count": 55,
   "metadata": {},
   "outputs": [
    {
     "data": {
      "image/png": "[encoded data removed]",
      "text/plain": [
       "<Figure size 432x288 with 1 Axes>"
      ]
     },
     "metadata": {
      "needs_background": "light"
     },
     "output_type": "display_data"
    },
    {
     "name": "stdout",
     "output_type": "stream",
     "text": [
      "Age Ttest_indResult(statistic=1.6396861910271414, pvalue=0.10143784847300615)\n"
     ]
    },
    {
     "data": {
      "image/png": "[encoded data removed]",
      "text/plain": [
       "<Figure size 432x288 with 1 Axes>"
      ]
     },
     "metadata": {
      "needs_background": "light"
     },
     "output_type": "display_data"
    },
    {
     "name": "stdout",
     "output_type": "stream",
     "text": [
      "Number of sexual partners Ttest_indResult(statistic=-0.011943920213552566, pvalue=0.9904731400931277)\n"
     ]
    },
    {
     "data": {
      "image/png": "[encoded data removed]",
      "text/plain": [
       "<Figure size 432x288 with 1 Axes>"
      ]
     },
     "metadata": {
      "needs_background": "light"
     },
     "output_type": "display_data"
    },
    {
     "name": "stdout",
     "output_type": "stream",
     "text": [
      "First sexual intercourse Ttest_indResult(statistic=0.21237759889798477, pvalue=0.8318630215490788)\n"
     ]
    },
    {
     "data": {
      "image/png": "[encoded data removed]",
      "text/plain": [
       "<Figure size 432x288 with 1 Axes>"
      ]
     },
     "metadata": {
      "needs_background": "light"
     },
     "output_type": "display_data"
    },
    {
     "name": "stdout",
     "output_type": "stream",
     "text": [
      "Num of pregnancies Ttest_indResult(statistic=1.177544145145654, pvalue=0.239305676444277)\n"
     ]
    },
    {
     "data": {
      "image/png": "[encoded data removed]",
      "text/plain": [
       "<Figure size 432x288 with 1 Axes>"
      ]
     },
     "metadata": {
      "needs_background": "light"
     },
     "output_type": "display_data"
    },
    {
     "name": "stdout",
     "output_type": "stream",
     "text": [
      "Smokes (years) Ttest_indResult(statistic=1.7940447223443308, pvalue=0.07315884010855518)\n"
     ]
    },
    {
     "data": {
      "image/png": "[encoded data removed]",
      "text/plain": [
       "<Figure size 432x288 with 1 Axes>"
      ]
     },
     "metadata": {
      "needs_background": "light"
     },
     "output_type": "display_data"
    },
    {
     "name": "stdout",
     "output_type": "stream",
     "text": [
      "Smokes (packs/year) Ttest_indResult(statistic=0.7166388563188881, pvalue=0.4737924372922244)\n"
     ]
    },
    {
     "data": {
      "image/png": "[encoded data removed]",
      "text/plain": [
       "<Figure size 432x288 with 1 Axes>"
      ]
     },
     "metadata": {
      "needs_background": "light"
     },
     "output_type": "display_data"
    },
    {
     "name": "stdout",
     "output_type": "stream",
     "text": [
      "Hormonal Contraceptives (years) Ttest_indResult(statistic=2.7672863947997706, pvalue=0.00577445209971893)\n"
     ]
    },
    {
     "data": {
      "image/png": "[encoded data removed]",
      "text/plain": [
       "<Figure size 432x288 with 1 Axes>"
      ]
     },
     "metadata": {
      "needs_background": "light"
     },
     "output_type": "display_data"
    },
    {
     "name": "stdout",
     "output_type": "stream",
     "text": [
      "IUD (years) Ttest_indResult(statistic=1.1177522929149375, pvalue=0.2639864054750863)\n"
     ]
    },
    {
     "data": {
      "image/png": "[encoded data removed]",
      "text/plain": [
       "<Figure size 432x288 with 1 Axes>"
      ]
     },
     "metadata": {
      "needs_background": "light"
     },
     "output_type": "display_data"
    },
    {
     "name": "stdout",
     "output_type": "stream",
     "text": [
      "STDs (number) Ttest_indResult(statistic=3.0341740649763542, pvalue=0.002484849401247416)\n"
     ]
    },
    {
     "data": {
      "image/png": "[encoded data removed]",
      "text/plain": [
       "<Figure size 432x288 with 1 Axes>"
      ]
     },
     "metadata": {
      "needs_background": "light"
     },
     "output_type": "display_data"
    },
    {
     "name": "stdout",
     "output_type": "stream",
     "text": [
      "STDs: Number of diagnosis Ttest_indResult(statistic=2.864744298589144, pvalue=0.004275586992926872)\n"
     ]
    }
   ],
   "source": [
    "for col in numeric_cols:\n",
    "    sns.barplot(x='Biopsy', y=col, data=data)\n",
    "    plt.show()\n",
    "    cancer = data[data['Biopsy'] == 1][col] \n",
    "    no_cancer = data[data['Biopsy'] == 0][col]\n",
    "    print(col, stats.ttest_ind(cancer, no_cancer))    "
   ]
  },
  {
   "cell_type": "code",
   "execution_count": 56,
   "metadata": {},
   "outputs": [],
   "source": [
    "#according to the p value, \"Hormonal Contraceptives (years)\",\"STDs (number)\" and \"STDs: Number of diagnosis\" are correlated with \"Biopsy\""
   ]
  },
  {
   "cell_type": "markdown",
   "metadata": {},
   "source": [
    "# correlation between two catogorical data\n",
    "# between 'Dx:HPX' and 'Biopsy' as an example"
   ]
  },
  {
   "cell_type": "code",
   "execution_count": 57,
   "metadata": {},
   "outputs": [
    {
     "data": {
      "text/html": [
       "<div>\n",
       "<style scoped>\n",
       "    .dataframe tbody tr th:only-of-type {\n",
       "        vertical-align: middle;\n",
       "    }\n",
       "\n",
       "    .dataframe tbody tr th {\n",
       "        vertical-align: top;\n",
       "    }\n",
       "\n",
       "    .dataframe thead th {\n",
       "        text-align: right;\n",
       "    }\n",
       "</style>\n",
       "<table border=\"1\" class=\"dataframe\">\n",
       "  <thead>\n",
       "    <tr style=\"text-align: right;\">\n",
       "      <th>Biopsy</th>\n",
       "      <th>0</th>\n",
       "      <th>1</th>\n",
       "      <th>All</th>\n",
       "    </tr>\n",
       "    <tr>\n",
       "      <th>Dx:HPV</th>\n",
       "      <th></th>\n",
       "      <th></th>\n",
       "      <th></th>\n",
       "    </tr>\n",
       "  </thead>\n",
       "  <tbody>\n",
       "    <tr>\n",
       "      <th>0</th>\n",
       "      <td>791</td>\n",
       "      <td>49</td>\n",
       "      <td>840</td>\n",
       "    </tr>\n",
       "    <tr>\n",
       "      <th>1</th>\n",
       "      <td>12</td>\n",
       "      <td>6</td>\n",
       "      <td>18</td>\n",
       "    </tr>\n",
       "    <tr>\n",
       "      <th>All</th>\n",
       "      <td>803</td>\n",
       "      <td>55</td>\n",
       "      <td>858</td>\n",
       "    </tr>\n",
       "  </tbody>\n",
       "</table>\n",
       "</div>"
      ],
      "text/plain": [
       "Biopsy    0   1  All\n",
       "Dx:HPV              \n",
       "0       791  49  840\n",
       "1        12   6   18\n",
       "All     803  55  858"
      ]
     },
     "execution_count": 57,
     "metadata": {},
     "output_type": "execute_result"
    }
   ],
   "source": [
    "contingency_table = pd.crosstab(data['Dx:HPV'],data['Biopsy'],margins = True)\n",
    "contingency_table"
   ]
  },
  {
   "cell_type": "code",
   "execution_count": 58,
   "metadata": {},
   "outputs": [
    {
     "data": {
      "text/plain": [
       "array([[791,  49],\n",
       "       [ 12,   6]], dtype=int64)"
      ]
     },
     "execution_count": 58,
     "metadata": {},
     "output_type": "execute_result"
    }
   ],
   "source": [
    "f_obs = np.array([contingency_table.iloc[0][0:2].values,\n",
    "                  contingency_table.iloc[1][0:2].values])\n",
    "f_obs"
   ]
  },
  {
   "cell_type": "code",
   "execution_count": 59,
   "metadata": {},
   "outputs": [
    {
     "data": {
      "text/plain": [
       "(17.866604696673196,\n",
       " 2.3694272473922304e-05,\n",
       " 1,\n",
       " array([[786.15384615,  53.84615385],\n",
       "        [ 16.84615385,   1.15384615]]))"
      ]
     },
     "execution_count": 59,
     "metadata": {},
     "output_type": "execute_result"
    }
   ],
   "source": [
    "stats.chi2_contingency(f_obs)"
   ]
  },
  {
   "cell_type": "code",
   "execution_count": 60,
   "metadata": {},
   "outputs": [
    {
     "name": "stdout",
     "output_type": "stream",
     "text": [
      "[0.9416666666666667, 0.6666666666666666]\n",
      "[0.058333333333333334, 0.3333333333333333]\n"
     ]
    },
    {
     "data": {
      "image/png": "[encoded data removed]",
      "text/plain": [
       "<Figure size 432x288 with 1 Axes>"
      ]
     },
     "metadata": {
      "needs_background": "light"
     },
     "output_type": "display_data"
    }
   ],
   "source": [
    "#plot \n",
    "r = [0,1]\n",
    "greenBars = [contingency_table.iloc[0][0]/(contingency_table.iloc[0][0]+contingency_table.iloc[0][1])\n",
    "              ,contingency_table.iloc[1][0]/(contingency_table.iloc[1][0]+contingency_table.iloc[1][1])]\n",
    "orangeBars = [contingency_table.iloc[0][1]/(contingency_table.iloc[0][0]+contingency_table.iloc[0][1])\n",
    "              ,contingency_table.iloc[1][1]/(contingency_table.iloc[1][0]+contingency_table.iloc[1][1])]\n",
    "print(greenBars)\n",
    "print(orangeBars)\n",
    "barWidth = 0.85\n",
    "names = ('No HPV','HPV')\n",
    "plt.bar(r, greenBars, color='#b5ffb9', edgecolor='white', width=barWidth, label=\"Not Cancer\")\n",
    "plt.bar(r, orangeBars, bottom=greenBars, color='#f9bc86', edgecolor='white', width=barWidth, label=\"Cancer\")\n",
    "plt.xticks(r, names)\n",
    "#plt.xlabel(\"group\")\n",
    "# Add a legend\n",
    "plt.legend(loc='upper left', bbox_to_anchor=(1,1), ncol=1)\n",
    " \n",
    "# Show graphic\n",
    "plt.show()\n"
   ]
  },
  {
   "cell_type": "code",
   "execution_count": 61,
   "metadata": {},
   "outputs": [],
   "source": [
    "#data.corr()['Biopsy'] Not correct ? this is for between two continuous variables"
   ]
  },
  {
   "cell_type": "markdown",
   "metadata": {},
   "source": [
    "# correlation between col 'Biopsy' and cols of catogorical data"
   ]
  },
  {
   "cell_type": "code",
   "execution_count": 65,
   "metadata": {},
   "outputs": [
    {
     "name": "stdout",
     "output_type": "stream",
     "text": [
      "Biopsy    0   1  All\n",
      "Smokes              \n",
      "0.0     690  45  735\n",
      "1.0     113  10  123\n",
      "All     803  55  858\n",
      "Smokes (0.4128032074841294, 0.5205501261610987, 1, array([[687.88461538,  47.11538462],\n",
      "       [115.11538462,   7.88461538]]))\n",
      "Biopsy                     0   1  All\n",
      "Hormonal Contraceptives              \n",
      "0.0                      250  19  269\n",
      "1.0                      553  36  589\n",
      "All                      803  55  858\n",
      "Hormonal Contraceptives (0.1424882327313748, 0.7058197961871129, 1, array([[251.75641026,  17.24358974],\n",
      "       [551.24358974,  37.75641026]]))\n",
      "Biopsy    0   1  All\n",
      "IUD                 \n",
      "0.0     729  46  775\n",
      "1.0      74   9   83\n",
      "All     803  55  858\n",
      "IUD (2.247594652582935, 0.1338222729371177, 1, array([[725.32051282,  49.67948718],\n",
      "       [ 77.67948718,   5.32051282]]))\n",
      "Biopsy    0   1  All\n",
      "STDs                \n",
      "0.0     736  43  779\n",
      "1.0      67  12   79\n",
      "All     803  55  858\n",
      "STDs (9.625810524356968, 0.0019186175908358102, 1, array([[729.06410256,  49.93589744],\n",
      "       [ 73.93589744,   5.06410256]]))\n",
      "Biopsy                 0   1  All\n",
      "STDs:condylomatosis              \n",
      "0.0                  766  48  814\n",
      "1.0                   37   7   44\n",
      "All                  803  55  858\n",
      "STDs:condylomatosis (5.406063410857931, 0.02006691944714725, 1, array([[761.82051282,  52.17948718],\n",
      "       [ 41.17948718,   2.82051282]]))\n",
      "Biopsy                          0   1  All\n",
      "STDs:cervical condylomatosis              \n",
      "0.0                           803  55  858\n",
      "All                           803  55  858\n",
      "STDs:cervical condylomatosis (0.0, 1.0, 1, array([[803.,  55.],\n",
      "       [803.,  55.]]))\n",
      "Biopsy                         0   1  All\n",
      "STDs:vaginal condylomatosis              \n",
      "0.0                          799  55  854\n",
      "1.0                            4   0    4\n",
      "All                          803  55  858\n",
      "STDs:vaginal condylomatosis (0.24841840171954707, 0.6181909376119814, 1, array([[7.99256410e+02, 5.47435897e+01],\n",
      "       [3.74358974e+00, 2.56410256e-01]]))\n",
      "Biopsy                                0   1  All\n",
      "STDs:vulvo-perineal condylomatosis              \n",
      "0.0                                 767  48  815\n",
      "1.0                                  36   7   43\n",
      "All                                 803  55  858\n",
      "STDs:vulvo-perineal condylomatosis (5.71918390640605, 0.0167805282715913, 1, array([[762.75641026,  52.24358974],\n",
      "       [ 40.24358974,   2.75641026]]))\n",
      "Biopsy           0   1  All\n",
      "STDs:syphilis              \n",
      "0.0            785  55  840\n",
      "1.0             18   0   18\n",
      "All            803  55  858\n",
      "STDs:syphilis (0.4043737769080234, 0.5248390570339182, 1, array([[786.15384615,  53.84615385],\n",
      "       [ 16.84615385,   1.15384615]]))\n",
      "Biopsy                              0   1  All\n",
      "STDs:pelvic inflammatory disease              \n",
      "0.0                               802  55  857\n",
      "1.0                                 1   0    1\n",
      "All                               803  55  858\n",
      "STDs:pelvic inflammatory disease (3.1708188807723667, 0.07496485156409523, 1, array([[8.02064103e+02, 5.49358974e+01],\n",
      "       [9.35897436e-01, 6.41025641e-02]]))\n",
      "Biopsy                 0   1  All\n",
      "STDs:genital herpes              \n",
      "0.0                  803  54  857\n",
      "1.0                    0   1    1\n",
      "All                  803  55  858\n",
      "STDs:genital herpes (3.1708188807723667, 0.07496485156409523, 1, array([[8.02064103e+02, 5.49358974e+01],\n",
      "       [9.35897436e-01, 6.41025641e-02]]))\n",
      "Biopsy                        0   1  All\n",
      "STDs:molluscum contagiosum              \n",
      "0.0                         802  55  857\n",
      "1.0                           1   0    1\n",
      "All                         803  55  858\n",
      "STDs:molluscum contagiosum (3.1708188807723667, 0.07496485156409523, 1, array([[8.02064103e+02, 5.49358974e+01],\n",
      "       [9.35897436e-01, 6.41025641e-02]]))\n",
      "Biopsy       0   1  All\n",
      "STDs:AIDS              \n",
      "0.0        803  55  858\n",
      "All        803  55  858\n",
      "STDs:AIDS (0.0, 1.0, 1, array([[803.,  55.],\n",
      "       [803.,  55.]]))\n",
      "Biopsy      0   1  All\n",
      "STDs:HIV              \n",
      "0.0       790  50  840\n",
      "1.0        13   5   18\n",
      "All       803  55  858\n",
      "STDs:HIV (10.590675146771039, 0.0011365946357829895, 1, array([[786.15384615,  53.84615385],\n",
      "       [ 16.84615385,   1.15384615]]))\n",
      "Biopsy              0   1  All\n",
      "STDs:Hepatitis B              \n",
      "0.0               802  55  857\n",
      "1.0                 1   0    1\n",
      "All               803  55  858\n",
      "STDs:Hepatitis B (3.1708188807723667, 0.07496485156409523, 1, array([[8.02064103e+02, 5.49358974e+01],\n",
      "       [9.35897436e-01, 6.41025641e-02]]))\n",
      "Biopsy      0   1  All\n",
      "STDs:HPV              \n",
      "0.0       801  55  856\n",
      "1.0         2   0    2\n",
      "All       803  55  858\n",
      "STDs:HPV (1.1547465113301756, 0.2825577383785633, 1, array([[8.01128205e+02, 5.48717949e+01],\n",
      "       [1.87179487e+00, 1.28205128e-01]]))\n",
      "Biopsy       0   1  All\n",
      "Dx:Cancer              \n",
      "0          791  49  840\n",
      "1           12   6   18\n",
      "All        803  55  858\n",
      "Dx:Cancer (17.866604696673196, 2.3694272473922304e-05, 1, array([[786.15384615,  53.84615385],\n",
      "       [ 16.84615385,   1.15384615]]))\n",
      "Biopsy    0   1  All\n",
      "Dx:CIN              \n",
      "0       797  52  849\n",
      "1         6   3    9\n",
      "All     803  55  858\n",
      "Dx:CIN (6.921922648724527, 0.008514538370202794, 1, array([[7.94576923e+02, 5.44230769e+01],\n",
      "       [8.42307692e+00, 5.76923077e-01]]))\n",
      "Biopsy    0   1  All\n",
      "Dx:HPV              \n",
      "0       791  49  840\n",
      "1        12   6   18\n",
      "All     803  55  858\n",
      "Dx:HPV (17.866604696673196, 2.3694272473922304e-05, 1, array([[786.15384615,  53.84615385],\n",
      "       [ 16.84615385,   1.15384615]]))\n",
      "Biopsy    0   1  All\n",
      "Dx                  \n",
      "0       786  48  834\n",
      "1        17   7   24\n",
      "All     803  55  858\n",
      "Dx (17.588915442988075, 2.7418185086867495e-05, 1, array([[780.53846154,  53.46153846],\n",
      "       [ 22.46153846,   1.53846154]]))\n"
     ]
    }
   ],
   "source": [
    "for col in cata_cols:\n",
    "    contingency_table = pd.crosstab(data[col],data['Biopsy'],margins = True)\n",
    "    print(contingency_table)\n",
    "    f_obs = np.array([contingency_table.iloc[0][0:2].values,\n",
    "                  contingency_table.iloc[1][0:2].values])\n",
    "    print (col, stats.chi2_contingency(f_obs))"
   ]
  },
  {
   "cell_type": "code",
   "execution_count": 66,
   "metadata": {},
   "outputs": [],
   "source": [
    "#according to the p value, \"STDs\",\"STDs:condylomatosis\"，\"STDs:vulvo-perineal condylomatosis\"，\"STDs:HIV\"，\"Dx:CIN\", \"Dx:HPV\" and \"Dx\"are correlated with \"Biopsy\""
   ]
  },
  {
   "cell_type": "markdown",
   "metadata": {},
   "source": [
    "# plot if incidence changes by Age"
   ]
  },
  {
   "cell_type": "code",
   "execution_count": 72,
   "metadata": {},
   "outputs": [
    {
     "data": {
      "image/png": "[encoded data removed]",
      "text/plain": [
       "<Figure size 432x288 with 3 Axes>"
      ]
     },
     "metadata": {
      "needs_background": "light"
     },
     "output_type": "display_data"
    }
   ],
   "source": [
    "# people with positive Biopsy result\n",
    "plt.subplot(3, 1, 1)\n",
    "data[data['Biopsy'] == 1]['Age'].hist(bins=5)\n",
    "plt.subplot(3, 1, 2)\n",
    "data[data['Biopsy'] == 0]['Age'].hist(bins=7)\n",
    "#all people\n",
    "plt.subplot(3, 1, 3)\n",
    "data['Age'].hist(bins=7)\n",
    "plt.show()\n"
   ]
  },
  {
   "cell_type": "code",
   "execution_count": null,
   "metadata": {},
   "outputs": [],
   "source": [
    "#it seems the incidence decreased with increasing age. \n",
    "#But after plotting the distribution of whole people and no cancer people, they showed the same trend."
   ]
  },
  {
   "cell_type": "markdown",
   "metadata": {},
   "source": [
    "# plot if incidence changes by Num of pregnancies"
   ]
  },
  {
   "cell_type": "code",
   "execution_count": 88,
   "metadata": {},
   "outputs": [
    {
     "data": {
      "text/plain": [
       "<matplotlib.axes._subplots.AxesSubplot at 0x1f56fed55f8>"
      ]
     },
     "execution_count": 88,
     "metadata": {},
     "output_type": "execute_result"
    },
    {
     "data": {
      "image/png": "[encoded data removed]",
      "text/plain": [
       "<Figure size 432x288 with 1 Axes>"
      ]
     },
     "metadata": {
      "needs_background": "light"
     },
     "output_type": "display_data"
    }
   ],
   "source": [
    "data[data['Biopsy'] == 1]['Num of pregnancies'].hist(bins=6)"
   ]
  },
  {
   "cell_type": "code",
   "execution_count": 26,
   "metadata": {
    "scrolled": true
   },
   "outputs": [
    {
     "data": {
      "text/html": [
       "<div>\n",
       "<style scoped>\n",
       "    .dataframe tbody tr th:only-of-type {\n",
       "        vertical-align: middle;\n",
       "    }\n",
       "\n",
       "    .dataframe tbody tr th {\n",
       "        vertical-align: top;\n",
       "    }\n",
       "\n",
       "    .dataframe thead th {\n",
       "        text-align: right;\n",
       "    }\n",
       "</style>\n",
       "<table border=\"1\" class=\"dataframe\">\n",
       "  <thead>\n",
       "    <tr style=\"text-align: right;\">\n",
       "      <th></th>\n",
       "      <th>Dx:Cancer</th>\n",
       "      <th>Dx</th>\n",
       "    </tr>\n",
       "  </thead>\n",
       "  <tbody>\n",
       "    <tr>\n",
       "      <th>0</th>\n",
       "      <td>0</td>\n",
       "      <td>0</td>\n",
       "    </tr>\n",
       "    <tr>\n",
       "      <th>1</th>\n",
       "      <td>0</td>\n",
       "      <td>0</td>\n",
       "    </tr>\n",
       "    <tr>\n",
       "      <th>2</th>\n",
       "      <td>0</td>\n",
       "      <td>0</td>\n",
       "    </tr>\n",
       "    <tr>\n",
       "      <th>3</th>\n",
       "      <td>1</td>\n",
       "      <td>0</td>\n",
       "    </tr>\n",
       "    <tr>\n",
       "      <th>4</th>\n",
       "      <td>0</td>\n",
       "      <td>0</td>\n",
       "    </tr>\n",
       "    <tr>\n",
       "      <th>5</th>\n",
       "      <td>0</td>\n",
       "      <td>0</td>\n",
       "    </tr>\n",
       "    <tr>\n",
       "      <th>6</th>\n",
       "      <td>0</td>\n",
       "      <td>0</td>\n",
       "    </tr>\n",
       "    <tr>\n",
       "      <th>7</th>\n",
       "      <td>0</td>\n",
       "      <td>0</td>\n",
       "    </tr>\n",
       "    <tr>\n",
       "      <th>8</th>\n",
       "      <td>1</td>\n",
       "      <td>1</td>\n",
       "    </tr>\n",
       "    <tr>\n",
       "      <th>9</th>\n",
       "      <td>0</td>\n",
       "      <td>0</td>\n",
       "    </tr>\n",
       "    <tr>\n",
       "      <th>10</th>\n",
       "      <td>0</td>\n",
       "      <td>0</td>\n",
       "    </tr>\n",
       "    <tr>\n",
       "      <th>11</th>\n",
       "      <td>0</td>\n",
       "      <td>0</td>\n",
       "    </tr>\n",
       "    <tr>\n",
       "      <th>12</th>\n",
       "      <td>0</td>\n",
       "      <td>0</td>\n",
       "    </tr>\n",
       "    <tr>\n",
       "      <th>13</th>\n",
       "      <td>0</td>\n",
       "      <td>0</td>\n",
       "    </tr>\n",
       "    <tr>\n",
       "      <th>14</th>\n",
       "      <td>0</td>\n",
       "      <td>0</td>\n",
       "    </tr>\n",
       "    <tr>\n",
       "      <th>15</th>\n",
       "      <td>0</td>\n",
       "      <td>0</td>\n",
       "    </tr>\n",
       "    <tr>\n",
       "      <th>16</th>\n",
       "      <td>0</td>\n",
       "      <td>0</td>\n",
       "    </tr>\n",
       "    <tr>\n",
       "      <th>17</th>\n",
       "      <td>0</td>\n",
       "      <td>0</td>\n",
       "    </tr>\n",
       "    <tr>\n",
       "      <th>18</th>\n",
       "      <td>0</td>\n",
       "      <td>0</td>\n",
       "    </tr>\n",
       "    <tr>\n",
       "      <th>19</th>\n",
       "      <td>0</td>\n",
       "      <td>0</td>\n",
       "    </tr>\n",
       "    <tr>\n",
       "      <th>20</th>\n",
       "      <td>0</td>\n",
       "      <td>0</td>\n",
       "    </tr>\n",
       "    <tr>\n",
       "      <th>21</th>\n",
       "      <td>0</td>\n",
       "      <td>0</td>\n",
       "    </tr>\n",
       "    <tr>\n",
       "      <th>22</th>\n",
       "      <td>0</td>\n",
       "      <td>0</td>\n",
       "    </tr>\n",
       "    <tr>\n",
       "      <th>23</th>\n",
       "      <td>1</td>\n",
       "      <td>0</td>\n",
       "    </tr>\n",
       "    <tr>\n",
       "      <th>24</th>\n",
       "      <td>0</td>\n",
       "      <td>0</td>\n",
       "    </tr>\n",
       "    <tr>\n",
       "      <th>25</th>\n",
       "      <td>0</td>\n",
       "      <td>0</td>\n",
       "    </tr>\n",
       "    <tr>\n",
       "      <th>26</th>\n",
       "      <td>0</td>\n",
       "      <td>0</td>\n",
       "    </tr>\n",
       "    <tr>\n",
       "      <th>27</th>\n",
       "      <td>0</td>\n",
       "      <td>0</td>\n",
       "    </tr>\n",
       "    <tr>\n",
       "      <th>28</th>\n",
       "      <td>0</td>\n",
       "      <td>0</td>\n",
       "    </tr>\n",
       "    <tr>\n",
       "      <th>29</th>\n",
       "      <td>0</td>\n",
       "      <td>0</td>\n",
       "    </tr>\n",
       "    <tr>\n",
       "      <th>...</th>\n",
       "      <td>...</td>\n",
       "      <td>...</td>\n",
       "    </tr>\n",
       "    <tr>\n",
       "      <th>828</th>\n",
       "      <td>0</td>\n",
       "      <td>0</td>\n",
       "    </tr>\n",
       "    <tr>\n",
       "      <th>829</th>\n",
       "      <td>0</td>\n",
       "      <td>0</td>\n",
       "    </tr>\n",
       "    <tr>\n",
       "      <th>830</th>\n",
       "      <td>0</td>\n",
       "      <td>0</td>\n",
       "    </tr>\n",
       "    <tr>\n",
       "      <th>831</th>\n",
       "      <td>0</td>\n",
       "      <td>0</td>\n",
       "    </tr>\n",
       "    <tr>\n",
       "      <th>832</th>\n",
       "      <td>0</td>\n",
       "      <td>0</td>\n",
       "    </tr>\n",
       "    <tr>\n",
       "      <th>833</th>\n",
       "      <td>0</td>\n",
       "      <td>0</td>\n",
       "    </tr>\n",
       "    <tr>\n",
       "      <th>834</th>\n",
       "      <td>0</td>\n",
       "      <td>0</td>\n",
       "    </tr>\n",
       "    <tr>\n",
       "      <th>835</th>\n",
       "      <td>0</td>\n",
       "      <td>0</td>\n",
       "    </tr>\n",
       "    <tr>\n",
       "      <th>836</th>\n",
       "      <td>0</td>\n",
       "      <td>0</td>\n",
       "    </tr>\n",
       "    <tr>\n",
       "      <th>837</th>\n",
       "      <td>0</td>\n",
       "      <td>0</td>\n",
       "    </tr>\n",
       "    <tr>\n",
       "      <th>838</th>\n",
       "      <td>0</td>\n",
       "      <td>0</td>\n",
       "    </tr>\n",
       "    <tr>\n",
       "      <th>839</th>\n",
       "      <td>1</td>\n",
       "      <td>1</td>\n",
       "    </tr>\n",
       "    <tr>\n",
       "      <th>840</th>\n",
       "      <td>0</td>\n",
       "      <td>0</td>\n",
       "    </tr>\n",
       "    <tr>\n",
       "      <th>841</th>\n",
       "      <td>0</td>\n",
       "      <td>0</td>\n",
       "    </tr>\n",
       "    <tr>\n",
       "      <th>842</th>\n",
       "      <td>0</td>\n",
       "      <td>0</td>\n",
       "    </tr>\n",
       "    <tr>\n",
       "      <th>843</th>\n",
       "      <td>0</td>\n",
       "      <td>0</td>\n",
       "    </tr>\n",
       "    <tr>\n",
       "      <th>844</th>\n",
       "      <td>0</td>\n",
       "      <td>0</td>\n",
       "    </tr>\n",
       "    <tr>\n",
       "      <th>845</th>\n",
       "      <td>0</td>\n",
       "      <td>0</td>\n",
       "    </tr>\n",
       "    <tr>\n",
       "      <th>846</th>\n",
       "      <td>0</td>\n",
       "      <td>0</td>\n",
       "    </tr>\n",
       "    <tr>\n",
       "      <th>847</th>\n",
       "      <td>0</td>\n",
       "      <td>0</td>\n",
       "    </tr>\n",
       "    <tr>\n",
       "      <th>848</th>\n",
       "      <td>0</td>\n",
       "      <td>0</td>\n",
       "    </tr>\n",
       "    <tr>\n",
       "      <th>849</th>\n",
       "      <td>1</td>\n",
       "      <td>0</td>\n",
       "    </tr>\n",
       "    <tr>\n",
       "      <th>850</th>\n",
       "      <td>0</td>\n",
       "      <td>0</td>\n",
       "    </tr>\n",
       "    <tr>\n",
       "      <th>851</th>\n",
       "      <td>0</td>\n",
       "      <td>0</td>\n",
       "    </tr>\n",
       "    <tr>\n",
       "      <th>852</th>\n",
       "      <td>0</td>\n",
       "      <td>0</td>\n",
       "    </tr>\n",
       "    <tr>\n",
       "      <th>853</th>\n",
       "      <td>0</td>\n",
       "      <td>0</td>\n",
       "    </tr>\n",
       "    <tr>\n",
       "      <th>854</th>\n",
       "      <td>0</td>\n",
       "      <td>0</td>\n",
       "    </tr>\n",
       "    <tr>\n",
       "      <th>855</th>\n",
       "      <td>0</td>\n",
       "      <td>0</td>\n",
       "    </tr>\n",
       "    <tr>\n",
       "      <th>856</th>\n",
       "      <td>0</td>\n",
       "      <td>0</td>\n",
       "    </tr>\n",
       "    <tr>\n",
       "      <th>857</th>\n",
       "      <td>0</td>\n",
       "      <td>0</td>\n",
       "    </tr>\n",
       "  </tbody>\n",
       "</table>\n",
       "<p>858 rows × 2 columns</p>\n",
       "</div>"
      ],
      "text/plain": [
       "     Dx:Cancer  Dx\n",
       "0            0   0\n",
       "1            0   0\n",
       "2            0   0\n",
       "3            1   0\n",
       "4            0   0\n",
       "5            0   0\n",
       "6            0   0\n",
       "7            0   0\n",
       "8            1   1\n",
       "9            0   0\n",
       "10           0   0\n",
       "11           0   0\n",
       "12           0   0\n",
       "13           0   0\n",
       "14           0   0\n",
       "15           0   0\n",
       "16           0   0\n",
       "17           0   0\n",
       "18           0   0\n",
       "19           0   0\n",
       "20           0   0\n",
       "21           0   0\n",
       "22           0   0\n",
       "23           1   0\n",
       "24           0   0\n",
       "25           0   0\n",
       "26           0   0\n",
       "27           0   0\n",
       "28           0   0\n",
       "29           0   0\n",
       "..         ...  ..\n",
       "828          0   0\n",
       "829          0   0\n",
       "830          0   0\n",
       "831          0   0\n",
       "832          0   0\n",
       "833          0   0\n",
       "834          0   0\n",
       "835          0   0\n",
       "836          0   0\n",
       "837          0   0\n",
       "838          0   0\n",
       "839          1   1\n",
       "840          0   0\n",
       "841          0   0\n",
       "842          0   0\n",
       "843          0   0\n",
       "844          0   0\n",
       "845          0   0\n",
       "846          0   0\n",
       "847          0   0\n",
       "848          0   0\n",
       "849          1   0\n",
       "850          0   0\n",
       "851          0   0\n",
       "852          0   0\n",
       "853          0   0\n",
       "854          0   0\n",
       "855          0   0\n",
       "856          0   0\n",
       "857          0   0\n",
       "\n",
       "[858 rows x 2 columns]"
      ]
     },
     "execution_count": 26,
     "metadata": {},
     "output_type": "execute_result"
    }
   ],
   "source": [
    "Dx = data[[\"Dx:Cancer\",\"Dx\"]]  #Dx:Cancer previous diagosis?  Dx diagosis result?\n",
    "Dx"
   ]
  },
  {
   "cell_type": "code",
   "execution_count": 33,
   "metadata": {},
   "outputs": [
    {
     "data": {
      "text/html": [
       "<div>\n",
       "<style scoped>\n",
       "    .dataframe tbody tr th:only-of-type {\n",
       "        vertical-align: middle;\n",
       "    }\n",
       "\n",
       "    .dataframe tbody tr th {\n",
       "        vertical-align: top;\n",
       "    }\n",
       "\n",
       "    .dataframe thead th {\n",
       "        text-align: right;\n",
       "    }\n",
       "</style>\n",
       "<table border=\"1\" class=\"dataframe\">\n",
       "  <thead>\n",
       "    <tr style=\"text-align: right;\">\n",
       "      <th></th>\n",
       "      <th>Dx:Cancer</th>\n",
       "      <th>Dx</th>\n",
       "      <th>count</th>\n",
       "    </tr>\n",
       "  </thead>\n",
       "  <tbody>\n",
       "    <tr>\n",
       "      <th>0</th>\n",
       "      <td>0</td>\n",
       "      <td>0</td>\n",
       "      <td>830</td>\n",
       "    </tr>\n",
       "    <tr>\n",
       "      <th>1</th>\n",
       "      <td>0</td>\n",
       "      <td>1</td>\n",
       "      <td>10</td>\n",
       "    </tr>\n",
       "    <tr>\n",
       "      <th>2</th>\n",
       "      <td>1</td>\n",
       "      <td>0</td>\n",
       "      <td>4</td>\n",
       "    </tr>\n",
       "    <tr>\n",
       "      <th>3</th>\n",
       "      <td>1</td>\n",
       "      <td>1</td>\n",
       "      <td>14</td>\n",
       "    </tr>\n",
       "  </tbody>\n",
       "</table>\n",
       "</div>"
      ],
      "text/plain": [
       "   Dx:Cancer  Dx  count\n",
       "0          0   0    830\n",
       "1          0   1     10\n",
       "2          1   0      4\n",
       "3          1   1     14"
      ]
     },
     "execution_count": 33,
     "metadata": {},
     "output_type": "execute_result"
    }
   ],
   "source": [
    "#Dx.sort_values(['Dx:Cancer','Dx'],ascending=False)\n",
    "Dx.groupby(['Dx:Cancer','Dx']).size().reset_index().rename(columns={0:'count'})"
   ]
  },
  {
   "cell_type": "code",
   "execution_count": 35,
   "metadata": {},
   "outputs": [
    {
     "data": {
      "text/html": [
       "<div>\n",
       "<style scoped>\n",
       "    .dataframe tbody tr th:only-of-type {\n",
       "        vertical-align: middle;\n",
       "    }\n",
       "\n",
       "    .dataframe tbody tr th {\n",
       "        vertical-align: top;\n",
       "    }\n",
       "\n",
       "    .dataframe thead th {\n",
       "        text-align: right;\n",
       "    }\n",
       "</style>\n",
       "<table border=\"1\" class=\"dataframe\">\n",
       "  <thead>\n",
       "    <tr style=\"text-align: right;\">\n",
       "      <th></th>\n",
       "      <th>Dx</th>\n",
       "      <th>Biopsy</th>\n",
       "      <th>count</th>\n",
       "    </tr>\n",
       "  </thead>\n",
       "  <tbody>\n",
       "    <tr>\n",
       "      <th>0</th>\n",
       "      <td>0</td>\n",
       "      <td>0</td>\n",
       "      <td>786</td>\n",
       "    </tr>\n",
       "    <tr>\n",
       "      <th>1</th>\n",
       "      <td>0</td>\n",
       "      <td>1</td>\n",
       "      <td>48</td>\n",
       "    </tr>\n",
       "    <tr>\n",
       "      <th>2</th>\n",
       "      <td>1</td>\n",
       "      <td>0</td>\n",
       "      <td>17</td>\n",
       "    </tr>\n",
       "    <tr>\n",
       "      <th>3</th>\n",
       "      <td>1</td>\n",
       "      <td>1</td>\n",
       "      <td>7</td>\n",
       "    </tr>\n",
       "  </tbody>\n",
       "</table>\n",
       "</div>"
      ],
      "text/plain": [
       "   Dx  Biopsy  count\n",
       "0   0       0    786\n",
       "1   0       1     48\n",
       "2   1       0     17\n",
       "3   1       1      7"
      ]
     },
     "execution_count": 35,
     "metadata": {},
     "output_type": "execute_result"
    }
   ],
   "source": [
    "dignosis = data[[\"Dx\", \"Hinselmann\", \"Schiller\",\"Citology\",\"Biopsy\"]]\n",
    "dignosis.groupby(['Dx','Biopsy']).size().reset_index().rename(columns={0:'count'})"
   ]
  },
  {
   "cell_type": "markdown",
   "metadata": {},
   "source": [
    "# plot Age distribution"
   ]
  },
  {
   "cell_type": "code",
   "execution_count": 15,
   "metadata": {},
   "outputs": [
    {
     "data": {
      "text/plain": [
       "<matplotlib.legend.Legend at 0x1b04f5148d0>"
      ]
     },
     "execution_count": 15,
     "metadata": {},
     "output_type": "execute_result"
    },
    {
     "data": {
      "image/png": "[encoded data removed]",
      "text/plain": [
       "<Figure size 432x288 with 1 Axes>"
      ]
     },
     "metadata": {
      "needs_background": "light"
     },
     "output_type": "display_data"
    }
   ],
   "source": [
    "plt.hist(data[\"Age\"],alpha=0.5)\n",
    "plt.axvline(data[\"Age\"].mean(), color='k', linestyle='dashed', linewidth=1, label = 'mean')\n",
    "plt.axvline(data[\"Age\"].median(), color='r', linestyle='dashed', linewidth=1,label = 'median')\n",
    "plt.legend()"
   ]
  },
  {
   "cell_type": "code",
   "execution_count": 11,
   "metadata": {},
   "outputs": [
    {
     "name": "stderr",
     "output_type": "stream",
     "text": [
      "C:\\Users\\Yi\\Anaconda3\\lib\\site-packages\\numpy\\lib\\histograms.py:824: RuntimeWarning: invalid value encountered in greater_equal\n",
      "  keep = (tmp_a >= first_edge)\n",
      "C:\\Users\\Yi\\Anaconda3\\lib\\site-packages\\numpy\\lib\\histograms.py:825: RuntimeWarning: invalid value encountered in less_equal\n",
      "  keep &= (tmp_a <= last_edge)\n"
     ]
    },
    {
     "data": {
      "text/plain": [
       "<matplotlib.lines.Line2D at 0x1b04f54bb70>"
      ]
     },
     "execution_count": 11,
     "metadata": {},
     "output_type": "execute_result"
    },
    {
     "data": {
      "image/png": "[encoded data removed]",
      "text/plain": [
       "<Figure size 432x288 with 1 Axes>"
      ]
     },
     "metadata": {
      "needs_background": "light"
     },
     "output_type": "display_data"
    }
   ],
   "source": [
    "plt.hist(data['Number of sexual partners'],alpha=0.5)\n",
    "plt.axvline(data['Number of sexual partners'].mean(), color='k', linestyle='dashed', linewidth=1)\n",
    "plt.axvline(data['Number of sexual partners'].median(), color='r', linestyle='dashed', linewidth=1)"
   ]
  },
  {
   "cell_type": "code",
   "execution_count": null,
   "metadata": {},
   "outputs": [],
   "source": []
  },
  {
   "cell_type": "code",
   "execution_count": null,
   "metadata": {},
   "outputs": [],
   "source": []
  },
  {
   "cell_type": "code",
   "execution_count": null,
   "metadata": {},
   "outputs": [],
   "source": []
  },
  {
   "cell_type": "code",
   "execution_count": null,
   "metadata": {},
   "outputs": [],
   "source": []
  },
  {
   "cell_type": "code",
   "execution_count": null,
   "metadata": {},
   "outputs": [],
   "source": []
  },
  {
   "cell_type": "code",
   "execution_count": null,
   "metadata": {},
   "outputs": [],
   "source": []
  },
  {
   "cell_type": "code",
   "execution_count": null,
   "metadata": {},
   "outputs": [],
   "source": []
  },
  {
   "cell_type": "code",
   "execution_count": null,
   "metadata": {},
   "outputs": [],
   "source": []
  },
  {
   "cell_type": "code",
   "execution_count": null,
   "metadata": {},
   "outputs": [],
   "source": []
  },
  {
   "cell_type": "code",
   "execution_count": null,
   "metadata": {},
   "outputs": [],
   "source": []
  },
  {
   "cell_type": "code",
   "execution_count": null,
   "metadata": {},
   "outputs": [],
   "source": []
  }
 ],
 "metadata": {
  "kernelspec": {
   "display_name": "Python 3",
   "language": "python",
   "name": "python3"
  },
  "language_info": {
   "codemirror_mode": {
    "name": "ipython",
    "version": 3
   },
   "file_extension": ".py",
   "mimetype": "text/x-python",
   "name": "python",
   "nbconvert_exporter": "python",
   "pygments_lexer": "ipython3",
   "version": "3.7.3"
  }
 },
 "nbformat": 4,
 "nbformat_minor": 2
}
