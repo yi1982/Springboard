{
 "cells": [
  {
   "cell_type": "code",
   "execution_count": 1,
   "metadata": {},
   "outputs": [],
   "source": [
    "#import pandas\n",
    "import pandas as pd\n",
    "#import numpy\n",
    "import numpy as np\n",
    "#import matplotlib\n",
    "import matplotlib.pyplot as plt\n",
    "#import seaborn\n",
    "import seaborn as sns\n",
    "#import scipy.stats\n",
    "import scipy.stats as stats "
   ]
  },
  {
   "cell_type": "code",
   "execution_count": 2,
   "metadata": {},
   "outputs": [],
   "source": [
    "#change directory\n",
    "import os\n",
    "os.chdir('C:\\LY\\springboard\\capstone projects\\cervical cancer')"
   ]
  },
  {
   "cell_type": "code",
   "execution_count": 3,
   "metadata": {},
   "outputs": [],
   "source": [
    "filename = \"cervical_cancer_data_wrangling.csv\""
   ]
  },
  {
   "cell_type": "code",
   "execution_count": 4,
   "metadata": {},
   "outputs": [],
   "source": [
    "data = pd.read_csv(filename)"
   ]
  },
  {
   "cell_type": "code",
   "execution_count": 5,
   "metadata": {},
   "outputs": [],
   "source": [
    "#drop columns\n",
    "df_new = data.drop(['Unnamed: 0','STDs: Time since first diagnosis','STDs: Time since last diagnosis','Hinselmann','Schiller','Citology'],axis=1)"
   ]
  },
  {
   "cell_type": "code",
   "execution_count": 6,
   "metadata": {},
   "outputs": [],
   "source": [
    "#cols with numeric data\n",
    "numeric_cols = ['Age','Number of sexual partners', 'First sexual intercourse', 'Num of pregnancies', 'Smokes (years)', \n",
    "                'Smokes (packs/year)', 'Hormonal Contraceptives (years)', 'IUD (years)', 'STDs (number)',\n",
    "                'STDs: Number of diagnosis']"
   ]
  },
  {
   "cell_type": "code",
   "execution_count": 7,
   "metadata": {},
   "outputs": [],
   "source": [
    "#cols with catagorical data\n",
    "cata_cols = ['Smokes', 'Hormonal Contraceptives', 'IUD', 'STDs', 'STDs:condylomatosis', 'STDs:cervical condylomatosis', 'STDs:vaginal condylomatosis', \n",
    "             'STDs:vulvo-perineal condylomatosis', 'STDs:syphilis', 'STDs:pelvic inflammatory disease', 'STDs:genital herpes', \n",
    "             'STDs:molluscum contagiosum', 'STDs:AIDS', 'STDs:HIV', 'STDs:Hepatitis B', 'STDs:HPV', 'Dx:Cancer', 'Dx:CIN',\n",
    "             'Dx:HPV', 'Dx']"
   ]
  },
  {
   "cell_type": "code",
   "execution_count": 106,
   "metadata": {},
   "outputs": [],
   "source": [
    "# ignore warnings\n",
    "import warnings\n",
    "warnings.filterwarnings('ignore')\n",
    "\n",
    "from warnings import simplefilter\n",
    "simplefilter(action='ignore', category=FutureWarning)"
   ]
  },
  {
   "cell_type": "markdown",
   "metadata": {},
   "source": [
    "# preprocessing"
   ]
  },
  {
   "cell_type": "code",
   "execution_count": 10,
   "metadata": {},
   "outputs": [
    {
     "data": {
      "text/html": [
       "<div>\n",
       "<style scoped>\n",
       "    .dataframe tbody tr th:only-of-type {\n",
       "        vertical-align: middle;\n",
       "    }\n",
       "\n",
       "    .dataframe tbody tr th {\n",
       "        vertical-align: top;\n",
       "    }\n",
       "\n",
       "    .dataframe thead th {\n",
       "        text-align: right;\n",
       "    }\n",
       "</style>\n",
       "<table border=\"1\" class=\"dataframe\">\n",
       "  <thead>\n",
       "    <tr style=\"text-align: right;\">\n",
       "      <th></th>\n",
       "      <th>Age</th>\n",
       "      <th>Number of sexual partners</th>\n",
       "      <th>First sexual intercourse</th>\n",
       "      <th>Num of pregnancies</th>\n",
       "      <th>Smokes</th>\n",
       "      <th>Smokes (years)</th>\n",
       "      <th>Smokes (packs/year)</th>\n",
       "      <th>Hormonal Contraceptives</th>\n",
       "      <th>Hormonal Contraceptives (years)</th>\n",
       "      <th>IUD</th>\n",
       "      <th>...</th>\n",
       "      <th>STDs:AIDS</th>\n",
       "      <th>STDs:HIV</th>\n",
       "      <th>STDs:Hepatitis B</th>\n",
       "      <th>STDs:HPV</th>\n",
       "      <th>STDs: Number of diagnosis</th>\n",
       "      <th>Dx:Cancer</th>\n",
       "      <th>Dx:CIN</th>\n",
       "      <th>Dx:HPV</th>\n",
       "      <th>Dx</th>\n",
       "      <th>Biopsy</th>\n",
       "    </tr>\n",
       "  </thead>\n",
       "  <tbody>\n",
       "    <tr>\n",
       "      <th>count</th>\n",
       "      <td>8.580000e+02</td>\n",
       "      <td>8.580000e+02</td>\n",
       "      <td>8.580000e+02</td>\n",
       "      <td>8.580000e+02</td>\n",
       "      <td>858.000000</td>\n",
       "      <td>8.580000e+02</td>\n",
       "      <td>8.580000e+02</td>\n",
       "      <td>858.000000</td>\n",
       "      <td>8.580000e+02</td>\n",
       "      <td>858.000000</td>\n",
       "      <td>...</td>\n",
       "      <td>858.0</td>\n",
       "      <td>858.000000</td>\n",
       "      <td>858.000000</td>\n",
       "      <td>858.000000</td>\n",
       "      <td>8.580000e+02</td>\n",
       "      <td>858.000000</td>\n",
       "      <td>858.000000</td>\n",
       "      <td>858.000000</td>\n",
       "      <td>858.000000</td>\n",
       "      <td>858.000000</td>\n",
       "    </tr>\n",
       "    <tr>\n",
       "      <th>mean</th>\n",
       "      <td>3.718212e-16</td>\n",
       "      <td>1.907306e-16</td>\n",
       "      <td>7.660280e-17</td>\n",
       "      <td>2.207506e-16</td>\n",
       "      <td>0.143357</td>\n",
       "      <td>-9.562410e-17</td>\n",
       "      <td>-1.412364e-16</td>\n",
       "      <td>0.686480</td>\n",
       "      <td>-1.451183e-16</td>\n",
       "      <td>0.096737</td>\n",
       "      <td>...</td>\n",
       "      <td>0.0</td>\n",
       "      <td>0.020979</td>\n",
       "      <td>0.001166</td>\n",
       "      <td>0.002331</td>\n",
       "      <td>-6.870961e-17</td>\n",
       "      <td>0.020979</td>\n",
       "      <td>0.010490</td>\n",
       "      <td>0.020979</td>\n",
       "      <td>0.027972</td>\n",
       "      <td>0.064103</td>\n",
       "    </tr>\n",
       "    <tr>\n",
       "      <th>std</th>\n",
       "      <td>1.000583e+00</td>\n",
       "      <td>1.000583e+00</td>\n",
       "      <td>1.000583e+00</td>\n",
       "      <td>1.000583e+00</td>\n",
       "      <td>0.350641</td>\n",
       "      <td>1.000583e+00</td>\n",
       "      <td>1.000583e+00</td>\n",
       "      <td>0.464194</td>\n",
       "      <td>1.000583e+00</td>\n",
       "      <td>0.295771</td>\n",
       "      <td>...</td>\n",
       "      <td>0.0</td>\n",
       "      <td>0.143398</td>\n",
       "      <td>0.034139</td>\n",
       "      <td>0.048252</td>\n",
       "      <td>1.000583e+00</td>\n",
       "      <td>0.143398</td>\n",
       "      <td>0.101939</td>\n",
       "      <td>0.143398</td>\n",
       "      <td>0.164989</td>\n",
       "      <td>0.245078</td>\n",
       "    </tr>\n",
       "    <tr>\n",
       "      <th>min</th>\n",
       "      <td>-1.627284e+00</td>\n",
       "      <td>-9.196100e-01</td>\n",
       "      <td>-2.507060e+00</td>\n",
       "      <td>-1.612364e+00</td>\n",
       "      <td>0.000000</td>\n",
       "      <td>-2.959993e-01</td>\n",
       "      <td>-2.020215e-01</td>\n",
       "      <td>0.000000</td>\n",
       "      <td>-5.709267e-01</td>\n",
       "      <td>0.000000</td>\n",
       "      <td>...</td>\n",
       "      <td>0.0</td>\n",
       "      <td>0.000000</td>\n",
       "      <td>0.000000</td>\n",
       "      <td>0.000000</td>\n",
       "      <td>-2.890930e-01</td>\n",
       "      <td>0.000000</td>\n",
       "      <td>0.000000</td>\n",
       "      <td>0.000000</td>\n",
       "      <td>0.000000</td>\n",
       "      <td>0.000000</td>\n",
       "    </tr>\n",
       "    <tr>\n",
       "      <th>25%</th>\n",
       "      <td>-8.030752e-01</td>\n",
       "      <td>-3.112635e-01</td>\n",
       "      <td>-7.151094e-01</td>\n",
       "      <td>-8.981627e-01</td>\n",
       "      <td>0.000000</td>\n",
       "      <td>-2.959993e-01</td>\n",
       "      <td>-2.020215e-01</td>\n",
       "      <td>0.000000</td>\n",
       "      <td>-5.709267e-01</td>\n",
       "      <td>0.000000</td>\n",
       "      <td>...</td>\n",
       "      <td>0.0</td>\n",
       "      <td>0.000000</td>\n",
       "      <td>0.000000</td>\n",
       "      <td>0.000000</td>\n",
       "      <td>-2.890930e-01</td>\n",
       "      <td>0.000000</td>\n",
       "      <td>0.000000</td>\n",
       "      <td>0.000000</td>\n",
       "      <td>0.000000</td>\n",
       "      <td>0.000000</td>\n",
       "    </tr>\n",
       "    <tr>\n",
       "      <th>50%</th>\n",
       "      <td>-2.143546e-01</td>\n",
       "      <td>-3.112635e-01</td>\n",
       "      <td>1.670816e-03</td>\n",
       "      <td>-1.839610e-01</td>\n",
       "      <td>0.000000</td>\n",
       "      <td>-2.959993e-01</td>\n",
       "      <td>-2.020215e-01</td>\n",
       "      <td>1.000000</td>\n",
       "      <td>-4.306727e-01</td>\n",
       "      <td>0.000000</td>\n",
       "      <td>...</td>\n",
       "      <td>0.0</td>\n",
       "      <td>0.000000</td>\n",
       "      <td>0.000000</td>\n",
       "      <td>0.000000</td>\n",
       "      <td>-2.890930e-01</td>\n",
       "      <td>0.000000</td>\n",
       "      <td>0.000000</td>\n",
       "      <td>0.000000</td>\n",
       "      <td>0.000000</td>\n",
       "      <td>0.000000</td>\n",
       "    </tr>\n",
       "    <tr>\n",
       "      <th>75%</th>\n",
       "      <td>6.098541e-01</td>\n",
       "      <td>2.970830e-01</td>\n",
       "      <td>3.600609e-01</td>\n",
       "      <td>5.302406e-01</td>\n",
       "      <td>0.000000</td>\n",
       "      <td>-2.959993e-01</td>\n",
       "      <td>-2.020215e-01</td>\n",
       "      <td>1.000000</td>\n",
       "      <td>-9.910759e-03</td>\n",
       "      <td>0.000000</td>\n",
       "      <td>...</td>\n",
       "      <td>0.0</td>\n",
       "      <td>0.000000</td>\n",
       "      <td>0.000000</td>\n",
       "      <td>0.000000</td>\n",
       "      <td>-2.890930e-01</td>\n",
       "      <td>0.000000</td>\n",
       "      <td>0.000000</td>\n",
       "      <td>0.000000</td>\n",
       "      <td>0.000000</td>\n",
       "      <td>0.000000</td>\n",
       "    </tr>\n",
       "    <tr>\n",
       "      <th>max</th>\n",
       "      <td>6.732547e+00</td>\n",
       "      <td>1.550575e+01</td>\n",
       "      <td>5.377522e+00</td>\n",
       "      <td>6.243854e+00</td>\n",
       "      <td>1.000000</td>\n",
       "      <td>8.821219e+00</td>\n",
       "      <td>1.654716e+01</td>\n",
       "      <td>1.000000</td>\n",
       "      <td>7.844313e+00</td>\n",
       "      <td>1.000000</td>\n",
       "      <td>...</td>\n",
       "      <td>0.0</td>\n",
       "      <td>1.000000</td>\n",
       "      <td>1.000000</td>\n",
       "      <td>1.000000</td>\n",
       "      <td>9.632579e+00</td>\n",
       "      <td>1.000000</td>\n",
       "      <td>1.000000</td>\n",
       "      <td>1.000000</td>\n",
       "      <td>1.000000</td>\n",
       "      <td>1.000000</td>\n",
       "    </tr>\n",
       "  </tbody>\n",
       "</table>\n",
       "<p>8 rows × 31 columns</p>\n",
       "</div>"
      ],
      "text/plain": [
       "                Age  Number of sexual partners  First sexual intercourse  \\\n",
       "count  8.580000e+02               8.580000e+02              8.580000e+02   \n",
       "mean   3.718212e-16               1.907306e-16              7.660280e-17   \n",
       "std    1.000583e+00               1.000583e+00              1.000583e+00   \n",
       "min   -1.627284e+00              -9.196100e-01             -2.507060e+00   \n",
       "25%   -8.030752e-01              -3.112635e-01             -7.151094e-01   \n",
       "50%   -2.143546e-01              -3.112635e-01              1.670816e-03   \n",
       "75%    6.098541e-01               2.970830e-01              3.600609e-01   \n",
       "max    6.732547e+00               1.550575e+01              5.377522e+00   \n",
       "\n",
       "       Num of pregnancies      Smokes  Smokes (years)  Smokes (packs/year)  \\\n",
       "count        8.580000e+02  858.000000    8.580000e+02         8.580000e+02   \n",
       "mean         2.207506e-16    0.143357   -9.562410e-17        -1.412364e-16   \n",
       "std          1.000583e+00    0.350641    1.000583e+00         1.000583e+00   \n",
       "min         -1.612364e+00    0.000000   -2.959993e-01        -2.020215e-01   \n",
       "25%         -8.981627e-01    0.000000   -2.959993e-01        -2.020215e-01   \n",
       "50%         -1.839610e-01    0.000000   -2.959993e-01        -2.020215e-01   \n",
       "75%          5.302406e-01    0.000000   -2.959993e-01        -2.020215e-01   \n",
       "max          6.243854e+00    1.000000    8.821219e+00         1.654716e+01   \n",
       "\n",
       "       Hormonal Contraceptives  Hormonal Contraceptives (years)         IUD  \\\n",
       "count               858.000000                     8.580000e+02  858.000000   \n",
       "mean                  0.686480                    -1.451183e-16    0.096737   \n",
       "std                   0.464194                     1.000583e+00    0.295771   \n",
       "min                   0.000000                    -5.709267e-01    0.000000   \n",
       "25%                   0.000000                    -5.709267e-01    0.000000   \n",
       "50%                   1.000000                    -4.306727e-01    0.000000   \n",
       "75%                   1.000000                    -9.910759e-03    0.000000   \n",
       "max                   1.000000                     7.844313e+00    1.000000   \n",
       "\n",
       "       ...  STDs:AIDS    STDs:HIV  STDs:Hepatitis B    STDs:HPV  \\\n",
       "count  ...      858.0  858.000000        858.000000  858.000000   \n",
       "mean   ...        0.0    0.020979          0.001166    0.002331   \n",
       "std    ...        0.0    0.143398          0.034139    0.048252   \n",
       "min    ...        0.0    0.000000          0.000000    0.000000   \n",
       "25%    ...        0.0    0.000000          0.000000    0.000000   \n",
       "50%    ...        0.0    0.000000          0.000000    0.000000   \n",
       "75%    ...        0.0    0.000000          0.000000    0.000000   \n",
       "max    ...        0.0    1.000000          1.000000    1.000000   \n",
       "\n",
       "       STDs: Number of diagnosis   Dx:Cancer      Dx:CIN      Dx:HPV  \\\n",
       "count               8.580000e+02  858.000000  858.000000  858.000000   \n",
       "mean               -6.870961e-17    0.020979    0.010490    0.020979   \n",
       "std                 1.000583e+00    0.143398    0.101939    0.143398   \n",
       "min                -2.890930e-01    0.000000    0.000000    0.000000   \n",
       "25%                -2.890930e-01    0.000000    0.000000    0.000000   \n",
       "50%                -2.890930e-01    0.000000    0.000000    0.000000   \n",
       "75%                -2.890930e-01    0.000000    0.000000    0.000000   \n",
       "max                 9.632579e+00    1.000000    1.000000    1.000000   \n",
       "\n",
       "               Dx      Biopsy  \n",
       "count  858.000000  858.000000  \n",
       "mean     0.027972    0.064103  \n",
       "std      0.164989    0.245078  \n",
       "min      0.000000    0.000000  \n",
       "25%      0.000000    0.000000  \n",
       "50%      0.000000    0.000000  \n",
       "75%      0.000000    0.000000  \n",
       "max      1.000000    1.000000  \n",
       "\n",
       "[8 rows x 31 columns]"
      ]
     },
     "execution_count": 10,
     "metadata": {},
     "output_type": "execute_result"
    }
   ],
   "source": [
    "#standardize\n",
    "from sklearn import preprocessing\n",
    "\n",
    "for col in df_new[numeric_cols][:-1]:\n",
    "    df_new[col]= preprocessing.scale(df_new[col])\n",
    "\n",
    "df_new.describe()"
   ]
  },
  {
   "cell_type": "markdown",
   "metadata": {},
   "source": [
    "# modeling"
   ]
  },
  {
   "cell_type": "markdown",
   "metadata": {},
   "source": [
    "## splitting training and test set"
   ]
  },
  {
   "cell_type": "code",
   "execution_count": 13,
   "metadata": {},
   "outputs": [
    {
     "data": {
      "text/plain": [
       "0    163\n",
       "1      9\n",
       "Name: Biopsy, dtype: int64"
      ]
     },
     "execution_count": 13,
     "metadata": {},
     "output_type": "execute_result"
    }
   ],
   "source": [
    "from sklearn.model_selection import train_test_split\n",
    "\n",
    "# Split the data into a training and test set.\n",
    "Xtrain, Xtest, ytrain, ytest = train_test_split(df_new.drop(['Biopsy'], axis=1),df_new['Biopsy'] ,test_size=0.2,random_state=5)\n",
    "\n",
    "ytest.value_counts()"
   ]
  },
  {
   "cell_type": "markdown",
   "metadata": {},
   "source": [
    "## Helper function to print the scores for evaluating the classifiers"
   ]
  },
  {
   "cell_type": "code",
   "execution_count": 14,
   "metadata": {},
   "outputs": [],
   "source": [
    "from sklearn.metrics import accuracy_score\n",
    "from sklearn.metrics import recall_score\n",
    "from sklearn.metrics import f1_score\n",
    "from sklearn.metrics import precision_score\n",
    "from sklearn.metrics import classification_report\n",
    "from sklearn.metrics import confusion_matrix\n",
    "\n",
    "def helper(classificationmethod):\n",
    "    \n",
    "    pred = classificationmethod.predict(Xtest)\n",
    "    confusion_matrix(ytest, pred)\n",
    "    tn, fp,fn, tp = confusion_matrix(ytest, pred).ravel()\n",
    "    # Print the scores from the testing data.\n",
    "    print('accuracy_score=', accuracy_score(ytest,pred))\n",
    "    print('recall_score=', recall_score(ytest,pred))\n",
    "    print('f1_score', f1_score(ytest,pred))\n",
    "    print('precision_score=', precision_score(ytest,pred))\n",
    "    print(classification_report(ytest, pred))\n",
    "    print('tn=',tn, ', fp=',fp, ', fn=',fn,', tp=',tp)\n",
    "    \n",
    "def fea_selection_helper(classificationmethod,X_select):\n",
    "    \n",
    "    pred = classificationmethod.predict(X_select)\n",
    "    confusion_matrix(ytest, pred)\n",
    "    tn, fp,fn, tp = confusion_matrix(ytest, pred).ravel()\n",
    "    # Print the scores from the testing data.\n",
    "    print('accuracy_score=', accuracy_score(ytest,pred))\n",
    "    print('recall_score=', recall_score(ytest,pred))\n",
    "    print('f1_score', f1_score(ytest,pred))\n",
    "    print('precision_score=', precision_score(ytest,pred))\n",
    "    print(classification_report(ytest, pred))##, target_names=target_names))\n",
    "    print('tn=',tn, ', fp=',fp, ', fn=',fn,', tp=',tp)\n"
   ]
  },
  {
   "cell_type": "markdown",
   "metadata": {},
   "source": [
    "# import modules"
   ]
  },
  {
   "cell_type": "code",
   "execution_count": 15,
   "metadata": {},
   "outputs": [],
   "source": [
    "from sklearn.model_selection import GridSearchCV\n",
    "from sklearn.model_selection import RandomizedSearchCV\n",
    "\n",
    "#Logistic regression\n",
    "from sklearn.linear_model import LogisticRegression\n",
    "#Support vector machine\n",
    "from sklearn.svm import SVC\n",
    "#Decision tree\n",
    "from sklearn import tree\n",
    "#Random forest\n",
    "from sklearn.ensemble import RandomForestClassifier"
   ]
  },
  {
   "cell_type": "markdown",
   "metadata": {},
   "source": [
    "## Logistic regression"
   ]
  },
  {
   "cell_type": "code",
   "execution_count": 113,
   "metadata": {},
   "outputs": [
    {
     "name": "stdout",
     "output_type": "stream",
     "text": [
      "{'C': 100}\n",
      "accuracy_score= 0.9418604651162791\n",
      "recall_score= 0.1111111111111111\n",
      "f1_score 0.16666666666666666\n",
      "precision_score= 0.3333333333333333\n",
      "              precision    recall  f1-score   support\n",
      "\n",
      "           0       0.95      0.99      0.97       163\n",
      "           1       0.33      0.11      0.17         9\n",
      "\n",
      "   micro avg       0.94      0.94      0.94       172\n",
      "   macro avg       0.64      0.55      0.57       172\n",
      "weighted avg       0.92      0.94      0.93       172\n",
      "\n",
      "tn= 161 , fp= 2 , fn= 8 , tp= 1\n"
     ]
    }
   ],
   "source": [
    "def lrc_helper(X,y,score):\n",
    "    \n",
    "    # tuning the model\n",
    "    # Setup the hyperparameter grid\n",
    "    c_space = [0.0001,0.001,0.01,0.1,1,10,100]\n",
    "\n",
    "    param_grid = {'C': c_space}\n",
    "\n",
    "    # Instantiate a logistic regression classifier:lrc\n",
    "    lrc = LogisticRegression()\n",
    "\n",
    "    # Instantiate the GridSearchCV object: lr_cv\n",
    "    lr_cv = GridSearchCV(lrc, param_grid, scoring = score, cv=5)  # recall_weighted\n",
    "\n",
    "    # Fit it to the data\n",
    "    lr_cv.fit(X,y)\n",
    "    \n",
    "    best_c = lr_cv.best_params_['C']\n",
    "\n",
    "    print(lr_cv.best_params_)\n",
    "    \n",
    "    # Instantiate a logistic regression classifier using best C:lrc\n",
    "    lrc = LogisticRegression(C=best_c)\n",
    "    \n",
    "    # Fit the model on the trainng data.\n",
    "    lrc.fit(X, y)\n",
    "\n",
    "    # Print the scores from the testing data.\n",
    "    helper(lrc)\n",
    "    \n",
    "lrc_helper(Xtrain,ytrain,'recall')"
   ]
  },
  {
   "cell_type": "markdown",
   "metadata": {},
   "source": [
    "##### lrc feature selection"
   ]
  },
  {
   "cell_type": "code",
   "execution_count": 114,
   "metadata": {},
   "outputs": [
    {
     "name": "stdout",
     "output_type": "stream",
     "text": [
      "accuracy_score= 0.9476744186046512\n",
      "recall_score= 0.1111111111111111\n",
      "f1_score 0.1818181818181818\n",
      "precision_score= 0.5\n",
      "              precision    recall  f1-score   support\n",
      "\n",
      "           0       0.95      0.99      0.97       163\n",
      "           1       0.50      0.11      0.18         9\n",
      "\n",
      "   micro avg       0.95      0.95      0.95       172\n",
      "   macro avg       0.73      0.55      0.58       172\n",
      "weighted avg       0.93      0.95      0.93       172\n",
      "\n",
      "tn= 162 , fp= 1 , fn= 8 , tp= 1\n"
     ]
    }
   ],
   "source": [
    "#feature importance\n",
    "#intercept\n",
    "\n",
    "lrc = LogisticRegression(C=100)\n",
    "lrc.fit(Xtrain,ytrain)\n",
    "coefs = lrc.coef_[0]\n",
    "feature_ranks = []\n",
    "for index,coef in enumerate(coefs):\n",
    "#    print(df_new.columns[index])\n",
    "    feature_ranks.append([coef, Xtrain.columns[index]])\n",
    "feature_ranks = sorted(feature_ranks,key = lambda x:abs(x[0]))\n",
    "fea_selected = [i[1] for i in feature_ranks[-11:] ]\n",
    "fea_selected\n",
    "\n",
    "lrc.fit(Xtrain[fea_selected],ytrain)\n",
    "fea_selection_helper(lrc,Xtest[fea_selected])"
   ]
  },
  {
   "cell_type": "code",
   "execution_count": 108,
   "metadata": {},
   "outputs": [
    {
     "data": {
      "text/plain": [
       "Text(0.5, 1.0, 'Feature importance for Logistic Regression')"
      ]
     },
     "execution_count": 108,
     "metadata": {},
     "output_type": "execute_result"
    },
    {
     "data": {
      "image/png": "[encoded data removed]",
      "text/plain": [
       "<Figure size 432x288 with 1 Axes>"
      ]
     },
     "metadata": {
      "needs_background": "light"
     },
     "output_type": "display_data"
    }
   ],
   "source": [
    "feature_selected = [i for i in feature_ranks[-11:] ]\n",
    "feature_selected\n",
    "index = [i[1] for i in feature_selected]\n",
    "index.reverse()\n",
    "value = [abs(i[0]) for i in feature_selected]\n",
    "value.reverse()\n",
    "plt.barh(index,value)\n",
    "plt.title('Feature importance for Logistic Regression')"
   ]
  },
  {
   "cell_type": "markdown",
   "metadata": {},
   "source": [
    "## support vector machine"
   ]
  },
  {
   "cell_type": "code",
   "execution_count": 115,
   "metadata": {},
   "outputs": [
    {
     "name": "stdout",
     "output_type": "stream",
     "text": [
      "{'C': 100, 'kernel': 'rbf'}\n",
      "accuracy_score= 0.9127906976744186\n",
      "recall_score= 0.2222222222222222\n",
      "f1_score 0.2105263157894737\n",
      "precision_score= 0.2\n",
      "              precision    recall  f1-score   support\n",
      "\n",
      "           0       0.96      0.95      0.95       163\n",
      "           1       0.20      0.22      0.21         9\n",
      "\n",
      "   micro avg       0.91      0.91      0.91       172\n",
      "   macro avg       0.58      0.59      0.58       172\n",
      "weighted avg       0.92      0.91      0.91       172\n",
      "\n",
      "tn= 155 , fp= 8 , fn= 7 , tp= 2\n"
     ]
    }
   ],
   "source": [
    "def svm_helper(X,y,score):\n",
    "    # tuning the model\n",
    "\n",
    "    # Setup the hyperparameter grid\n",
    "    SVM_c_space = [1,10,100]\n",
    "    SVM_kernel_space = ['linear','rbf']\n",
    "\n",
    "    param_grid = {'C': SVM_c_space,'kernel': SVM_kernel_space}\n",
    "\n",
    "    # Instantiate a svc classifier: svm\n",
    "    svm = SVC()\n",
    "\n",
    "    # Instantiate the GridSearchCV object: svm_cv\n",
    "    svm_cv = GridSearchCV(svm, param_grid, scoring = score, cv=5)\n",
    "\n",
    "    # Fit it to the datas\n",
    "    svm_cv.fit(X,y)\n",
    "\n",
    "    print(svm_cv.best_params_)\n",
    "    \n",
    "    best_kernel = svm_cv.best_params_['kernel']\n",
    "    best_c = svm_cv.best_params_['C']\n",
    "    \n",
    "    svm = SVC(kernel=best_kernel,C=best_c)\n",
    "    svm.fit(X,y) #f1\n",
    "\n",
    "    # Print the scores from the testing data.\n",
    "    helper(svm)\n",
    "\n",
    "svm_helper(Xtrain,ytrain,'recall')"
   ]
  },
  {
   "cell_type": "markdown",
   "metadata": {},
   "source": [
    "## decision tree"
   ]
  },
  {
   "cell_type": "code",
   "execution_count": 62,
   "metadata": {
    "collapsed": true
   },
   "outputs": [
    {
     "name": "stdout",
     "output_type": "stream",
     "text": [
      "accuracy_score= 0.8895348837209303\n",
      "recall_score= 0.4444444444444444\n",
      "f1_score 0.2962962962962963\n",
      "precision_score= 0.2222222222222222\n",
      "              precision    recall  f1-score   support\n",
      "\n",
      "           0       0.97      0.91      0.94       163\n",
      "           1       0.22      0.44      0.30         9\n",
      "\n",
      "   micro avg       0.89      0.89      0.89       172\n",
      "   macro avg       0.59      0.68      0.62       172\n",
      "weighted avg       0.93      0.89      0.91       172\n",
      "\n",
      "tn= 149 , fp= 14 , fn= 5 , tp= 4\n",
      "Parameters currently in use:\n",
      "\n",
      "{'class_weight': None, 'criterion': 'gini', 'max_depth': None, 'max_features': None, 'max_leaf_nodes': None, 'min_impurity_decrease': 0.0, 'min_impurity_split': None, 'min_samples_leaf': 1, 'min_samples_split': 2, 'min_weight_fraction_leaf': 0.0, 'presort': False, 'random_state': 5, 'splitter': 'best'}\n"
     ]
    }
   ],
   "source": [
    "dt = tree.DecisionTreeClassifier(random_state=5)\n",
    "dt.fit(Xtrain, ytrain)\n",
    "\n",
    "# Print the scores from the testing data.\n",
    "helper(dt)\n",
    "\n",
    "# Look at parameters used by our current forest\n",
    "print('Parameters currently in use:\\n')\n",
    "print(dt.get_params())"
   ]
  },
  {
   "cell_type": "markdown",
   "metadata": {},
   "source": [
    "### DT feature selection"
   ]
  },
  {
   "cell_type": "code",
   "execution_count": 109,
   "metadata": {},
   "outputs": [
    {
     "name": "stdout",
     "output_type": "stream",
     "text": [
      "[0.08100615 0.08492999 0.51758065 0.08104223 0.0052116  0.00359225\n",
      " 0.03734919 0.00421126 0.05651358 0.00156617 0.02089065 0.\n",
      " 0.00522057 0.00288072 0.         0.         0.03517388 0.\n",
      " 0.         0.01724535 0.         0.         0.0028944  0.\n",
      " 0.         0.00086098 0.00280621 0.         0.00132956 0.03769462]\n"
     ]
    },
    {
     "data": {
      "image/png": "[encoded data removed]",
      "text/plain": [
       "<Figure size 432x288 with 1 Axes>"
      ]
     },
     "metadata": {
      "needs_background": "light"
     },
     "output_type": "display_data"
    }
   ],
   "source": [
    "print(dt.feature_importances_)\n",
    "#plot graph of feature importances for better visualization\n",
    "feat_importances = pd.Series(dt.feature_importances_, index=Xtrain.columns)\n",
    "feat_importances.nlargest(10).plot(kind='barh')\n",
    "plt.title(\"Feature Importance for Desicion Tree\")\n",
    "plt.show()"
   ]
  },
  {
   "cell_type": "code",
   "execution_count": 64,
   "metadata": {},
   "outputs": [
    {
     "name": "stdout",
     "output_type": "stream",
     "text": [
      "accuracy_score= 0.9069767441860465\n",
      "recall_score= 0.6666666666666666\n",
      "f1_score 0.42857142857142855\n",
      "precision_score= 0.3157894736842105\n",
      "              precision    recall  f1-score   support\n",
      "\n",
      "           0       0.98      0.92      0.95       163\n",
      "           1       0.32      0.67      0.43         9\n",
      "\n",
      "   micro avg       0.91      0.91      0.91       172\n",
      "   macro avg       0.65      0.79      0.69       172\n",
      "weighted avg       0.95      0.91      0.92       172\n",
      "\n",
      "tn= 150 , fp= 13 , fn= 3 , tp= 6\n"
     ]
    }
   ],
   "source": [
    "# using 10 most important features to train the model\n",
    "dt.fit(Xtrain[feat_importances.nlargest(10).index], ytrain)\n",
    "\n",
    "# Print the scores from the testing data.\n",
    "fea_selection_helper(dt,Xtest[feat_importances.nlargest(10).index])"
   ]
  },
  {
   "cell_type": "markdown",
   "metadata": {},
   "source": [
    "# Random forest"
   ]
  },
  {
   "cell_type": "code",
   "execution_count": 112,
   "metadata": {
    "scrolled": true
   },
   "outputs": [
    {
     "name": "stdout",
     "output_type": "stream",
     "text": [
      "Fitting 5 folds for each of 100 candidates, totalling 500 fits\n"
     ]
    },
    {
     "name": "stderr",
     "output_type": "stream",
     "text": [
      "[Parallel(n_jobs=-1)]: Using backend LokyBackend with 8 concurrent workers.\n",
      "[Parallel(n_jobs=-1)]: Done  25 tasks      | elapsed:    4.0s\n",
      "[Parallel(n_jobs=-1)]: Done 220 tasks      | elapsed:    8.6s\n",
      "[Parallel(n_jobs=-1)]: Done 500 out of 500 | elapsed:   16.3s finished\n"
     ]
    },
    {
     "name": "stdout",
     "output_type": "stream",
     "text": [
      "{'n_estimators': 178, 'min_samples_split': 2, 'min_samples_leaf': 1, 'max_features': 'auto', 'max_depth': 80, 'bootstrap': False}\n",
      "accuracy_score= 0.9534883720930233\n",
      "recall_score= 0.3333333333333333\n",
      "f1_score 0.42857142857142855\n",
      "precision_score= 0.6\n",
      "              precision    recall  f1-score   support\n",
      "\n",
      "           0       0.96      0.99      0.98       163\n",
      "           1       0.60      0.33      0.43         9\n",
      "\n",
      "   micro avg       0.95      0.95      0.95       172\n",
      "   macro avg       0.78      0.66      0.70       172\n",
      "weighted avg       0.95      0.95      0.95       172\n",
      "\n",
      "tn= 161 , fp= 2 , fn= 6 , tp= 3\n"
     ]
    }
   ],
   "source": [
    "def rfc_helper(X,y,score):\n",
    "        \n",
    "    # Number of trees in random forest\n",
    "    n_estimators = [int(x) for x in np.linspace(start = 10, stop = 200, num = 10)]\n",
    "    # Number of features to consider at every split\n",
    "    max_features = ['auto', 'sqrt']\n",
    "    # Maximum number of levels in tree\n",
    "    max_depth = [int(x) for x in np.linspace(10, 110, num = 11)]\n",
    "    max_depth.append(None)\n",
    "    # Minimum number of samples required to split a node\n",
    "    min_samples_split = [2, 5, 10]\n",
    "    # Minimum number of samples required at each leaf node\n",
    "    min_samples_leaf = [1, 2, 4]\n",
    "    # Method of selecting samples for training each tree\n",
    "    bootstrap = [True, False]\n",
    "    \n",
    "    # Create the random grid\n",
    "    random_grid = {'n_estimators': n_estimators,\n",
    "               'max_features': max_features,\n",
    "               'max_depth': max_depth,\n",
    "               'min_samples_split': min_samples_split,\n",
    "               'min_samples_leaf': min_samples_leaf,\n",
    "               'bootstrap': bootstrap}\n",
    "    \n",
    "    # Use the random grid to search for best hyperparameters\n",
    "    # First create the base model to tune\n",
    "    rfc = RandomForestClassifier()\n",
    "    # Random search of parameters, using 3 fold cross validation, \n",
    "    # search across 100 different combinations, and use all available cores\n",
    "    rfc_cv = RandomizedSearchCV(estimator = rfc, param_distributions = random_grid, n_iter = 100, cv = 5, verbose=2, random_state=5, n_jobs = -1,scoring='recall')\n",
    "    # Fit the random search model\n",
    "    rfc_cv.fit(X, y)\n",
    "    \n",
    "    print(rfc_cv.best_params_)    \n",
    "\n",
    "    # train model\n",
    "    rfc = RandomForestClassifier(n_estimators =rfc_cv.best_params_['n_estimators'],\n",
    "                                 min_samples_split=rfc_cv.best_params_['min_samples_split'],\n",
    "                                 min_samples_leaf=rfc_cv.best_params_['min_samples_leaf'],\n",
    "                                 max_features=rfc_cv.best_params_['max_features'],\n",
    "                                 max_depth=rfc_cv.best_params_['max_depth'],\n",
    "                                 bootstrap=rfc_cv.best_params_['bootstrap'],\n",
    "                                 random_state = 5)\n",
    "    rfc.fit(X, y)\n",
    "\n",
    "    # Print the scores from the testing data.\n",
    "    helper(rfc)\n",
    "    \n",
    "rfc_helper(Xtrain,ytrain,'recall')"
   ]
  },
  {
   "cell_type": "markdown",
   "metadata": {},
   "source": [
    "### rfc feature selection"
   ]
  },
  {
   "cell_type": "code",
   "execution_count": 110,
   "metadata": {},
   "outputs": [
    {
     "data": {
      "image/png": "[encoded data removed]",
      "text/plain": [
       "<Figure size 432x288 with 1 Axes>"
      ]
     },
     "metadata": {
      "needs_background": "light"
     },
     "output_type": "display_data"
    }
   ],
   "source": [
    "rfc = RandomForestClassifier(n_estimators =178,\n",
    "                                 min_samples_split=2,\n",
    "                                 min_samples_leaf=1,\n",
    "                                 max_features='auto',\n",
    "                                 max_depth=80,\n",
    "                                 bootstrap=False,\n",
    "                                 random_state = 5)\n",
    "rfc.fit(Xtrain, ytrain)\n",
    "\n",
    "#plot graph of feature importances for better visualization\n",
    "feat_importances_rfc = pd.Series(rfc.feature_importances_, index=Xtrain.columns)\n",
    "feat_importances_rfc.nlargest(10).plot(kind='barh')\n",
    "plt.title('Feature importance for Random Forest')\n",
    "plt.show()"
   ]
  },
  {
   "cell_type": "code",
   "execution_count": 111,
   "metadata": {
    "scrolled": true
   },
   "outputs": [
    {
     "name": "stdout",
     "output_type": "stream",
     "text": [
      "accuracy_score= 0.9476744186046512\n",
      "recall_score= 0.2222222222222222\n",
      "f1_score 0.30769230769230765\n",
      "precision_score= 0.5\n",
      "              precision    recall  f1-score   support\n",
      "\n",
      "           0       0.96      0.99      0.97       163\n",
      "           1       0.50      0.22      0.31         9\n",
      "\n",
      "   micro avg       0.95      0.95      0.95       172\n",
      "   macro avg       0.73      0.60      0.64       172\n",
      "weighted avg       0.93      0.95      0.94       172\n",
      "\n",
      "tn= 161 , fp= 2 , fn= 7 , tp= 2\n"
     ]
    }
   ],
   "source": [
    "# using 10 most important features to train the model\n",
    "rfc.fit(Xtrain[feat_importances.nlargest(10).index], ytrain)\n",
    "\n",
    "# Print the scores from the testing data.\n",
    "fea_selection_helper(rfc,Xtest[feat_importances.nlargest(10).index])"
   ]
  },
  {
   "cell_type": "markdown",
   "metadata": {},
   "source": [
    "# Dealing with Imbalanced Data"
   ]
  },
  {
   "cell_type": "markdown",
   "metadata": {},
   "source": [
    "### upsampling"
   ]
  },
  {
   "cell_type": "code",
   "execution_count": 32,
   "metadata": {},
   "outputs": [
    {
     "data": {
      "text/plain": [
       "1    640\n",
       "0    640\n",
       "Name: Biopsy, dtype: int64"
      ]
     },
     "execution_count": 32,
     "metadata": {},
     "output_type": "execute_result"
    }
   ],
   "source": [
    "# upsample the minority class after splitting\n",
    "from sklearn.utils import resample\n",
    "\n",
    "X = pd.concat([Xtrain, ytrain], axis=1)\n",
    "\n",
    "#Separate majority and mimnority classes\n",
    "df_majority = X[X['Biopsy']==0]\n",
    "df_minority = X[X['Biopsy']==1]\n",
    "\n",
    "#upsample minority class\n",
    "df_minority_upsampled = resample(df_minority,replace=True,n_samples=len(df_majority),random_state=5)   #sample with replacement\n",
    "\n",
    "#combine majority class with upsampled minority class\n",
    "df_upsampled = pd.concat([df_majority,df_minority_upsampled])\n",
    "\n",
    "#display new class counts\n",
    "df_upsampled.Biopsy.value_counts()"
   ]
  },
  {
   "cell_type": "code",
   "execution_count": 33,
   "metadata": {},
   "outputs": [
    {
     "data": {
      "text/plain": [
       "1280"
      ]
     },
     "execution_count": 33,
     "metadata": {},
     "output_type": "execute_result"
    }
   ],
   "source": [
    "Xtrain_upsampled = df_upsampled.drop('Biopsy',axis=1)\n",
    "ytrain_upsampled = df_upsampled.Biopsy"
   ]
  },
  {
   "cell_type": "code",
   "execution_count": 116,
   "metadata": {
    "scrolled": true
   },
   "outputs": [
    {
     "name": "stdout",
     "output_type": "stream",
     "text": [
      "{'C': 0.01}\n",
      "accuracy_score= 0.7441860465116279\n",
      "recall_score= 0.5555555555555556\n",
      "f1_score 0.18518518518518515\n",
      "precision_score= 0.1111111111111111\n",
      "              precision    recall  f1-score   support\n",
      "\n",
      "           0       0.97      0.75      0.85       163\n",
      "           1       0.11      0.56      0.19         9\n",
      "\n",
      "   micro avg       0.74      0.74      0.74       172\n",
      "   macro avg       0.54      0.66      0.52       172\n",
      "weighted avg       0.92      0.74      0.81       172\n",
      "\n",
      "tn= 123 , fp= 40 , fn= 4 , tp= 5\n"
     ]
    }
   ],
   "source": [
    "lrc_helper(Xtrain_upsampled,ytrain_upsampled,'recall')"
   ]
  },
  {
   "cell_type": "code",
   "execution_count": 117,
   "metadata": {},
   "outputs": [
    {
     "name": "stdout",
     "output_type": "stream",
     "text": [
      "{'C': 100, 'kernel': 'rbf'}\n",
      "accuracy_score= 0.7790697674418605\n",
      "recall_score= 0.3333333333333333\n",
      "f1_score 0.13636363636363638\n",
      "precision_score= 0.08571428571428572\n",
      "              precision    recall  f1-score   support\n",
      "\n",
      "           0       0.96      0.80      0.87       163\n",
      "           1       0.09      0.33      0.14         9\n",
      "\n",
      "   micro avg       0.78      0.78      0.78       172\n",
      "   macro avg       0.52      0.57      0.50       172\n",
      "weighted avg       0.91      0.78      0.83       172\n",
      "\n",
      "tn= 131 , fp= 32 , fn= 6 , tp= 3\n"
     ]
    }
   ],
   "source": [
    "svm_helper(Xtrain_upsampled,ytrain_upsampled,'recall')"
   ]
  },
  {
   "cell_type": "code",
   "execution_count": 40,
   "metadata": {},
   "outputs": [
    {
     "name": "stdout",
     "output_type": "stream",
     "text": [
      "accuracy_score= 0.9069767441860465\n",
      "recall_score= 0.2222222222222222\n",
      "f1_score 0.19999999999999998\n",
      "precision_score= 0.18181818181818182\n",
      "              precision    recall  f1-score   support\n",
      "\n",
      "           0       0.96      0.94      0.95       163\n",
      "           1       0.18      0.22      0.20         9\n",
      "\n",
      "   micro avg       0.91      0.91      0.91       172\n",
      "   macro avg       0.57      0.58      0.58       172\n",
      "weighted avg       0.92      0.91      0.91       172\n",
      "\n",
      "tn= 154 , fp= 9 , fn= 7 , tp= 2\n"
     ]
    }
   ],
   "source": [
    "dt.fit(Xtrain_upsampled, ytrain_upsampled)\n",
    "\n",
    "# Print the scores from the testing data.\n",
    "helper(dt)"
   ]
  },
  {
   "cell_type": "code",
   "execution_count": 118,
   "metadata": {
    "scrolled": true
   },
   "outputs": [
    {
     "name": "stdout",
     "output_type": "stream",
     "text": [
      "Fitting 5 folds for each of 100 candidates, totalling 500 fits\n"
     ]
    },
    {
     "name": "stderr",
     "output_type": "stream",
     "text": [
      "[Parallel(n_jobs=-1)]: Using backend LokyBackend with 8 concurrent workers.\n",
      "[Parallel(n_jobs=-1)]: Done  25 tasks      | elapsed:    4.1s\n",
      "[Parallel(n_jobs=-1)]: Done 146 tasks      | elapsed:    7.7s\n",
      "[Parallel(n_jobs=-1)]: Done 349 tasks      | elapsed:   15.2s\n",
      "[Parallel(n_jobs=-1)]: Done 500 out of 500 | elapsed:   19.8s finished\n"
     ]
    },
    {
     "name": "stdout",
     "output_type": "stream",
     "text": [
      "{'n_estimators': 136, 'min_samples_split': 5, 'min_samples_leaf': 1, 'max_features': 'sqrt', 'max_depth': 20, 'bootstrap': False}\n",
      "accuracy_score= 0.9593023255813954\n",
      "recall_score= 0.2222222222222222\n",
      "f1_score 0.3636363636363636\n",
      "precision_score= 1.0\n",
      "              precision    recall  f1-score   support\n",
      "\n",
      "           0       0.96      1.00      0.98       163\n",
      "           1       1.00      0.22      0.36         9\n",
      "\n",
      "   micro avg       0.96      0.96      0.96       172\n",
      "   macro avg       0.98      0.61      0.67       172\n",
      "weighted avg       0.96      0.96      0.95       172\n",
      "\n",
      "tn= 163 , fp= 0 , fn= 7 , tp= 2\n"
     ]
    }
   ],
   "source": [
    "rfc_helper(Xtrain_upsampled,ytrain_upsampled,'recall')"
   ]
  },
  {
   "cell_type": "markdown",
   "metadata": {},
   "source": [
    "### downsampling"
   ]
  },
  {
   "cell_type": "code",
   "execution_count": 72,
   "metadata": {},
   "outputs": [
    {
     "data": {
      "text/plain": [
       "1    46\n",
       "0    46\n",
       "Name: Biopsy, dtype: int64"
      ]
     },
     "execution_count": 72,
     "metadata": {},
     "output_type": "execute_result"
    }
   ],
   "source": [
    "# downsample majority\n",
    "df_majority_downsampled = resample(df_majority,replace = False,n_samples = len(df_minority),random_state = 5) # sample without replacement\n",
    "\n",
    "# combine minority and downsampled majority\n",
    "df_downsampled = pd.concat([df_minority,df_majority_downsampled])\n",
    "\n",
    "# checking counts\n",
    "df_downsampled.Biopsy.value_counts()"
   ]
  },
  {
   "cell_type": "code",
   "execution_count": 73,
   "metadata": {},
   "outputs": [],
   "source": [
    "Xtrain_downsampled = df_downsampled.drop('Biopsy',axis=1)\n",
    "ytrain_downsampled = df_downsampled.Biopsy"
   ]
  },
  {
   "cell_type": "code",
   "execution_count": 91,
   "metadata": {},
   "outputs": [
    {
     "name": "stdout",
     "output_type": "stream",
     "text": [
      "{'C': 0.1}\n",
      "accuracy_score= 0.5988372093023255\n",
      "recall_score= 0.4444444444444444\n",
      "f1_score 0.10389610389610389\n",
      "precision_score= 0.058823529411764705\n",
      "              precision    recall  f1-score   support\n",
      "\n",
      "           0       0.95      0.61      0.74       163\n",
      "           1       0.06      0.44      0.10         9\n",
      "\n",
      "   micro avg       0.60      0.60      0.60       172\n",
      "   macro avg       0.51      0.53      0.42       172\n",
      "weighted avg       0.91      0.60      0.71       172\n",
      "\n",
      "tn= 99 , fp= 64 , fn= 5 , tp= 4\n"
     ]
    }
   ],
   "source": [
    "lrc_helper(Xtrain_downsampled,ytrain_downsampled,'recall')"
   ]
  },
  {
   "cell_type": "code",
   "execution_count": 119,
   "metadata": {},
   "outputs": [
    {
     "name": "stdout",
     "output_type": "stream",
     "text": [
      "{'C': 10, 'kernel': 'linear'}\n",
      "accuracy_score= 0.7383720930232558\n",
      "recall_score= 0.5555555555555556\n",
      "f1_score 0.1818181818181818\n",
      "precision_score= 0.10869565217391304\n",
      "              precision    recall  f1-score   support\n",
      "\n",
      "           0       0.97      0.75      0.84       163\n",
      "           1       0.11      0.56      0.18         9\n",
      "\n",
      "   micro avg       0.74      0.74      0.74       172\n",
      "   macro avg       0.54      0.65      0.51       172\n",
      "weighted avg       0.92      0.74      0.81       172\n",
      "\n",
      "tn= 122 , fp= 41 , fn= 4 , tp= 5\n"
     ]
    }
   ],
   "source": [
    "svm_helper(Xtrain_downsampled,ytrain_downsampled,'recall')"
   ]
  },
  {
   "cell_type": "code",
   "execution_count": 76,
   "metadata": {},
   "outputs": [
    {
     "name": "stdout",
     "output_type": "stream",
     "text": [
      "accuracy_score= 0.5174418604651163\n",
      "recall_score= 0.6666666666666666\n",
      "f1_score 0.12631578947368421\n",
      "precision_score= 0.06976744186046512\n",
      "              precision    recall  f1-score   support\n",
      "\n",
      "           0       0.97      0.51      0.67       163\n",
      "           1       0.07      0.67      0.13         9\n",
      "\n",
      "   micro avg       0.52      0.52      0.52       172\n",
      "   macro avg       0.52      0.59      0.40       172\n",
      "weighted avg       0.92      0.52      0.64       172\n",
      "\n",
      "tn= 83 , fp= 80 , fn= 3 , tp= 6\n"
     ]
    }
   ],
   "source": [
    "dt.fit(Xtrain_downsampled, ytrain_downsampled)\n",
    "\n",
    "# Print the scores from the testing data.\n",
    "helper(dt)"
   ]
  },
  {
   "cell_type": "code",
   "execution_count": 105,
   "metadata": {},
   "outputs": [
    {
     "name": "stdout",
     "output_type": "stream",
     "text": [
      "Fitting 5 folds for each of 100 candidates, totalling 500 fits\n"
     ]
    },
    {
     "name": "stderr",
     "output_type": "stream",
     "text": [
      "[Parallel(n_jobs=-1)]: Using backend LokyBackend with 8 concurrent workers.\n",
      "[Parallel(n_jobs=-1)]: Done  34 tasks      | elapsed:    0.8s\n",
      "[Parallel(n_jobs=-1)]: Done 276 tasks      | elapsed:    5.3s\n"
     ]
    },
    {
     "name": "stdout",
     "output_type": "stream",
     "text": [
      "{'n_estimators': 10, 'min_samples_split': 10, 'min_samples_leaf': 1, 'max_features': 'auto', 'max_depth': 60, 'bootstrap': False}\n",
      "accuracy_score= 0.6395348837209303\n",
      "recall_score= 0.7777777777777778\n",
      "f1_score 0.1842105263157895\n",
      "precision_score= 0.1044776119402985\n",
      "              precision    recall  f1-score   support\n",
      "\n",
      "           0       0.98      0.63      0.77       163\n",
      "           1       0.10      0.78      0.18         9\n",
      "\n",
      "   micro avg       0.64      0.64      0.64       172\n",
      "   macro avg       0.54      0.70      0.48       172\n",
      "weighted avg       0.94      0.64      0.74       172\n",
      "\n",
      "tn= 103 , fp= 60 , fn= 2 , tp= 7\n"
     ]
    },
    {
     "name": "stderr",
     "output_type": "stream",
     "text": [
      "[Parallel(n_jobs=-1)]: Done 500 out of 500 | elapsed:    9.7s finished\n"
     ]
    }
   ],
   "source": [
    "rfc_helper(Xtrain_downsampled,ytrain_downsampled,'recall')"
   ]
  },
  {
   "cell_type": "markdown",
   "metadata": {},
   "source": [
    "# Generate synthetic samples"
   ]
  },
  {
   "cell_type": "code",
   "execution_count": 79,
   "metadata": {},
   "outputs": [],
   "source": [
    "#Generate synthetic samples\n",
    "from imblearn.over_sampling import SMOTE\n",
    "\n",
    "sm = SMOTE(random_state=5, ratio=1.0)\n",
    "Xtrain_new, ytrain_new = sm.fit_sample(Xtrain, ytrain)"
   ]
  },
  {
   "cell_type": "code",
   "execution_count": 120,
   "metadata": {},
   "outputs": [
    {
     "name": "stdout",
     "output_type": "stream",
     "text": [
      "{'C': 1}\n",
      "accuracy_score= 0.7790697674418605\n",
      "recall_score= 0.5555555555555556\n",
      "f1_score 0.20833333333333334\n",
      "precision_score= 0.1282051282051282\n",
      "              precision    recall  f1-score   support\n",
      "\n",
      "           0       0.97      0.79      0.87       163\n",
      "           1       0.13      0.56      0.21         9\n",
      "\n",
      "   micro avg       0.78      0.78      0.78       172\n",
      "   macro avg       0.55      0.67      0.54       172\n",
      "weighted avg       0.93      0.78      0.84       172\n",
      "\n",
      "tn= 129 , fp= 34 , fn= 4 , tp= 5\n"
     ]
    }
   ],
   "source": [
    "lrc_helper(Xtrain_new,ytrain_new,'recall')"
   ]
  },
  {
   "cell_type": "code",
   "execution_count": 121,
   "metadata": {},
   "outputs": [
    {
     "name": "stdout",
     "output_type": "stream",
     "text": [
      "{'C': 100, 'kernel': 'rbf'}\n",
      "accuracy_score= 0.7558139534883721\n",
      "recall_score= 0.3333333333333333\n",
      "f1_score 0.125\n",
      "precision_score= 0.07692307692307693\n",
      "              precision    recall  f1-score   support\n",
      "\n",
      "           0       0.95      0.78      0.86       163\n",
      "           1       0.08      0.33      0.12         9\n",
      "\n",
      "   micro avg       0.76      0.76      0.76       172\n",
      "   macro avg       0.52      0.56      0.49       172\n",
      "weighted avg       0.91      0.76      0.82       172\n",
      "\n",
      "tn= 127 , fp= 36 , fn= 6 , tp= 3\n"
     ]
    }
   ],
   "source": [
    "svm_helper(Xtrain_new,ytrain_new,'recall')"
   ]
  },
  {
   "cell_type": "code",
   "execution_count": 84,
   "metadata": {},
   "outputs": [
    {
     "name": "stdout",
     "output_type": "stream",
     "text": [
      "accuracy_score= 0.8604651162790697\n",
      "recall_score= 0.2222222222222222\n",
      "f1_score 0.14285714285714285\n",
      "precision_score= 0.10526315789473684\n",
      "              precision    recall  f1-score   support\n",
      "\n",
      "           0       0.95      0.90      0.92       163\n",
      "           1       0.11      0.22      0.14         9\n",
      "\n",
      "   micro avg       0.86      0.86      0.86       172\n",
      "   macro avg       0.53      0.56      0.53       172\n",
      "weighted avg       0.91      0.86      0.88       172\n",
      "\n",
      "tn= 146 , fp= 17 , fn= 7 , tp= 2\n"
     ]
    }
   ],
   "source": [
    "# desicion tree\n",
    "dt.fit(Xtrain_new, ytrain_new)\n",
    "\n",
    "# Print the accuracy from the testing data.\n",
    "helper(dt)"
   ]
  },
  {
   "cell_type": "code",
   "execution_count": 122,
   "metadata": {},
   "outputs": [
    {
     "name": "stdout",
     "output_type": "stream",
     "text": [
      "Fitting 5 folds for each of 100 candidates, totalling 500 fits\n"
     ]
    },
    {
     "name": "stderr",
     "output_type": "stream",
     "text": [
      "[Parallel(n_jobs=-1)]: Using backend LokyBackend with 8 concurrent workers.\n",
      "[Parallel(n_jobs=-1)]: Done  25 tasks      | elapsed:    1.2s\n",
      "[Parallel(n_jobs=-1)]: Done 146 tasks      | elapsed:    5.1s\n",
      "[Parallel(n_jobs=-1)]: Done 349 tasks      | elapsed:   13.2s\n"
     ]
    },
    {
     "name": "stdout",
     "output_type": "stream",
     "text": [
      "{'n_estimators': 31, 'min_samples_split': 2, 'min_samples_leaf': 1, 'max_features': 'sqrt', 'max_depth': 90, 'bootstrap': True}\n",
      "accuracy_score= 0.936046511627907\n",
      "recall_score= 0.2222222222222222\n",
      "f1_score 0.26666666666666666\n",
      "precision_score= 0.3333333333333333\n",
      "              precision    recall  f1-score   support\n",
      "\n",
      "           0       0.96      0.98      0.97       163\n",
      "           1       0.33      0.22      0.27         9\n",
      "\n",
      "   micro avg       0.94      0.94      0.94       172\n",
      "   macro avg       0.65      0.60      0.62       172\n",
      "weighted avg       0.93      0.94      0.93       172\n",
      "\n",
      "tn= 159 , fp= 4 , fn= 7 , tp= 2\n"
     ]
    },
    {
     "name": "stderr",
     "output_type": "stream",
     "text": [
      "[Parallel(n_jobs=-1)]: Done 500 out of 500 | elapsed:   18.7s finished\n"
     ]
    }
   ],
   "source": [
    "rfc_helper(Xtrain_new,ytrain_new,'recall')"
   ]
  },
  {
   "cell_type": "code",
   "execution_count": null,
   "metadata": {},
   "outputs": [],
   "source": []
  }
 ],
 "metadata": {
  "kernelspec": {
   "display_name": "Python 3",
   "language": "python",
   "name": "python3"
  },
  "language_info": {
   "codemirror_mode": {
    "name": "ipython",
    "version": 3
   },
   "file_extension": ".py",
   "mimetype": "text/x-python",
   "name": "python",
   "nbconvert_exporter": "python",
   "pygments_lexer": "ipython3",
   "version": "3.7.3"
  }
 },
 "nbformat": 4,
 "nbformat_minor": 2
}
